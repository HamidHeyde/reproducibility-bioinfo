{
 "cells": [
  {
   "cell_type": "markdown",
   "metadata": {},
   "source": [
    "<html>\n",
    "<body>\n",
    "<div style=\"width:100%;\">\n",
    "    In this project and through the following pipeline, \n",
    "    we tried to reproduce the results of the \n",
    "    <a style=\"color: teal;cursor: pointer;padding: 2px;\" \n",
    "       href=\"https://journals.plos.org/plosone/article?id=10.1371/journal.pone.0100278\">TrSSP</a> \n",
    "    paper using python(3.7.0), Scikit-Learn, Numpy, Pandas and Matplotlib.\n",
    "</div>\n",
    "<div style=\"width:100%;\">\n",
    "    <h2 style=\"padding: 10px 0 10px 0px;border-bottom:3px solid teal; color: teal;\">\n",
    "        Before running the notebook\n",
    "    </h2>\n",
    "    <div style=\"padding-top:10px;\">\n",
    "    Install Python 3 with all mentioned dependencies above.\n",
    "    </div>\n",
    "   \n",
    "</div>\n",
    "<div style=\"width:100%;\">\n",
    "    <h2 style=\"padding: 10px 0 10px 0px;border-bottom:3px solid teal; color: teal;\">Dataset\n",
    "    </h2>\n",
    "    <div style=\"padding: 10px 0 10px 0px;text-align:justify;\">\n",
    "        According to the paper, the TrSSP authors have put together two datasets:\n",
    "        <ul style=\"padding:10px;color:teal;list-style: square inside;\">\n",
    "            <li style=\"padding:10px;\">\" We first constructed a substrate-specific transport protein dataset that consisted of seven classes of transporters exclusive to a particular substrate, i.e., amino acid transporters/oligopeptides, anion transporters, cation transporters, electron transporters, protein/mRNA transporters, sugar transporters, and other transporters ... \"</li>\n",
    "            \n",
    "<li style=\"padding:10px;\">\" We further evaluated the performance of these models on 180 independent proteins ... \"</li></ul>\n",
    "\n",
    "<div>So, for the purpose of our study, we programmed \n",
    "    <div style=\"margin:0 5px;padding:5px;display:inline;color:white;background-color:teal;\">download.py</div> to download all the sequences form NCBI database by submitting a HTTP request (The protein IDs and the sequences are available at \n",
    "<a style=\"color: teal;cursor: pointer;padding: 2px;\" \n",
    "       href=\"http://bioinfo.noble.org/TrSSP/?dowhat=Datasets\">TrSSp</a> website) We put all those IDs (Accession Numbers) together and categorized them through different classes in a \n",
    "    <div style=\"margin:0 5px;padding:5px;display:inline;color:white;background-color:teal;\">Json</div> file for both Train/Test dataset and Independent dataset.\n",
    "    </div>\n",
    "    </div>\n",
    "</div>   \n",
    "\n",
    "</body>\n",
    "\n",
    "</html>"
   ]
  },
  {
   "cell_type": "markdown",
   "metadata": {},
   "source": [
    "<html>\n",
    "<body>\n",
    "<div style=\"width:100%;\">\n",
    "    <h3 style=\"padding: 10px 0 10px 0px;\n",
    "        border-bottom:3px solid teal; \n",
    "        color: teal;\">Downloading train/test dataset\n",
    "    </h3>\n",
    "    <div style=\"padding: 10px 0 10px 0px;\">\n",
    "        The dataset has been already downloaded into \" /dataset/trainTest \" folder. \n",
    "        <div style=\"margin:0 5px;padding:5px;display:inline;color:white;background-color:teal;\">\n",
    "        You can skip this script and move on to the next section. </div>\n",
    "        You can also run this line which will re-download and replace the dataset. \n",
    "        Depending on your connection speed, that can take from 10 to 20 minutes.\n",
    "    </div>\n",
    "</div>    \n",
    "</body>\n",
    "\n",
    "</html>"
   ]
  },
  {
   "cell_type": "code",
   "execution_count": null,
   "metadata": {},
   "outputs": [],
   "source": [
    "!python3 download.py trainTest"
   ]
  },
  {
   "cell_type": "markdown",
   "metadata": {},
   "source": [
    "<html>\n",
    "<body>\n",
    "<div style=\"width:100%;\">\n",
    "    <h3 style=\"padding: 10px 0 10px 0px;\n",
    "        border-bottom:3px solid teal; \n",
    "        color: teal;\">Extracting AAC feature from train/test dataset\n",
    "    </h3>\n",
    "    <div style=\"padding: 10px 0 10px 0px;\">\n",
    "        Amino Acid Composition (aac) the number of amino acids of each type normalized with the total number of residues. Following code would generate this feature in \n",
    "        <div style=\"margin:0 5px;padding:5px;display:inline;color:white;background-color:teal;\"> .csv </div> format for both 7-class and 8-class based model which would then be copied to \" /features/trainTest/\" folder.\n",
    "    </div>\n",
    "</div>    \n",
    "</body>\n",
    "\n",
    "</html>"
   ]
  },
  {
   "cell_type": "code",
   "execution_count": null,
   "metadata": {},
   "outputs": [],
   "source": [
    "!python extractFeature.py aac trainTest"
   ]
  },
  {
   "cell_type": "code",
   "execution_count": null,
   "metadata": {},
   "outputs": [],
   "source": []
  }
 ],
 "metadata": {
  "kernelspec": {
   "display_name": "Python 3",
   "language": "python",
   "name": "python3"
  },
  "language_info": {
   "codemirror_mode": {
    "name": "ipython",
    "version": 3
   },
   "file_extension": ".py",
   "mimetype": "text/x-python",
   "name": "python",
   "nbconvert_exporter": "python",
   "pygments_lexer": "ipython3",
   "version": "3.7.0"
  }
 },
 "nbformat": 4,
 "nbformat_minor": 2
}
