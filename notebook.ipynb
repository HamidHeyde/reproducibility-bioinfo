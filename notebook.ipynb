{
 "cells": [
  {
   "cell_type": "code",
   "execution_count": null,
   "metadata": {},
   "outputs": [],
   "source": [
    "import os\n",
    "import pandas as pd"
   ]
  },
  {
   "cell_type": "markdown",
   "metadata": {},
   "source": [
    "<html>\n",
    "<body>\n",
    "<div style=\"width:100%;\">\n",
    "    In this project and through the following pipeline, \n",
    "    we tried to reproduce the results of the \n",
    "    <a style=\"color: teal;cursor: pointer;padding: 2px;\" \n",
    "       href=\"https://journals.plos.org/plosone/article?id=10.1371/journal.pone.0100278\">TrSSP</a> \n",
    "    paper using python(3.7.0), Scikit-Learn, Numpy, Pandas and Matplotlib.\n",
    "</div>\n",
    "<div style=\"width:100%;\">\n",
    "    <h2 style=\"padding: 10px 0 10px 0px;border-bottom:3px solid teal; color: teal;\">\n",
    "        Before running the notebook\n",
    "    </h2>\n",
    "    <div style=\"padding-top:10px;\">\n",
    "    Install Python 3 with all mentioned dependencies above.\n",
    "    </div>\n",
    "   \n",
    "</div>\n",
    "<div style=\"width:100%;\">\n",
    "    <h2 style=\"padding: 10px 0 10px 0px;border-bottom:3px solid teal; color: teal;\">Dataset\n",
    "    </h2>\n",
    "    <div style=\"padding: 10px 0 10px 0px;text-align:justify;\">\n",
    "        According to the paper, the TrSSP authors have put together two datasets:\n",
    "        <ul style=\"padding:10px;color:teal;list-style: square inside;\">\n",
    "            <li style=\"padding:10px;\">\" We first constructed a substrate-specific transport protein dataset that consisted of seven classes of transporters exclusive to a particular substrate, i.e., amino acid transporters/oligopeptides, anion transporters, cation transporters, electron transporters, protein/mRNA transporters, sugar transporters, and other transporters ... \"</li>\n",
    "            \n",
    "<li style=\"padding:10px;\">\" We further evaluated the performance of these models on 180 independent proteins ... \"</li></ul>\n",
    "\n",
    "<div>So, for the purpose of our study, we programmed \n",
    "    <div style=\"margin:0 5px;padding:5px;display:inline;color:white;background-color:teal;\">download.py</div> to download all the sequences form NCBI database by submitting a HTTP request (The protein IDs and the sequences are available at \n",
    "<a style=\"color: teal;cursor: pointer;padding: 2px;\" \n",
    "       href=\"http://bioinfo.noble.org/TrSSP/?dowhat=Datasets\">TrSSp</a> website) We put all those IDs (Accession Numbers) together and categorized them through different classes in a \n",
    "    <div style=\"margin:0 5px;padding:5px;display:inline;color:white;background-color:teal;\">Json</div> file for both Train/Test dataset and Independent dataset.\n",
    "    </div>\n",
    "    </div>\n",
    "</div>   \n",
    "\n",
    "</body>\n",
    "\n",
    "</html>"
   ]
  },
  {
   "cell_type": "markdown",
   "metadata": {},
   "source": [
    "<html>\n",
    "<body>\n",
    "<div style=\"width:100%;\">\n",
    "    <h3 style=\"padding: 10px 0 10px 0px;\n",
    "        border-bottom:3px solid teal; \n",
    "        color: teal;\">Downloading train/test dataset\n",
    "    </h3>\n",
    "    <div style=\"padding: 10px 0 10px 0px;\">\n",
    "        The dataset has been already downloaded into \" /dataset/trainTest \" folder. \n",
    "        <div style=\"margin:0 5px;padding:5px;display:inline;color:white;background-color:teal;\">\n",
    "        You can skip this script and move on to the next section. </div>\n",
    "        You can also run this line which will re-download and replace the dataset. \n",
    "        Depending on your connection speed, that can take from 10 to 20 minutes.\n",
    "    </div>\n",
    "</div>    \n",
    "</body>\n",
    "\n",
    "</html>"
   ]
  },
  {
   "cell_type": "code",
   "execution_count": null,
   "metadata": {},
   "outputs": [],
   "source": [
    "!python3 download.py trainTest"
   ]
  },
  {
   "cell_type": "markdown",
   "metadata": {},
   "source": [
    "<html>\n",
    "<body>\n",
    "<div style=\"width:100%;\">\n",
    "    <h3 style=\"padding: 10px 0 10px 0px;\n",
    "        border-bottom:3px solid teal; \n",
    "        color: teal;\">Extracting features from Train/Test dataset\n",
    "    </h3>\n",
    "    <div style=\"padding: 10px 0 10px 0px;\">\n",
    "        Throught following steps, we will extract following 5 features from the Train/Test dataset (available in /dataset/trainTest/ folder) in <div style=\"margin:0 5px;padding:5px;display:inline;color:white;background-color:teal;\"> .csv </div>  format which will be then all copied to \"/features/trainTest/ folder\". The outputs for each step are two .csv files for both 7-class (all seven transporter classes) and 8-class (all seven classes plus non-transporters) based model (i.e. <div style=\"margin:0 5px;padding:5px;display:inline;color:white;background-color:teal;\">aac7.csv , aac8.csv </div> for AAC feature)\n",
    "           </div>\n",
    "       <ol style=\"list-style:number;color:teal;\">\n",
    "            <li><div style=\"color:black;\">Amino Acid Composition (AAC)</div></li>\n",
    "            <li><div style=\"color:black;\">Dipeptid Comosition (DPC)</div></li>\n",
    "            <li><div style=\"color:black;\">Physico-chemical Composition (PHC)</div></li>\n",
    "           <li><div style=\"color:black;\">Biochemical Comosition (AAI)</div></li>\n",
    "           <li><div style=\"color:black;\">Position-Specific Scoring Matrix (PSSM)</div></li>\n",
    "        </ol>\n",
    "</div>    \n",
    "</body>\n",
    "\n",
    "</html>"
   ]
  },
  {
   "cell_type": "markdown",
   "metadata": {},
   "source": [
    "<html>\n",
    "<body>\n",
    "<div style=\"width:100%;\">\n",
    "    <h3 style=\"padding: 10px 0 10px 0px;\n",
    "        border-bottom:3px solid teal; \n",
    "        color: teal;\">Amino Acid Comosition (AAC)\n",
    "    </h3>\n",
    "</div>    \n",
    "</body>\n",
    "\n",
    "</html>"
   ]
  },
  {
   "cell_type": "code",
   "execution_count": null,
   "metadata": {},
   "outputs": [],
   "source": [
    "!python3 extractFeature.py aac trainTest"
   ]
  },
  {
   "cell_type": "code",
   "execution_count": null,
   "metadata": {},
   "outputs": [],
   "source": [
    "pd.read_csv(os.path.join(os.getcwd(),\"features\",\"trainTest\",\"aac7.csv\"))"
   ]
  },
  {
   "cell_type": "markdown",
   "metadata": {},
   "source": [
    "<html>\n",
    "<body>\n",
    "<div style=\"width:100%;\">\n",
    "    <h3 style=\"padding: 10px 0 10px 0px;\n",
    "        border-bottom:3px solid teal; \n",
    "        color: teal;\">Dipeptid Composition (DPC)\n",
    "    </h3>\n",
    "</div>    \n",
    "</body>\n",
    "\n",
    "</html>"
   ]
  },
  {
   "cell_type": "code",
   "execution_count": null,
   "metadata": {},
   "outputs": [],
   "source": [
    "!python3 extractFeature.py dpc trainTest"
   ]
  },
  {
   "cell_type": "code",
   "execution_count": null,
   "metadata": {},
   "outputs": [],
   "source": [
    "pd.read_csv(os.path.join(os.getcwd(),\"features\",\"trainTest\",\"dpc7.csv\"))"
   ]
  },
  {
   "cell_type": "markdown",
   "metadata": {},
   "source": [
    "<html>\n",
    "<body>\n",
    "<div style=\"width:100%;\">\n",
    "    <h3 style=\"padding: 10px 0 10px 0px;\n",
    "        border-bottom:3px solid teal; \n",
    "        color: teal;\">Physico-Chemical Composition (PHC)\n",
    "    </h3>\n",
    "</div>    \n",
    "</body>\n",
    "\n",
    "</html>"
   ]
  },
  {
   "cell_type": "code",
   "execution_count": null,
   "metadata": {},
   "outputs": [],
   "source": [
    "!python3 extractFeature.py phc trainTest"
   ]
  },
  {
   "cell_type": "code",
   "execution_count": null,
   "metadata": {},
   "outputs": [],
   "source": [
    "pd.read_csv(os.path.join(os.getcwd(),\"features\",\"trainTest\",\"phc7.csv\"))"
   ]
  },
  {
   "cell_type": "markdown",
   "metadata": {},
   "source": []
  }
 ],
 "metadata": {
  "kernelspec": {
   "display_name": "Python 3",
   "language": "python",
   "name": "python3"
  },
  "language_info": {
   "codemirror_mode": {
    "name": "ipython",
    "version": 3
   },
   "file_extension": ".py",
   "mimetype": "text/x-python",
   "name": "python",
   "nbconvert_exporter": "python",
   "pygments_lexer": "ipython3",
   "version": "3.7.0"
  }
 },
 "nbformat": 4,
 "nbformat_minor": 2
}
