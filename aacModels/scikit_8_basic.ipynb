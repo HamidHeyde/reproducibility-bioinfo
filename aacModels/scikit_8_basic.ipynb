{
 "cells": [
  {
   "cell_type": "markdown",
   "metadata": {},
   "source": [
    "### Imports"
   ]
  },
  {
   "cell_type": "code",
   "execution_count": 2,
   "metadata": {},
   "outputs": [],
   "source": [
    "import os\n",
    "import pandas as pd\n",
    "import numpy as np\n",
    "from sklearn.svm import SVC\n",
    "from sklearn.metrics import matthews_corrcoef\n",
    "from sklearn.preprocessing import LabelEncoder\n",
    "from sklearn.multiclass import OneVsRestClassifier\n",
    "from sklearn.model_selection import train_test_split\n",
    "from sklearn.metrics import accuracy_score\n",
    "from sklearn.metrics import precision_recall_fscore_support\n",
    "from sklearn.model_selection import KFold"
   ]
  },
  {
   "cell_type": "markdown",
   "metadata": {},
   "source": [
    "### Functions"
   ]
  },
  {
   "cell_type": "code",
   "execution_count": 3,
   "metadata": {},
   "outputs": [],
   "source": [
    "#Accuracy\n",
    "def _accuracy(actual, predicted):\n",
    "    return accuracy_score(actual, predicted)\n",
    "\n",
    "#Sensitivity(Recall)\n",
    "def _sens(actual, predicted):\n",
    "    return precision_recall_fscore_support(actual, predicted,average='weighted')[1]\n",
    "\n",
    "#MCC\n",
    "def _mcc(actual, predicted):\n",
    "    return matthews_corrcoef(actual,predicted)\n",
    "\n",
    "#Sub-Smapling Data\n",
    "def _downSample(_dataset, _size):\n",
    "\n",
    "    # Creating the unique class names and then sorting\n",
    "    _classes=sorted(_dataset['label'].unique())\n",
    "    # Putting each class in a differnet data frame\n",
    "    _data_by_class=[_dataset[_dataset['label']==_class] for _class in _classes ]\n",
    "    \n",
    "    _folds_by_class_=[]\n",
    "    _num_of_folds=5\n",
    "    # Creating folds from each class\n",
    "    for _item in _data_by_class:\n",
    "        np.random.seed(2)\n",
    "        _item=_item.reindex(np.random.permutation(_item.index))\n",
    "        co=_size//_num_of_folds\n",
    "        _folds_by_class_.append([_item[(i*co):((i*co)+co)] for i in range(_num_of_folds)])\n",
    "    \n",
    "    # Creating Folds from the whole feature\n",
    "    # by concatenation of each fold from each class\n",
    "    _folds_=[\n",
    "        pd.concat([_folds_by_class_[i][j] for i in range(len(_folds_by_class_))]) \n",
    "        for j in range(_num_of_folds)\n",
    "        ]\n",
    "    \n",
    "    # Train,Test out of 5 folds\n",
    "    _train_test_=[]\n",
    "    for ii in range(_num_of_folds):\n",
    "        _test__ =_folds_[ii]\n",
    "        _train__=pd.concat([_folds_[xx] for xx in range(_num_of_folds) if xx!=ii])\n",
    "        _train_test_.append([_train__,_test__])\n",
    "    \n",
    "    return _train_test_\n",
    "\n",
    "#Splits Data into [X_train, X_test, y_train, y_test]\n",
    "def _split_(_train,_test):\n",
    "    \n",
    "    y_test = _test['label'].values\n",
    "    del _test['label']\n",
    "    X_test = _test.values\n",
    "    \n",
    "    y_train = _train['label'].values\n",
    "    del _train['label']\n",
    "    X_train = _train.values\n",
    "\n",
    "    \n",
    "    return [X_train, X_test, y_train, y_test]\n",
    "\n",
    "#Prediciton\n",
    "def _predict(_train_test,_g,_c):\n",
    "    \n",
    "    X_train, X_test, y_train, y_test = _train_test\n",
    "    \n",
    "    _gamma,_C =_g,_c\n",
    "    #classifier = OneVsRestClassifier( SVC(kernel='rbf', gamma=_gamma,C=_C) )\n",
    "    classifier=SVC(kernel='rbf', gamma=_gamma,C=_C, decision_function_shape='ovr')    \n",
    "\n",
    "    #Training the algorithm on training data\n",
    "    classifier.fit(X_train, y_train)\n",
    "\n",
    "    # Predicting the Test set results\n",
    "    y_pred = classifier.predict(X_test)\n",
    "\n",
    "    return [y_test.copy(),y_pred.copy()]"
   ]
  },
  {
   "cell_type": "markdown",
   "metadata": {},
   "source": [
    "### Main Program"
   ]
  },
  {
   "cell_type": "code",
   "execution_count": 4,
   "metadata": {},
   "outputs": [],
   "source": [
    "kf = KFold(n_splits=5)"
   ]
  },
  {
   "cell_type": "code",
   "execution_count": 7,
   "metadata": {},
   "outputs": [],
   "source": [
    "data8=pd.read_csv(os.path.join('dataset','aac8.csv'))"
   ]
  },
  {
   "cell_type": "code",
   "execution_count": 8,
   "metadata": {},
   "outputs": [],
   "source": [
    "y = data8['label'].values\n",
    "le=LabelEncoder()\n",
    "y=le.fit_transform(y)\n",
    "data8['label']=y"
   ]
  },
  {
   "cell_type": "markdown",
   "metadata": {},
   "source": [
    "### Results"
   ]
  },
  {
   "cell_type": "markdown",
   "metadata": {},
   "source": [
    "#### No Shuffling"
   ]
  },
  {
   "cell_type": "code",
   "execution_count": 31,
   "metadata": {},
   "outputs": [
    {
     "name": "stderr",
     "output_type": "stream",
     "text": [
      "/Library/Frameworks/Python.framework/Versions/3.7/lib/python3.7/site-packages/sklearn/metrics/classification.py:1143: UndefinedMetricWarning: Precision and F-score are ill-defined and being set to 0.0 in labels with no predicted samples.\n",
      "  'precision', 'predicted', average, warn_for)\n",
      "/Library/Frameworks/Python.framework/Versions/3.7/lib/python3.7/site-packages/sklearn/metrics/classification.py:1145: UndefinedMetricWarning: Recall and F-score are ill-defined and being set to 0.0 in labels with no true samples.\n",
      "  'recall', 'true', average, warn_for)\n",
      "/Library/Frameworks/Python.framework/Versions/3.7/lib/python3.7/site-packages/sklearn/metrics/classification.py:1143: UndefinedMetricWarning: Precision and F-score are ill-defined and being set to 0.0 in labels with no predicted samples.\n",
      "  'precision', 'predicted', average, warn_for)\n",
      "/Library/Frameworks/Python.framework/Versions/3.7/lib/python3.7/site-packages/sklearn/metrics/classification.py:1145: UndefinedMetricWarning: Recall and F-score are ill-defined and being set to 0.0 in labels with no true samples.\n",
      "  'recall', 'true', average, warn_for)\n",
      "/Library/Frameworks/Python.framework/Versions/3.7/lib/python3.7/site-packages/sklearn/metrics/classification.py:1143: UndefinedMetricWarning: Precision and F-score are ill-defined and being set to 0.0 in labels with no predicted samples.\n",
      "  'precision', 'predicted', average, warn_for)\n",
      "/Library/Frameworks/Python.framework/Versions/3.7/lib/python3.7/site-packages/sklearn/metrics/classification.py:1145: UndefinedMetricWarning: Recall and F-score are ill-defined and being set to 0.0 in labels with no true samples.\n",
      "  'recall', 'true', average, warn_for)\n",
      "/Library/Frameworks/Python.framework/Versions/3.7/lib/python3.7/site-packages/sklearn/metrics/classification.py:543: RuntimeWarning: invalid value encountered in double_scalars\n",
      "  mcc = cov_ytyp / np.sqrt(cov_ytyt * cov_ypyp)\n",
      "/Library/Frameworks/Python.framework/Versions/3.7/lib/python3.7/site-packages/sklearn/metrics/classification.py:1145: UndefinedMetricWarning: Recall and F-score are ill-defined and being set to 0.0 in labels with no true samples.\n",
      "  'recall', 'true', average, warn_for)\n"
     ]
    },
    {
     "name": "stdout",
     "output_type": "stream",
     "text": [
      "_acc =  0.39057971014492754\n",
      "_mcc =  0.05675550557214313\n",
      "_sens =  0.39057971014492754\n"
     ]
    },
    {
     "name": "stderr",
     "output_type": "stream",
     "text": [
      "/Library/Frameworks/Python.framework/Versions/3.7/lib/python3.7/site-packages/sklearn/metrics/classification.py:543: RuntimeWarning: invalid value encountered in double_scalars\n",
      "  mcc = cov_ytyp / np.sqrt(cov_ytyt * cov_ypyp)\n",
      "/Library/Frameworks/Python.framework/Versions/3.7/lib/python3.7/site-packages/sklearn/metrics/classification.py:1145: UndefinedMetricWarning: Recall and F-score are ill-defined and being set to 0.0 in labels with no true samples.\n",
      "  'recall', 'true', average, warn_for)\n"
     ]
    }
   ],
   "source": [
    "kf = KFold(n_splits=5)\n",
    "res=[]\n",
    "for train, test in kf.split(data8.copy()):\n",
    "\n",
    "    df_train=pd.DataFrame(data8.iloc[train])\n",
    "    df_test=pd.DataFrame(data8.iloc[test])\n",
    "    y8_test,y8_pred=_predict(_split_(df_train.copy(),df_test.copy()).copy(),0.02,4.1)\n",
    "    \n",
    "    res.append([_accuracy(y8_test.copy(),y8_pred.copy()),\n",
    "                  _mcc(y8_test.copy(),y8_pred.copy()),\n",
    "                  _sens(y8_test.copy(),y8_pred.copy())\n",
    "              ])\n",
    "\n",
    "# print(aacuracy, MCC, Sensiticity)\n",
    "print('_acc = ',sum([_num[0] for _num in res])/5)\n",
    "print('_mcc = ',sum([_num[1] for _num in res])/5)\n",
    "print('_sens = ',sum([_num[2] for _num in res])/5)"
   ]
  },
  {
   "cell_type": "markdown",
   "metadata": {},
   "source": [
    "#### On Shuffled Dataset"
   ]
  },
  {
   "cell_type": "code",
   "execution_count": 33,
   "metadata": {},
   "outputs": [
    {
     "name": "stdout",
     "output_type": "stream",
     "text": [
      "_acc =  0.5376811594202899\n",
      "_mcc =  0.34319881640471295\n",
      "_sens =  0.5376811594202899\n"
     ]
    }
   ],
   "source": [
    "np.random.seed(2)\n",
    "data8s=data8.copy()\n",
    "data8s=data8s.reindex(np.random.permutation(data8s.index))\n",
    "\n",
    "kf = KFold(n_splits=5)\n",
    "_res=[]\n",
    "for train, test in kf.split(data8s.copy()):\n",
    "    \n",
    "    df_train=pd.DataFrame(data8s.iloc[train])\n",
    "    df_test=pd.DataFrame(data8s.iloc[test])\n",
    "    y8_test,y8_pred=_predict(_split_(df_train.copy(),df_test.copy()).copy(),0.02,4.1)\n",
    "    \n",
    "    _res.append([_accuracy(y8_test.copy(),y8_pred.copy()),\n",
    "                  _mcc(y8_test.copy(),y8_pred.copy()),\n",
    "                  _sens(y8_test.copy(),y8_pred.copy())\n",
    "              ])\n",
    "\n",
    "# print(aacuracy, MCC, Sensiticity)\n",
    "print('_acc = ',sum([_num[0] for _num in _res])/5)\n",
    "print('_mcc = ',sum([_num[1] for _num in _res])/5)\n",
    "print('_sens = ',sum([_num[2] for _num in _res])/5)"
   ]
  },
  {
   "cell_type": "markdown",
   "metadata": {},
   "source": [
    "#### On Down-Sampled Dataset"
   ]
  },
  {
   "cell_type": "code",
   "execution_count": 36,
   "metadata": {},
   "outputs": [
    {
     "name": "stdout",
     "output_type": "stream",
     "text": [
      "_acc =  0.38541666666666663\n",
      "_mcc =  0.2994410825953192\n",
      "_sens =  0.38541666666666663\n"
     ]
    }
   ],
   "source": [
    "_train_test__ = _downSample(data8.copy(),60)\n",
    "_res__=[]\n",
    "for train, test in _train_test__:\n",
    "\n",
    "    y8_test__,y8_pred__=_predict(_split_(train.copy(),test.copy()),0.02,4.1)\n",
    "    \n",
    "    _res__.append([_accuracy(y8_test__.copy(),y8_pred__.copy()),\n",
    "          _mcc(y8_test__.copy(),y8_pred__.copy()),\n",
    "          _sens(y8_test__.copy(),y8_pred__.copy())\n",
    "              ])\n",
    "\n",
    "print('_acc = ',sum([_num[0] for _num in _res__])/5)\n",
    "print('_mcc = ',sum([_num[1] for _num in _res__])/5)\n",
    "print('_sens = ',sum([_num[2] for _num in _res__])/5)"
   ]
  },
  {
   "cell_type": "code",
   "execution_count": null,
   "metadata": {},
   "outputs": [],
   "source": []
  }
 ],
 "metadata": {
  "kernelspec": {
   "display_name": "Python 3",
   "language": "python",
   "name": "python3"
  },
  "language_info": {
   "codemirror_mode": {
    "name": "ipython",
    "version": 3
   },
   "file_extension": ".py",
   "mimetype": "text/x-python",
   "name": "python",
   "nbconvert_exporter": "python",
   "pygments_lexer": "ipython3",
   "version": "3.7.0"
  }
 },
 "nbformat": 4,
 "nbformat_minor": 2
}
