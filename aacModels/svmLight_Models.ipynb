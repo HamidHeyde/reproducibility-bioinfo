{
 "cells": [
  {
   "cell_type": "code",
   "execution_count": 1,
   "metadata": {},
   "outputs": [],
   "source": [
    "import os\n",
    "import pandas as pd\n",
    "#Functions\n",
    "from helpers_svmLight import _data2trainTest, _trainTest2File, _svmLightclassify, _evaluate"
   ]
  },
  {
   "cell_type": "markdown",
   "metadata": {},
   "source": [
    "### Config"
   ]
  },
  {
   "cell_type": "code",
   "execution_count": 2,
   "metadata": {},
   "outputs": [],
   "source": [
    "config = {\n",
    "    \"featuresPath\": os.path.join(\"features\", \"{}\", \"{}\"),\n",
    "    \"SVMLightFeaturesPath\": os.path.join(\"svmLight\", \"features\",\"{}\",\"{}\",\"{}\", \"{}\"),\n",
    "    \"SVMLightLearningParams\":\"-z c -j {} -t 2 -g {}\",\n",
    "    \"SVMLightApplicationPath\": os.path.join(\"svmLight\", \"application\", \"{}\"),\n",
    "    \"SVMLightFeaturesFileTarget\": os.path.join(\"svmLight\", \"features\",\"{}\",\"{}\",\"{}\", \"{}\",\"{}\")\n",
    "}\n",
    "\n",
    "\n",
    "\n",
    "_params_={}\n",
    "_params_['aac7Global'] = [ [0.02,4.5] for i in range(7) ]\n",
    "_params_['aac7Local']=[ [0.03,4.6],[0.04,5.0],[0.02,4.6], [0.02,4.0],[0.03,4.0],[0.04,5.0],[0.03,5.0] ]\n",
    "_params_['aac8Global'] =[ [0.01,4.0] for i in range(8) ]\n",
    "_params_['aac8Local'] =[ [0.03,4.6],[0.04,5.0],[0.02,4.6], [0.02,4.0],[0.02,4.8],[0.03,4.0],[0.04,5.0],[0.03,5.0] ]"
   ]
  },
  {
   "cell_type": "markdown",
   "metadata": {},
   "source": [
    "## 7-Class based models"
   ]
  },
  {
   "cell_type": "code",
   "execution_count": 3,
   "metadata": {},
   "outputs": [],
   "source": [
    "featureFile=\"aac7\"\n",
    "_num_of_folds=5\n",
    "dataset=\"trainTest\""
   ]
  },
  {
   "cell_type": "code",
   "execution_count": 4,
   "metadata": {},
   "outputs": [],
   "source": [
    "data=pd.read_csv(os.path.join('dataset',(featureFile+'.csv')))\n",
    "classes=sorted(data['label'].unique())"
   ]
  },
  {
   "cell_type": "markdown",
   "metadata": {},
   "source": [
    "#### Train/Test sets in 3 modes (Normal, Shuffled, Downsampled) in 5 folds "
   ]
  },
  {
   "cell_type": "code",
   "execution_count": 5,
   "metadata": {},
   "outputs": [],
   "source": [
    "#Train_Test Folds creation\n",
    "train_test_normal=_data2trainTest(data.copy(),classes.copy(),_num_of_folds,'normal')\n",
    "train_test_shuffled=_data2trainTest(data.copy(),classes.copy(),_num_of_folds,'shuffle')\n",
    "train_test_downSampled=_data2trainTest(data.copy(),classes.copy(),_num_of_folds,'downSample')"
   ]
  },
  {
   "cell_type": "markdown",
   "metadata": {},
   "source": [
    "### Gamma & Cost (different for each class)"
   ]
  },
  {
   "cell_type": "markdown",
   "metadata": {},
   "source": [
    "#### Normal Dataset"
   ]
  },
  {
   "cell_type": "code",
   "execution_count": 6,
   "metadata": {},
   "outputs": [],
   "source": [
    "#Train Test Folds to File\n",
    "_feature=\"aac7LocalNormal\"\n",
    "# _trainTest2File(train_test_normal.copy(),classes.copy(),_num_of_folds,_feature)\n",
    "# _svmLightclassify(classes.copy(),_num_of_folds,_params_['aac7Local'],_feature)"
   ]
  },
  {
   "cell_type": "code",
   "execution_count": 7,
   "metadata": {
    "collapsed": true
   },
   "outputs": [
    {
     "name": "stdout",
     "output_type": "stream",
     "text": [
      "Processing Fold [0]\n",
      "Processing Fold [1]\n",
      "Processing Fold [2]\n",
      "Processing Fold [3]\n",
      "Processing Fold [4]\n",
      "==================================\n",
      "==================================\n",
      "Total Macro for problem\n",
      "[82.28971428571428, 43.76685714285715, 84.31085714285715, 31.15]\n",
      "Mac Distance =  0.3701885653643702\n",
      "----------------------------------\n",
      "Total Micro for problem\n",
      "[82.28799999999998, 56.538, 86.58200000000002, 37.995999999999995]\n",
      "Mic Distance =  0.25371635895227584\n",
      "==================================\n",
      "==================================\n"
     ]
    }
   ],
   "source": [
    "#Evaluation (By Class) \n",
    "_evaluate(classes.copy(),_num_of_folds,_feature,'class')"
   ]
  },
  {
   "cell_type": "code",
   "execution_count": 40,
   "metadata": {
    "collapsed": true
   },
   "outputs": [
    {
     "name": "stdout",
     "output_type": "stream",
     "text": [
      "Processing Fold [0]\n",
      "Processing Fold [1]\n",
      "Processing Fold [2]\n",
      "Processing Fold [3]\n",
      "Processing Fold [4]\n",
      "==================================\n",
      "==================================\n",
      "Total Macro for problem\n",
      "[72.52771428571427, 66.81514285714285, 68.36914285714286, 27.689714285714285]\n",
      "Mac Distance =  0.20534166675597643\n",
      "----------------------------------\n",
      "Total Micro for problem\n",
      "[72.53, 77.694, 71.66600000000001, 36.11999999999999]\n",
      "Mic Distance =  0.10524226907474021\n",
      "==================================\n",
      "==================================\n"
     ]
    }
   ],
   "source": [
    "#Evaluation (By Class) [Threshold = -0.5]\n",
    "_evaluate(classes.copy(),_num_of_folds,_feature,'class',-0.47)"
   ]
  },
  {
   "cell_type": "code",
   "execution_count": 9,
   "metadata": {
    "collapsed": true
   },
   "outputs": [
    {
     "name": "stdout",
     "output_type": "stream",
     "text": [
      "Processing Fold [0]\n",
      "Processing Fold [1]\n",
      "Processing Fold [2]\n",
      "Processing Fold [3]\n",
      "Processing Fold [4]\n",
      "==================================\n",
      "==================================\n",
      "Total Macro for problem\n",
      "[84.87171428571428, 34.05914285714286, 89.5837142857143, 28.722857142857144]\n",
      "Mac Distance =  0.48350838225011405\n",
      "----------------------------------\n",
      "Total Micro for problem\n",
      "[84.87199999999999, 47.052, 91.174, 38.226]\n",
      "Mic Distance =  0.3561393294765407\n",
      "==================================\n",
      "==================================\n"
     ]
    }
   ],
   "source": [
    "#Evaluation (By Fold)\n",
    "_evaluate(classes.copy(),_num_of_folds,_feature,'fold')"
   ]
  },
  {
   "cell_type": "markdown",
   "metadata": {},
   "source": [
    "#### Down-Sampled Dataset"
   ]
  },
  {
   "cell_type": "code",
   "execution_count": 15,
   "metadata": {},
   "outputs": [],
   "source": [
    "#Train Test Folds to File\n",
    "_feature=\"aac7LocalDownSampled\"\n",
    "# _trainTest2File(train_test_downSampled.copy(),classes.copy(),_num_of_folds,_feature)\n",
    "# _svmLightclassify(classes.copy(),_num_of_folds,_params_['aac7Local'],_feature)"
   ]
  },
  {
   "cell_type": "code",
   "execution_count": 16,
   "metadata": {
    "collapsed": true
   },
   "outputs": [
    {
     "name": "stdout",
     "output_type": "stream",
     "text": [
      "Processing Fold [0]\n",
      "Processing Fold [1]\n",
      "Processing Fold [2]\n",
      "Processing Fold [3]\n",
      "Processing Fold [4]\n",
      "==================================\n",
      "==================================\n",
      "Total Macro for problem\n",
      "[84.08114285714285, 39.286, 91.5477142857143, 32.04285714285715]\n",
      "Mac Distance =  0.43454098532420476\n",
      "----------------------------------\n",
      "Total Micro for problem\n",
      "[84.078, 39.288, 91.55000000000001, 32.194]\n",
      "Mic Distance =  0.43404375631956754\n",
      "==================================\n",
      "==================================\n"
     ]
    }
   ],
   "source": [
    "#Evaluation (By Class) \n",
    "_evaluate(classes.copy(),_num_of_folds,_feature,'class')"
   ]
  },
  {
   "cell_type": "code",
   "execution_count": 20,
   "metadata": {
    "collapsed": true
   },
   "outputs": [
    {
     "name": "stdout",
     "output_type": "stream",
     "text": [
      "Processing Fold [0]\n",
      "Processing Fold [1]\n",
      "Processing Fold [2]\n",
      "Processing Fold [3]\n",
      "Processing Fold [4]\n",
      "==================================\n",
      "==================================\n",
      "Total Macro for problem\n",
      "[69.45685714285715, 70.00057142857143, 69.36428571428571, 28.874857142857145]\n",
      "Mac Distance =  0.18657426116860878\n",
      "----------------------------------\n",
      "Total Micro for problem\n",
      "[69.45800000000001, 70.002, 69.36599999999999, 28.688]\n",
      "Mic Distance =  0.1882811960871293\n",
      "==================================\n",
      "==================================\n"
     ]
    }
   ],
   "source": [
    "#Evaluation (By Class) [Threshold = -0.5]\n",
    "_evaluate(classes.copy(),_num_of_folds,_feature,'class',-0.53)"
   ]
  },
  {
   "cell_type": "code",
   "execution_count": 18,
   "metadata": {
    "collapsed": true
   },
   "outputs": [
    {
     "name": "stdout",
     "output_type": "stream",
     "text": [
      "Processing Fold [0]\n",
      "Processing Fold [1]\n",
      "Processing Fold [2]\n",
      "Processing Fold [3]\n",
      "Processing Fold [4]\n",
      "==================================\n",
      "==================================\n",
      "Total Macro for problem\n",
      "[84.35228571428573, 45.238, 90.87228571428571, 34.98571428571428]\n",
      "Mac Distance =  0.3755800890377879\n",
      "----------------------------------\n",
      "Total Micro for problem\n",
      "[84.35, 45.24, 90.874, 36.112]\n",
      "Mic Distance =  0.37241864346458275\n",
      "==================================\n",
      "==================================\n"
     ]
    }
   ],
   "source": [
    "_evaluate(classes.copy(),_num_of_folds,_feature,'fold')"
   ]
  },
  {
   "cell_type": "markdown",
   "metadata": {},
   "source": [
    "#### Shuffled Dataset"
   ]
  },
  {
   "cell_type": "code",
   "execution_count": 21,
   "metadata": {},
   "outputs": [],
   "source": [
    "#Train Test Folds to File\n",
    "_feature=\"aac7LocalShuffled\"\n",
    "# _trainTest2File(train_test_shuffled.copy(),classes.copy(),_num_of_folds,_feature)\n",
    "# _svmLightclassify(classes.copy(),_num_of_folds,_params_['aac7Local'],_feature)"
   ]
  },
  {
   "cell_type": "code",
   "execution_count": 22,
   "metadata": {
    "collapsed": true
   },
   "outputs": [
    {
     "name": "stdout",
     "output_type": "stream",
     "text": [
      "Processing Fold [0]\n",
      "Processing Fold [1]\n",
      "Processing Fold [2]\n",
      "Processing Fold [3]\n",
      "Processing Fold [4]\n",
      "==================================\n",
      "==================================\n",
      "Total Macro for problem\n",
      "[81.73942857142856, 43.275999999999996, 84.06571428571428, 28.967714285714287]\n",
      "Mac Distance =  0.38158184030294157\n",
      "----------------------------------\n",
      "Total Micro for problem\n",
      "[81.74000000000001, 54.742, 86.24000000000002, 36.092]\n",
      "Mic Distance =  0.26981796233757327\n",
      "==================================\n",
      "==================================\n"
     ]
    }
   ],
   "source": [
    "#Evaluation (By Class) \n",
    "_evaluate(classes.copy(),_num_of_folds,_feature,'class')"
   ]
  },
  {
   "cell_type": "code",
   "execution_count": 28,
   "metadata": {
    "collapsed": true
   },
   "outputs": [
    {
     "name": "stdout",
     "output_type": "stream",
     "text": [
      "Processing Fold [0]\n",
      "Processing Fold [1]\n",
      "Processing Fold [2]\n",
      "Processing Fold [3]\n",
      "Processing Fold [4]\n",
      "==================================\n",
      "==================================\n",
      "Total Macro for problem\n",
      "[72.06971428571428, 66.89628571428571, 68.16057142857144, 27.268]\n",
      "Mac Distance =  0.2096176474110003\n",
      "----------------------------------\n",
      "Total Micro for problem\n",
      "[72.066, 76.154, 71.39000000000001, 34.802]\n",
      "Mic Distance =  0.11567557909947974\n",
      "==================================\n",
      "==================================\n"
     ]
    }
   ],
   "source": [
    "#Evaluation (By Class) [Threshold = -0.5]\n",
    "_evaluate(classes.copy(),_num_of_folds,_feature,'class',-0.52)"
   ]
  },
  {
   "cell_type": "code",
   "execution_count": 23,
   "metadata": {
    "collapsed": true
   },
   "outputs": [
    {
     "name": "stdout",
     "output_type": "stream",
     "text": [
      "Processing Fold [0]\n",
      "Processing Fold [1]\n",
      "Processing Fold [2]\n",
      "Processing Fold [3]\n",
      "Processing Fold [4]\n",
      "==================================\n",
      "==================================\n",
      "Total Macro for problem\n",
      "[84.32228571428571, 33.52199999999999, 89.14914285714286, 27.783714285714286]\n",
      "Mac Distance =  0.4887809133268741\n",
      "----------------------------------\n",
      "Total Micro for problem\n",
      "[84.322, 45.128, 90.85600000000001, 35.982]\n",
      "Mic Distance =  0.3734857464482414\n",
      "==================================\n",
      "==================================\n"
     ]
    }
   ],
   "source": [
    "_evaluate(classes.copy(),_num_of_folds,_feature,'fold')"
   ]
  },
  {
   "cell_type": "markdown",
   "metadata": {},
   "source": [
    "### Gamma & Cost (same for all classes)"
   ]
  },
  {
   "cell_type": "markdown",
   "metadata": {},
   "source": [
    "#### Normal Dataset"
   ]
  },
  {
   "cell_type": "code",
   "execution_count": 29,
   "metadata": {},
   "outputs": [],
   "source": [
    "#Train Test Folds to File\n",
    "_feature=\"aac7GlobalNormal\"\n",
    "# _trainTest2File(train_test_normal.copy(),classes.copy(),_num_of_folds,_feature)\n",
    "# _svmLightclassify(classes.copy(),_num_of_folds,_params_['aac7Global'],_feature)"
   ]
  },
  {
   "cell_type": "code",
   "execution_count": 30,
   "metadata": {
    "collapsed": true
   },
   "outputs": [
    {
     "name": "stdout",
     "output_type": "stream",
     "text": [
      "Processing Fold [0]\n",
      "Processing Fold [1]\n",
      "Processing Fold [2]\n",
      "Processing Fold [3]\n",
      "Processing Fold [4]\n",
      "==================================\n",
      "==================================\n",
      "Total Macro for problem\n",
      "[80.73285714285714, 46.64028571428571, 81.69600000000001, 30.807428571428574]\n",
      "Mac Distance =  0.33706096599873453\n",
      "----------------------------------\n",
      "Total Micro for problem\n",
      "[80.732, 60.0, 84.186, 37.248000000000005]\n",
      "Mic Distance =  0.21456030014893257\n",
      "==================================\n",
      "==================================\n"
     ]
    }
   ],
   "source": [
    "#Evaluation (By Class) \n",
    "_evaluate(classes.copy(),_num_of_folds,_feature,'class')"
   ]
  },
  {
   "cell_type": "code",
   "execution_count": 37,
   "metadata": {
    "collapsed": true
   },
   "outputs": [
    {
     "name": "stdout",
     "output_type": "stream",
     "text": [
      "Processing Fold [0]\n",
      "Processing Fold [1]\n",
      "Processing Fold [2]\n",
      "Processing Fold [3]\n",
      "Processing Fold [4]\n",
      "==================================\n",
      "==================================\n",
      "Total Macro for problem\n",
      "[74.10285714285713, 63.422857142857154, 70.70857142857143, 28.13171428571429]\n",
      "Mac Distance =  0.21254724413116974\n",
      "----------------------------------\n",
      "Total Micro for problem\n",
      "[74.102, 75.126, 73.93199999999999, 36.48800000000001]\n",
      "Mic Distance =  0.09557337913875383\n",
      "==================================\n",
      "==================================\n"
     ]
    }
   ],
   "source": [
    "#Evaluation (By Class) [Threshold = -0.5]\n",
    "_evaluate(classes.copy(),_num_of_folds,_feature,'class',-0.41)"
   ]
  },
  {
   "cell_type": "code",
   "execution_count": 41,
   "metadata": {
    "collapsed": true
   },
   "outputs": [
    {
     "name": "stdout",
     "output_type": "stream",
     "text": [
      "Processing Fold [0]\n",
      "Processing Fold [1]\n",
      "Processing Fold [2]\n",
      "Processing Fold [3]\n",
      "Processing Fold [4]\n",
      "==================================\n",
      "==================================\n",
      "Total Macro for problem\n",
      "[84.54285714285714, 33.593428571428575, 89.48085714285713, 27.364000000000004]\n",
      "Mac Distance =  0.4913308204192746\n",
      "----------------------------------\n",
      "Total Micro for problem\n",
      "[84.542, 45.898, 90.982, 36.879999999999995]\n",
      "Mic Distance =  0.3663364235235148\n",
      "==================================\n",
      "==================================\n"
     ]
    }
   ],
   "source": [
    "## Evaluation (By Fold)\n",
    "_evaluate(classes.copy(),_num_of_folds,_feature,'fold')"
   ]
  },
  {
   "cell_type": "markdown",
   "metadata": {},
   "source": [
    "#### Down-Sampled Dataset"
   ]
  },
  {
   "cell_type": "code",
   "execution_count": 42,
   "metadata": {},
   "outputs": [],
   "source": [
    "#Train Test Folds to File\n",
    "_feature=\"aac7GlobalDownSampled\"\n",
    "# _trainTest2File(train_test_downSampled.copy(),classes.copy(),_num_of_folds,_feature)\n",
    "# _svmLightclassify(classes.copy(),_num_of_folds,_params_['aac7Global'],_feature)"
   ]
  },
  {
   "cell_type": "code",
   "execution_count": 43,
   "metadata": {
    "collapsed": true
   },
   "outputs": [
    {
     "name": "stdout",
     "output_type": "stream",
     "text": [
      "Processing Fold [0]\n",
      "Processing Fold [1]\n",
      "Processing Fold [2]\n",
      "Processing Fold [3]\n",
      "Processing Fold [4]\n",
      "==================================\n",
      "==================================\n",
      "Total Macro for problem\n",
      "[81.90457142857143, 48.332857142857144, 87.4997142857143, 33.44914285714286]\n",
      "Mac Distance =  0.33476655894481927\n",
      "----------------------------------\n",
      "Total Micro for problem\n",
      "[81.902, 48.333999999999996, 87.5, 32.922000000000004]\n",
      "Mic Distance =  0.33676439598033525\n",
      "==================================\n",
      "==================================\n"
     ]
    }
   ],
   "source": [
    "#Evaluation (By Class) \n",
    "_evaluate(classes.copy(),_num_of_folds,_feature,'class')"
   ]
  },
  {
   "cell_type": "code",
   "execution_count": 49,
   "metadata": {
    "collapsed": true
   },
   "outputs": [
    {
     "name": "stdout",
     "output_type": "stream",
     "text": [
      "Processing Fold [0]\n",
      "Processing Fold [1]\n",
      "Processing Fold [2]\n",
      "Processing Fold [3]\n",
      "Processing Fold [4]\n",
      "==================================\n",
      "==================================\n",
      "Total Macro for problem\n",
      "[69.96542857142857, 71.19085714285714, 69.76085714285713, 30.555142857142858]\n",
      "Mac Distance =  0.16634973406798642\n",
      "----------------------------------\n",
      "Total Micro for problem\n",
      "[69.96799999999999, 71.19200000000001, 69.76000000000002, 29.856]\n",
      "Mic Distance =  0.1728542981820238\n",
      "==================================\n",
      "==================================\n"
     ]
    }
   ],
   "source": [
    "#Evaluation (By Class) [Threshold = -0.5]\n",
    "_evaluate(classes.copy(),_num_of_folds,_feature,'class',-0.45)"
   ]
  },
  {
   "cell_type": "code",
   "execution_count": 44,
   "metadata": {
    "collapsed": true
   },
   "outputs": [
    {
     "name": "stdout",
     "output_type": "stream",
     "text": [
      "Processing Fold [0]\n",
      "Processing Fold [1]\n",
      "Processing Fold [2]\n",
      "Processing Fold [3]\n",
      "Processing Fold [4]\n",
      "==================================\n",
      "==================================\n",
      "Total Macro for problem\n",
      "[83.87657142857142, 43.572571428571436, 90.59514285714286, 33.26457142857143]\n",
      "Mac Distance =  0.3914898947792723\n",
      "----------------------------------\n",
      "Total Micro for problem\n",
      "[83.874, 43.574, 90.59400000000001, 34.164]\n",
      "Mic Distance =  0.3886338255993681\n",
      "==================================\n",
      "==================================\n"
     ]
    }
   ],
   "source": [
    "#Evaluation (By Fold)\n",
    "_evaluate(classes.copy(),_num_of_folds,_feature,'fold')"
   ]
  },
  {
   "cell_type": "markdown",
   "metadata": {},
   "source": [
    "#### Shuffled Dataset"
   ]
  },
  {
   "cell_type": "code",
   "execution_count": 50,
   "metadata": {},
   "outputs": [],
   "source": [
    "#Train Test Folds to File\n",
    "_feature=\"aac7GlobalShuffled\"\n",
    "# _trainTest2File(train_test_shuffled.copy(),classes.copy(),_num_of_folds,_feature)\n",
    "# _svmLightclassify(classes.copy(),_num_of_folds,_params_['aac7Global'],_feature)"
   ]
  },
  {
   "cell_type": "code",
   "execution_count": 51,
   "metadata": {
    "collapsed": true
   },
   "outputs": [
    {
     "name": "stdout",
     "output_type": "stream",
     "text": [
      "Processing Fold [0]\n",
      "Processing Fold [1]\n",
      "Processing Fold [2]\n",
      "Processing Fold [3]\n",
      "Processing Fold [4]\n",
      "==================================\n",
      "==================================\n",
      "Total Macro for problem\n",
      "[80.42114285714285, 46.96028571428572, 81.49171428571428, 29.4]\n",
      "Mac Distance =  0.3399028102747212\n",
      "----------------------------------\n",
      "Total Micro for problem\n",
      "[80.424, 59.616, 83.888, 36.542]\n",
      "Mic Distance =  0.21770553506973594\n",
      "==================================\n",
      "==================================\n"
     ]
    }
   ],
   "source": [
    "#Evaluation (By Class) \n",
    "_evaluate(classes.copy(),_num_of_folds,_feature,'class')"
   ]
  },
  {
   "cell_type": "code",
   "execution_count": 59,
   "metadata": {
    "collapsed": true
   },
   "outputs": [
    {
     "name": "stdout",
     "output_type": "stream",
     "text": [
      "Processing Fold [0]\n",
      "Processing Fold [1]\n",
      "Processing Fold [2]\n",
      "Processing Fold [3]\n",
      "Processing Fold [4]\n",
      "==================================\n",
      "==================================\n",
      "Total Macro for problem\n",
      "[70.43942857142856, 70.88171428571428, 65.60771428571428, 26.672857142857147]\n",
      "Mac Distance =  0.21367711477739454\n",
      "----------------------------------\n",
      "Total Micro for problem\n",
      "[70.44000000000001, 79.618, 68.91199999999999, 34.984]\n",
      "Mic Distance =  0.13246967351058123\n",
      "==================================\n",
      "==================================\n"
     ]
    }
   ],
   "source": [
    "#Evaluation (By Class) [Threshold = -0.5]\n",
    "_evaluate(classes.copy(),_num_of_folds,_feature,'class',-0.55)"
   ]
  },
  {
   "cell_type": "code",
   "execution_count": 52,
   "metadata": {
    "collapsed": true
   },
   "outputs": [
    {
     "name": "stdout",
     "output_type": "stream",
     "text": [
      "Processing Fold [0]\n",
      "Processing Fold [1]\n",
      "Processing Fold [2]\n",
      "Processing Fold [3]\n",
      "Processing Fold [4]\n",
      "==================================\n",
      "==================================\n",
      "Total Macro for problem\n",
      "[84.21199999999999, 33.475428571428566, 89.15257142857142, 27.889714285714284]\n",
      "Mac Distance =  0.4885526990311406\n",
      "----------------------------------\n",
      "Total Micro for problem\n",
      "[84.212, 44.74400000000001, 90.792, 35.534000000000006]\n",
      "Mic Distance =  0.3771397565889865\n",
      "==================================\n",
      "==================================\n"
     ]
    }
   ],
   "source": [
    "#Evaluation (By Fold)\n",
    "_evaluate(classes.copy(),_num_of_folds,_feature,'fold')"
   ]
  },
  {
   "cell_type": "markdown",
   "metadata": {},
   "source": [
    "## 8-Class based models"
   ]
  },
  {
   "cell_type": "code",
   "execution_count": 98,
   "metadata": {},
   "outputs": [],
   "source": [
    "featureFile=\"aac8\"\n",
    "_num_of_folds=5\n",
    "dataset=\"trainTest\""
   ]
  },
  {
   "cell_type": "code",
   "execution_count": 99,
   "metadata": {},
   "outputs": [],
   "source": [
    "data=pd.read_csv(os.path.join('dataset',(featureFile+'.csv')))\n",
    "classes=sorted(data['label'].unique())"
   ]
  },
  {
   "cell_type": "markdown",
   "metadata": {},
   "source": [
    "#### Train/Test sets in 3 modes (Normal, Shuffled, Downsampled) in 5 folds "
   ]
  },
  {
   "cell_type": "code",
   "execution_count": 100,
   "metadata": {},
   "outputs": [],
   "source": [
    "#Train_Test Folds creation\n",
    "train_test_normal=_data2trainTest(data.copy(),classes.copy(),_num_of_folds,'normal')\n",
    "train_test_shuffled=_data2trainTest(data.copy(),classes.copy(),_num_of_folds,'shuffle')\n",
    "train_test_downSampled=_data2trainTest(data.copy(),classes.copy(),_num_of_folds,'downSample')"
   ]
  },
  {
   "cell_type": "markdown",
   "metadata": {},
   "source": [
    "### Gamma & Cost (different for each class)"
   ]
  },
  {
   "cell_type": "markdown",
   "metadata": {},
   "source": [
    "#### Normal Dataset"
   ]
  },
  {
   "cell_type": "code",
   "execution_count": 63,
   "metadata": {},
   "outputs": [],
   "source": [
    "#Train Test Folds to File\n",
    "_feature=\"aac8LocalNormal\"\n",
    "# _trainTest2File(train_test_normal.copy(),classes.copy(),_num_of_folds,_feature)\n",
    "# _svmLightclassify(classes.copy(),_num_of_folds,_params_['aac8Local'],_feature)"
   ]
  },
  {
   "cell_type": "code",
   "execution_count": 64,
   "metadata": {
    "collapsed": true
   },
   "outputs": [
    {
     "name": "stdout",
     "output_type": "stream",
     "text": [
      "Processing Fold [0]\n",
      "Processing Fold [1]\n",
      "Processing Fold [2]\n",
      "Processing Fold [3]\n",
      "Processing Fold [4]\n",
      "==================================\n",
      "==================================\n",
      "Total Macro for problem\n",
      "[87.33725000000001, 39.91825, 88.02275, 30.440499999999997]\n",
      "Mac Distance =  0.430395064265089\n",
      "----------------------------------\n",
      "Total Micro for problem\n",
      "[87.338, 64.92999999999999, 90.536, 49.532]\n",
      "Mic Distance =  0.24324943658722012\n",
      "==================================\n",
      "==================================\n"
     ]
    }
   ],
   "source": [
    "#Evaluation (By Class) \n",
    "_evaluate(classes.copy(),_num_of_folds,_feature,'class')"
   ]
  },
  {
   "cell_type": "code",
   "execution_count": 126,
   "metadata": {},
   "outputs": [
    {
     "name": "stdout",
     "output_type": "stream",
     "text": [
      "Processing Fold [0]\n",
      "Processing Fold [1]\n",
      "Processing Fold [2]\n",
      "Processing Fold [3]\n",
      "Processing Fold [4]\n",
      "==================================\n",
      "==================================\n",
      "Total Macro for problem\n",
      "[79.99100000000001, 53.878, 77.02624999999998, 26.297749999999997]\n",
      "Mac Distance =  0.2955024837670574\n",
      "----------------------------------\n",
      "Total Micro for problem\n",
      "[79.99199999999999, 76.15799999999999, 80.538, 42.482000000000006]\n",
      "Mic Distance =  0.1035813767045021\n",
      "==================================\n",
      "==================================\n"
     ]
    }
   ],
   "source": [
    "#Evaluation (By Class) [Threshold = -0.5]\n",
    "_evaluate(classes.copy(),_num_of_folds,_feature,'class',-0.52)"
   ]
  },
  {
   "cell_type": "code",
   "execution_count": 65,
   "metadata": {
    "collapsed": true
   },
   "outputs": [
    {
     "name": "stdout",
     "output_type": "stream",
     "text": [
      "Processing Fold [0]\n",
      "Processing Fold [1]\n",
      "Processing Fold [2]\n",
      "Processing Fold [3]\n",
      "Processing Fold [4]\n",
      "==================================\n",
      "==================================\n",
      "Total Macro for problem\n",
      "[88.9125, 29.8745, 91.65225000000001, 26.216]\n",
      "Mac Distance =  0.5446287407548834\n",
      "----------------------------------\n",
      "Total Micro for problem\n",
      "[88.912, 55.652, 93.66199999999999, 49.315999999999995]\n",
      "Mic Distance =  0.31937201004471255\n",
      "==================================\n",
      "==================================\n"
     ]
    }
   ],
   "source": [
    "#Evaluation (By Fold)\n",
    "_evaluate(classes.copy(),_num_of_folds,_feature,'fold')"
   ]
  },
  {
   "cell_type": "markdown",
   "metadata": {},
   "source": [
    "#### Down Sampled Dataset"
   ]
  },
  {
   "cell_type": "code",
   "execution_count": 71,
   "metadata": {},
   "outputs": [],
   "source": [
    "#Train Test Folds to File\n",
    "_feature=\"aac8LocalDownSampled\"\n",
    "# _trainTest2File(train_test_downSampled.copy(),classes.copy(),_num_of_folds,_feature)\n",
    "# _svmLightclassify(classes.copy(),_num_of_folds,_params_['aac8Local'],_feature)"
   ]
  },
  {
   "cell_type": "code",
   "execution_count": 72,
   "metadata": {
    "collapsed": true
   },
   "outputs": [
    {
     "name": "stdout",
     "output_type": "stream",
     "text": [
      "Processing Fold [0]\n",
      "Processing Fold [1]\n",
      "Processing Fold [2]\n",
      "Processing Fold [3]\n",
      "Processing Fold [4]\n",
      "==================================\n",
      "==================================\n",
      "Total Macro for problem\n",
      "[85.85900000000001, 34.1665, 93.24600000000001, 28.579250000000002]\n",
      "Mac Distance =  0.4990297726401202\n",
      "----------------------------------\n",
      "Total Micro for problem\n",
      "[85.86200000000001, 34.168000000000006, 93.244, 30.034000000000002]\n",
      "Mic Distance =  0.49412639476150233\n",
      "==================================\n",
      "==================================\n"
     ]
    }
   ],
   "source": [
    "#Evaluation (By Class) \n",
    "_evaluate(classes.copy(),_num_of_folds,_feature,'class')"
   ]
  },
  {
   "cell_type": "code",
   "execution_count": 77,
   "metadata": {
    "collapsed": true
   },
   "outputs": [
    {
     "name": "stdout",
     "output_type": "stream",
     "text": [
      "Processing Fold [0]\n",
      "Processing Fold [1]\n",
      "Processing Fold [2]\n",
      "Processing Fold [3]\n",
      "Processing Fold [4]\n",
      "==================================\n",
      "==================================\n",
      "Total Macro for problem\n",
      "[68.9315, 71.87525000000001, 68.51275000000001, 27.983749999999997]\n",
      "Mac Distance =  0.19431015836479062\n",
      "----------------------------------\n",
      "Total Micro for problem\n",
      "[68.93199999999999, 71.87400000000001, 68.51199999999999, 27.742]\n",
      "Mic Distance =  0.19655606528418304\n",
      "==================================\n",
      "==================================\n"
     ]
    }
   ],
   "source": [
    "#Evaluation (By Class) [Threshold = -0.5]\n",
    "_evaluate(classes.copy(),_num_of_folds,_feature,'class',-0.61)"
   ]
  },
  {
   "cell_type": "code",
   "execution_count": 74,
   "metadata": {
    "collapsed": true
   },
   "outputs": [
    {
     "name": "stdout",
     "output_type": "stream",
     "text": [
      "Processing Fold [0]\n",
      "Processing Fold [1]\n",
      "Processing Fold [2]\n",
      "Processing Fold [3]\n",
      "Processing Fold [4]\n",
      "==================================\n",
      "==================================\n",
      "Total Macro for problem\n",
      "[84.84400000000001, 39.37525, 91.34125, 29.4495]\n",
      "Mac Distance =  0.4438361809693978\n",
      "----------------------------------\n",
      "Total Micro for problem\n",
      "[84.846, 39.374, 91.338, 30.712]\n",
      "Mic Distance =  0.4392862711262441\n",
      "==================================\n",
      "==================================\n"
     ]
    }
   ],
   "source": [
    "#Evaluation (By Fold)\n",
    "_evaluate(classes.copy(),_num_of_folds,_feature,'fold')"
   ]
  },
  {
   "cell_type": "markdown",
   "metadata": {},
   "source": [
    "#### Shuffled Dataset"
   ]
  },
  {
   "cell_type": "code",
   "execution_count": 78,
   "metadata": {},
   "outputs": [],
   "source": [
    "#Train Test Folds to File\n",
    "_feature=\"aac8LocalShuffled\"\n",
    "# _trainTest2File(train_test_shuffled.copy(),classes.copy(),_num_of_folds,_feature)\n",
    "# _svmLightclassify(classes.copy(),_num_of_folds,_params_['aac8Local'],_feature)"
   ]
  },
  {
   "cell_type": "code",
   "execution_count": 79,
   "metadata": {
    "collapsed": true
   },
   "outputs": [
    {
     "name": "stdout",
     "output_type": "stream",
     "text": [
      "Processing Fold [0]\n",
      "Processing Fold [1]\n",
      "Processing Fold [2]\n",
      "Processing Fold [3]\n",
      "Processing Fold [4]\n",
      "==================================\n",
      "==================================\n",
      "Total Macro for problem\n",
      "[87.0205, 38.81374999999999, 87.7175, 28.954250000000002]\n",
      "Mac Distance =  0.44287058985949845\n",
      "----------------------------------\n",
      "Total Micro for problem\n",
      "[87.02, 63.986000000000004, 90.31, 48.410000000000004]\n",
      "Mic Distance =  0.24247793631586356\n",
      "==================================\n",
      "==================================\n"
     ]
    }
   ],
   "source": [
    "#Evaluation (By Class) \n",
    "_evaluate(classes.copy(),_num_of_folds,_feature,'class')"
   ]
  },
  {
   "cell_type": "code",
   "execution_count": 89,
   "metadata": {
    "collapsed": true
   },
   "outputs": [
    {
     "name": "stdout",
     "output_type": "stream",
     "text": [
      "Processing Fold [0]\n",
      "Processing Fold [1]\n",
      "Processing Fold [2]\n",
      "Processing Fold [3]\n",
      "Processing Fold [4]\n",
      "==================================\n",
      "==================================\n",
      "Total Macro for problem\n",
      "[77.71775, 63.55400000000001, 74.14025000000001, 27.915999999999997]\n",
      "Mac Distance =  0.2160605533467412\n",
      "----------------------------------\n",
      "Total Micro for problem\n",
      "[77.718, 79.93, 77.40400000000001, 41.468]\n",
      "Mic Distance =  0.09041447008084495\n",
      "==================================\n",
      "==================================\n"
     ]
    }
   ],
   "source": [
    "#Evaluation (By Class) [Threshold = -0.5]\n",
    "_evaluate(classes.copy(),_num_of_folds,_feature,'class',-0.62)"
   ]
  },
  {
   "cell_type": "code",
   "execution_count": 81,
   "metadata": {
    "collapsed": true
   },
   "outputs": [
    {
     "name": "stdout",
     "output_type": "stream",
     "text": [
      "Processing Fold [0]\n",
      "Processing Fold [1]\n",
      "Processing Fold [2]\n",
      "Processing Fold [3]\n",
      "Processing Fold [4]\n",
      "==================================\n",
      "==================================\n",
      "Total Macro for problem\n",
      "[88.44224999999999, 27.8565, 91.28875000000001, 23.0225]\n",
      "Mac Distance =  0.5709845033032858\n",
      "----------------------------------\n",
      "Total Micro for problem\n",
      "[88.44200000000001, 53.76800000000001, 93.39600000000002, 47.166000000000004]\n",
      "Mic Distance =  0.32567426364390556\n",
      "==================================\n",
      "==================================\n"
     ]
    }
   ],
   "source": [
    "#Evaluation (By Fold)\n",
    "_evaluate(classes.copy(),_num_of_folds,_feature,'fold')"
   ]
  },
  {
   "cell_type": "markdown",
   "metadata": {},
   "source": [
    "### Gamma & Cost (same for all classes)"
   ]
  },
  {
   "cell_type": "markdown",
   "metadata": {},
   "source": [
    "#### Normal Dataset"
   ]
  },
  {
   "cell_type": "code",
   "execution_count": 101,
   "metadata": {},
   "outputs": [],
   "source": [
    "#Train Test Folds to File\n",
    "_feature=\"aac8GlobalNormal\"\n",
    "# _trainTest2File(train_test_normal.copy(),classes.copy(),_num_of_folds,_feature)\n",
    "# _svmLightclassify(classes.copy(),_num_of_folds,_params_['aac8Global'],_feature)"
   ]
  },
  {
   "cell_type": "code",
   "execution_count": 102,
   "metadata": {
    "collapsed": true
   },
   "outputs": [
    {
     "name": "stdout",
     "output_type": "stream",
     "text": [
      "Processing Fold [0]\n",
      "Processing Fold [1]\n",
      "Processing Fold [2]\n",
      "Processing Fold [3]\n",
      "Processing Fold [4]\n",
      "==================================\n",
      "==================================\n",
      "Total Macro for problem\n",
      "[86.22250000000001, 34.7895, 86.71, 25.362000000000002]\n",
      "Mac Distance =  0.48503395865650495\n",
      "----------------------------------\n",
      "Total Micro for problem\n",
      "[86.22200000000001, 63.408, 89.482, 46.408]\n",
      "Mic Distance =  0.23383797724065272\n",
      "==================================\n",
      "==================================\n"
     ]
    }
   ],
   "source": [
    "#Evaluation (By Class) \n",
    "_evaluate(classes.copy(),_num_of_folds,_feature,'class')"
   ]
  },
  {
   "cell_type": "code",
   "execution_count": 103,
   "metadata": {
    "collapsed": true
   },
   "outputs": [
    {
     "name": "stdout",
     "output_type": "stream",
     "text": [
      "Processing Fold [0]\n",
      "Processing Fold [1]\n",
      "Processing Fold [2]\n",
      "Processing Fold [3]\n",
      "Processing Fold [4]\n",
      "==================================\n",
      "==================================\n",
      "Total Macro for problem\n",
      "[79.74575, 56.8745, 76.47075, 29.019500000000004]\n",
      "Mac Distance =  0.2551356872577806\n",
      "----------------------------------\n",
      "Total Micro for problem\n",
      "[79.74600000000001, 77.97, 80.0, 43.064]\n",
      "Mic Distance =  0.10083795515578449\n",
      "==================================\n",
      "==================================\n"
     ]
    }
   ],
   "source": [
    "#Evaluation (By Class) [Threshold = -0.5]\n",
    "_evaluate(classes.copy(),_num_of_folds,_feature,'class',-0.54)"
   ]
  },
  {
   "cell_type": "code",
   "execution_count": 104,
   "metadata": {
    "collapsed": true
   },
   "outputs": [
    {
     "name": "stdout",
     "output_type": "stream",
     "text": [
      "Processing Fold [0]\n",
      "Processing Fold [1]\n",
      "Processing Fold [2]\n",
      "Processing Fold [3]\n",
      "Processing Fold [4]\n",
      "==================================\n",
      "==================================\n",
      "Total Macro for problem\n",
      "[88.5135, 25.933500000000002, 91.35400000000001, 22.657]\n",
      "Mac Distance =  0.588667247220363\n",
      "----------------------------------\n",
      "Total Micro for problem\n",
      "[88.514, 54.056, 93.436, 47.494]\n",
      "Mic Distance =  0.3245462376919505\n",
      "==================================\n",
      "==================================\n"
     ]
    }
   ],
   "source": [
    "#Evaluation (By Fold)\n",
    "_evaluate(classes.copy(),_num_of_folds,_feature,'fold')"
   ]
  },
  {
   "cell_type": "markdown",
   "metadata": {},
   "source": [
    "#### Down Sampled Dataset"
   ]
  },
  {
   "cell_type": "code",
   "execution_count": 105,
   "metadata": {
    "collapsed": true
   },
   "outputs": [
    {
     "name": "stdout",
     "output_type": "stream",
     "text": [
      "Processing fold [ 0 ]\n",
      "Processing fold [ 1 ]\n",
      "Processing fold [ 2 ]\n",
      "Processing fold [ 3 ]\n",
      "Processing fold [ 4 ]\n",
      ">>>> [ 0.01 , 4.0 ] <<<<\n",
      "Learning from [ fold0 > amino ] on [ aac8GlobalDownSampled ]\n",
      "Classifying for [ fold0 > amino ] on [ aac8GlobalDownSampled ]\n",
      ">>>> [ 0.01 , 4.0 ] <<<<\n",
      "Learning from [ fold1 > amino ] on [ aac8GlobalDownSampled ]\n",
      "Classifying for [ fold1 > amino ] on [ aac8GlobalDownSampled ]\n",
      ">>>> [ 0.01 , 4.0 ] <<<<\n",
      "Learning from [ fold2 > amino ] on [ aac8GlobalDownSampled ]\n",
      "Classifying for [ fold2 > amino ] on [ aac8GlobalDownSampled ]\n",
      ">>>> [ 0.01 , 4.0 ] <<<<\n",
      "Learning from [ fold3 > amino ] on [ aac8GlobalDownSampled ]\n",
      "Classifying for [ fold3 > amino ] on [ aac8GlobalDownSampled ]\n",
      ">>>> [ 0.01 , 4.0 ] <<<<\n",
      "Learning from [ fold4 > amino ] on [ aac8GlobalDownSampled ]\n",
      "Classifying for [ fold4 > amino ] on [ aac8GlobalDownSampled ]\n",
      ">>>> [ 0.01 , 4.0 ] <<<<\n",
      "Learning from [ fold0 > anion ] on [ aac8GlobalDownSampled ]\n",
      "Classifying for [ fold0 > anion ] on [ aac8GlobalDownSampled ]\n",
      ">>>> [ 0.01 , 4.0 ] <<<<\n",
      "Learning from [ fold1 > anion ] on [ aac8GlobalDownSampled ]\n",
      "Classifying for [ fold1 > anion ] on [ aac8GlobalDownSampled ]\n",
      ">>>> [ 0.01 , 4.0 ] <<<<\n",
      "Learning from [ fold2 > anion ] on [ aac8GlobalDownSampled ]\n",
      "Classifying for [ fold2 > anion ] on [ aac8GlobalDownSampled ]\n",
      ">>>> [ 0.01 , 4.0 ] <<<<\n",
      "Learning from [ fold3 > anion ] on [ aac8GlobalDownSampled ]\n",
      "Classifying for [ fold3 > anion ] on [ aac8GlobalDownSampled ]\n",
      ">>>> [ 0.01 , 4.0 ] <<<<\n",
      "Learning from [ fold4 > anion ] on [ aac8GlobalDownSampled ]\n",
      "Classifying for [ fold4 > anion ] on [ aac8GlobalDownSampled ]\n",
      ">>>> [ 0.01 , 4.0 ] <<<<\n",
      "Learning from [ fold0 > cation ] on [ aac8GlobalDownSampled ]\n",
      "Classifying for [ fold0 > cation ] on [ aac8GlobalDownSampled ]\n",
      ">>>> [ 0.01 , 4.0 ] <<<<\n",
      "Learning from [ fold1 > cation ] on [ aac8GlobalDownSampled ]\n",
      "Classifying for [ fold1 > cation ] on [ aac8GlobalDownSampled ]\n",
      ">>>> [ 0.01 , 4.0 ] <<<<\n",
      "Learning from [ fold2 > cation ] on [ aac8GlobalDownSampled ]\n",
      "Classifying for [ fold2 > cation ] on [ aac8GlobalDownSampled ]\n",
      ">>>> [ 0.01 , 4.0 ] <<<<\n",
      "Learning from [ fold3 > cation ] on [ aac8GlobalDownSampled ]\n",
      "Classifying for [ fold3 > cation ] on [ aac8GlobalDownSampled ]\n",
      ">>>> [ 0.01 , 4.0 ] <<<<\n",
      "Learning from [ fold4 > cation ] on [ aac8GlobalDownSampled ]\n",
      "Classifying for [ fold4 > cation ] on [ aac8GlobalDownSampled ]\n",
      ">>>> [ 0.01 , 4.0 ] <<<<\n",
      "Learning from [ fold0 > electron ] on [ aac8GlobalDownSampled ]\n",
      "Classifying for [ fold0 > electron ] on [ aac8GlobalDownSampled ]\n",
      ">>>> [ 0.01 , 4.0 ] <<<<\n",
      "Learning from [ fold1 > electron ] on [ aac8GlobalDownSampled ]\n",
      "Classifying for [ fold1 > electron ] on [ aac8GlobalDownSampled ]\n",
      ">>>> [ 0.01 , 4.0 ] <<<<\n",
      "Learning from [ fold2 > electron ] on [ aac8GlobalDownSampled ]\n",
      "Classifying for [ fold2 > electron ] on [ aac8GlobalDownSampled ]\n",
      ">>>> [ 0.01 , 4.0 ] <<<<\n",
      "Learning from [ fold3 > electron ] on [ aac8GlobalDownSampled ]\n",
      "Classifying for [ fold3 > electron ] on [ aac8GlobalDownSampled ]\n",
      ">>>> [ 0.01 , 4.0 ] <<<<\n",
      "Learning from [ fold4 > electron ] on [ aac8GlobalDownSampled ]\n",
      "Classifying for [ fold4 > electron ] on [ aac8GlobalDownSampled ]\n",
      ">>>> [ 0.01 , 4.0 ] <<<<\n",
      "Learning from [ fold0 > nonTransporter ] on [ aac8GlobalDownSampled ]\n",
      "Classifying for [ fold0 > nonTransporter ] on [ aac8GlobalDownSampled ]\n",
      ">>>> [ 0.01 , 4.0 ] <<<<\n",
      "Learning from [ fold1 > nonTransporter ] on [ aac8GlobalDownSampled ]\n",
      "Classifying for [ fold1 > nonTransporter ] on [ aac8GlobalDownSampled ]\n",
      ">>>> [ 0.01 , 4.0 ] <<<<\n",
      "Learning from [ fold2 > nonTransporter ] on [ aac8GlobalDownSampled ]\n",
      "Classifying for [ fold2 > nonTransporter ] on [ aac8GlobalDownSampled ]\n",
      ">>>> [ 0.01 , 4.0 ] <<<<\n",
      "Learning from [ fold3 > nonTransporter ] on [ aac8GlobalDownSampled ]\n",
      "Classifying for [ fold3 > nonTransporter ] on [ aac8GlobalDownSampled ]\n",
      ">>>> [ 0.01 , 4.0 ] <<<<\n",
      "Learning from [ fold4 > nonTransporter ] on [ aac8GlobalDownSampled ]\n",
      "Classifying for [ fold4 > nonTransporter ] on [ aac8GlobalDownSampled ]\n",
      ">>>> [ 0.01 , 4.0 ] <<<<\n",
      "Learning from [ fold0 > other ] on [ aac8GlobalDownSampled ]\n",
      "Classifying for [ fold0 > other ] on [ aac8GlobalDownSampled ]\n",
      ">>>> [ 0.01 , 4.0 ] <<<<\n",
      "Learning from [ fold1 > other ] on [ aac8GlobalDownSampled ]\n",
      "Classifying for [ fold1 > other ] on [ aac8GlobalDownSampled ]\n",
      ">>>> [ 0.01 , 4.0 ] <<<<\n",
      "Learning from [ fold2 > other ] on [ aac8GlobalDownSampled ]\n",
      "Classifying for [ fold2 > other ] on [ aac8GlobalDownSampled ]\n",
      ">>>> [ 0.01 , 4.0 ] <<<<\n",
      "Learning from [ fold3 > other ] on [ aac8GlobalDownSampled ]\n",
      "Classifying for [ fold3 > other ] on [ aac8GlobalDownSampled ]\n",
      ">>>> [ 0.01 , 4.0 ] <<<<\n",
      "Learning from [ fold4 > other ] on [ aac8GlobalDownSampled ]\n",
      "Classifying for [ fold4 > other ] on [ aac8GlobalDownSampled ]\n",
      ">>>> [ 0.01 , 4.0 ] <<<<\n",
      "Learning from [ fold0 > protein ] on [ aac8GlobalDownSampled ]\n",
      "Classifying for [ fold0 > protein ] on [ aac8GlobalDownSampled ]\n",
      ">>>> [ 0.01 , 4.0 ] <<<<\n",
      "Learning from [ fold1 > protein ] on [ aac8GlobalDownSampled ]\n",
      "Classifying for [ fold1 > protein ] on [ aac8GlobalDownSampled ]\n",
      ">>>> [ 0.01 , 4.0 ] <<<<\n",
      "Learning from [ fold2 > protein ] on [ aac8GlobalDownSampled ]\n",
      "Classifying for [ fold2 > protein ] on [ aac8GlobalDownSampled ]\n",
      ">>>> [ 0.01 , 4.0 ] <<<<\n",
      "Learning from [ fold3 > protein ] on [ aac8GlobalDownSampled ]\n",
      "Classifying for [ fold3 > protein ] on [ aac8GlobalDownSampled ]\n",
      ">>>> [ 0.01 , 4.0 ] <<<<\n",
      "Learning from [ fold4 > protein ] on [ aac8GlobalDownSampled ]\n",
      "Classifying for [ fold4 > protein ] on [ aac8GlobalDownSampled ]\n",
      ">>>> [ 0.01 , 4.0 ] <<<<\n",
      "Learning from [ fold0 > sugar ] on [ aac8GlobalDownSampled ]\n",
      "Classifying for [ fold0 > sugar ] on [ aac8GlobalDownSampled ]\n",
      ">>>> [ 0.01 , 4.0 ] <<<<\n",
      "Learning from [ fold1 > sugar ] on [ aac8GlobalDownSampled ]\n",
      "Classifying for [ fold1 > sugar ] on [ aac8GlobalDownSampled ]\n",
      ">>>> [ 0.01 , 4.0 ] <<<<\n",
      "Learning from [ fold2 > sugar ] on [ aac8GlobalDownSampled ]\n",
      "Classifying for [ fold2 > sugar ] on [ aac8GlobalDownSampled ]\n",
      ">>>> [ 0.01 , 4.0 ] <<<<\n",
      "Learning from [ fold3 > sugar ] on [ aac8GlobalDownSampled ]\n",
      "Classifying for [ fold3 > sugar ] on [ aac8GlobalDownSampled ]\n",
      ">>>> [ 0.01 , 4.0 ] <<<<\n",
      "Learning from [ fold4 > sugar ] on [ aac8GlobalDownSampled ]\n",
      "Classifying for [ fold4 > sugar ] on [ aac8GlobalDownSampled ]\n"
     ]
    }
   ],
   "source": [
    "#Train Test Folds to File\n",
    "_feature=\"aac8GlobalDownSampled\"\n",
    "# _trainTest2File(train_test_downSampled.copy(),classes.copy(),_num_of_folds,_feature)\n",
    "# _svmLightclassify(classes.copy(),_num_of_folds,_params_['aac8Global'],_feature)"
   ]
  },
  {
   "cell_type": "code",
   "execution_count": 106,
   "metadata": {
    "collapsed": true
   },
   "outputs": [
    {
     "name": "stdout",
     "output_type": "stream",
     "text": [
      "Processing Fold [0]\n",
      "Processing Fold [1]\n",
      "Processing Fold [2]\n",
      "Processing Fold [3]\n",
      "Processing Fold [4]\n",
      "==================================\n",
      "==================================\n",
      "Total Macro for problem\n",
      "[85.026, 40.83299999999999, 91.34025, 30.577999999999996]\n",
      "Mac Distance =  0.4286192750055113\n",
      "----------------------------------\n",
      "Total Micro for problem\n",
      "[85.02600000000001, 40.834, 91.34, 32.022000000000006]\n",
      "Mic Distance =  0.42362891025046917\n",
      "==================================\n",
      "==================================\n"
     ]
    }
   ],
   "source": [
    "#Evaluation (By Class) \n",
    "_evaluate(classes.copy(),_num_of_folds,_feature,'class')"
   ]
  },
  {
   "cell_type": "code",
   "execution_count": 113,
   "metadata": {
    "collapsed": true
   },
   "outputs": [
    {
     "name": "stdout",
     "output_type": "stream",
     "text": [
      "Processing Fold [0]\n",
      "Processing Fold [1]\n",
      "Processing Fold [2]\n",
      "Processing Fold [3]\n",
      "Processing Fold [4]\n",
      "==================================\n",
      "==================================\n",
      "Total Macro for problem\n",
      "[68.072, 69.79150000000001, 67.82750000000001, 25.732]\n",
      "Mac Distance =  0.22262123135496306\n",
      "----------------------------------\n",
      "Total Micro for problem\n",
      "[68.074, 69.78999999999999, 67.824, 25.78]\n",
      "Mic Distance =  0.22219099261671257\n",
      "==================================\n",
      "==================================\n"
     ]
    }
   ],
   "source": [
    "#Evaluation (By Class) [Threshold = -0.5]\n",
    "_evaluate(classes.copy(),_num_of_folds,_feature,'class',-0.67)"
   ]
  },
  {
   "cell_type": "code",
   "execution_count": 108,
   "metadata": {
    "collapsed": true
   },
   "outputs": [
    {
     "name": "stdout",
     "output_type": "stream",
     "text": [
      "Processing Fold [0]\n",
      "Processing Fold [1]\n",
      "Processing Fold [2]\n",
      "Processing Fold [3]\n",
      "Processing Fold [4]\n",
      "==================================\n",
      "==================================\n",
      "Total Macro for problem\n",
      "[84.79199999999999, 39.16725, 91.3105, 28.46875]\n",
      "Mac Distance =  0.44897473964300044\n",
      "----------------------------------\n",
      "Total Micro for problem\n",
      "[84.792, 39.168000000000006, 91.308, 30.476]\n",
      "Mic Distance =  0.44150757049002004\n",
      "==================================\n",
      "==================================\n"
     ]
    }
   ],
   "source": [
    "#Evaluation (By Fold)\n",
    "_evaluate(classes.copy(),_num_of_folds,_feature,'fold')"
   ]
  },
  {
   "cell_type": "markdown",
   "metadata": {},
   "source": [
    "#### Shuffled Dataset"
   ]
  },
  {
   "cell_type": "code",
   "execution_count": 114,
   "metadata": {},
   "outputs": [],
   "source": [
    "#Train Test Folds to File\n",
    "_feature=\"aac8GlobalShuffled\"\n",
    "# _trainTest2File(train_test_shuffled.copy(),classes.copy(),_num_of_folds,_feature)\n",
    "# _svmLightclassify(classes.copy(),_num_of_folds,_params_['aac8Global'],_feature)"
   ]
  },
  {
   "cell_type": "code",
   "execution_count": 115,
   "metadata": {
    "collapsed": true
   },
   "outputs": [
    {
     "name": "stdout",
     "output_type": "stream",
     "text": [
      "Processing Fold [0]\n",
      "Processing Fold [1]\n",
      "Processing Fold [2]\n",
      "Processing Fold [3]\n",
      "Processing Fold [4]\n",
      "==================================\n",
      "==================================\n",
      "Total Macro for problem\n",
      "[86.2405, 33.577, 86.8905, 23.453000000000003]\n",
      "Mac Distance =  0.5038356486494381\n",
      "----------------------------------\n",
      "Total Micro for problem\n",
      "[86.24199999999999, 62.462, 89.63999999999999, 46.0]\n",
      "Mic Distance =  0.239679733811601\n",
      "==================================\n",
      "==================================\n"
     ]
    }
   ],
   "source": [
    "#Evaluation (By Class) \n",
    "_evaluate(classes.copy(),_num_of_folds,_feature,'class')"
   ]
  },
  {
   "cell_type": "code",
   "execution_count": 120,
   "metadata": {
    "collapsed": true
   },
   "outputs": [
    {
     "name": "stdout",
     "output_type": "stream",
     "text": [
      "Processing Fold [0]\n",
      "Processing Fold [1]\n",
      "Processing Fold [2]\n",
      "Processing Fold [3]\n",
      "Processing Fold [4]\n",
      "==================================\n",
      "==================================\n",
      "Total Macro for problem\n",
      "[78.31550000000001, 58.427, 74.72625000000001, 26.129499999999997]\n",
      "Mac Distance =  0.26100315870933455\n",
      "----------------------------------\n",
      "Total Micro for problem\n",
      "[78.316, 78.33399999999999, 78.312, 41.396]\n",
      "Mic Distance =  0.09035314715050047\n",
      "==================================\n",
      "==================================\n"
     ]
    }
   ],
   "source": [
    "#Evaluation (By Class) [Threshold = -0.5]\n",
    "_evaluate(classes.copy(),_num_of_folds,_feature,'class',-0.61)"
   ]
  },
  {
   "cell_type": "code",
   "execution_count": 117,
   "metadata": {
    "collapsed": true
   },
   "outputs": [
    {
     "name": "stdout",
     "output_type": "stream",
     "text": [
      "Processing Fold [0]\n",
      "Processing Fold [1]\n",
      "Processing Fold [2]\n",
      "Processing Fold [3]\n",
      "Processing Fold [4]\n",
      "==================================\n",
      "==================================\n",
      "Total Macro for problem\n",
      "[88.3335, 24.935750000000002, 91.22625000000001, 20.336000000000002]\n",
      "Mac Distance =  0.6055859006264099\n",
      "----------------------------------\n",
      "Total Micro for problem\n",
      "[88.332, 53.336, 93.33200000000001, 46.66799999999999]\n",
      "Mic Distance =  0.3274372959819941\n",
      "==================================\n",
      "==================================\n"
     ]
    }
   ],
   "source": [
    "#Evaluation (By Fold)\n",
    "_evaluate(classes.copy(),_num_of_folds,_feature,'fold')"
   ]
  },
  {
   "cell_type": "code",
   "execution_count": null,
   "metadata": {},
   "outputs": [],
   "source": []
  }
 ],
 "metadata": {
  "kernelspec": {
   "display_name": "Python 3",
   "language": "python",
   "name": "python3"
  },
  "language_info": {
   "codemirror_mode": {
    "name": "ipython",
    "version": 3
   },
   "file_extension": ".py",
   "mimetype": "text/x-python",
   "name": "python",
   "nbconvert_exporter": "python",
   "pygments_lexer": "ipython3",
   "version": "3.7.0"
  }
 },
 "nbformat": 4,
 "nbformat_minor": 2
}
