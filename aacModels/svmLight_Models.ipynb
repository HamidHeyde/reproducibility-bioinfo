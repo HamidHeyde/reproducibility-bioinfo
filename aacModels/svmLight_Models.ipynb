{
 "cells": [
  {
   "cell_type": "code",
   "execution_count": 1,
   "metadata": {},
   "outputs": [],
   "source": [
    "import os\n",
    "import pandas as pd\n",
    "#Functions\n",
    "from helpers_svmLight import _data2trainTest, _trainTest2File, _svmLightclassify, _evaluate"
   ]
  },
  {
   "cell_type": "markdown",
   "metadata": {},
   "source": [
    "### Config"
   ]
  },
  {
   "cell_type": "code",
   "execution_count": 2,
   "metadata": {},
   "outputs": [],
   "source": [
    "config = {\n",
    "    \"featuresPath\": os.path.join(\"features\", \"{}\", \"{}\"),\n",
    "    \"SVMLightFeaturesPath\": os.path.join(\"svmLight\", \"features\",\"{}\",\"{}\",\"{}\", \"{}\"),\n",
    "    \"SVMLightLearningParams\":\"-z c -j {} -t 2 -g {}\",\n",
    "    \"SVMLightApplicationPath\": os.path.join(\"svmLight\", \"application\", \"{}\"),\n",
    "    \"SVMLightFeaturesFileTarget\": os.path.join(\"svmLight\", \"features\",\"{}\",\"{}\",\"{}\", \"{}\",\"{}\")\n",
    "}\n",
    "\n",
    "\n",
    "\n",
    "_params_={}\n",
    "_params_['aac7Global'] = [ [0.02,4.5] for i in range(7) ]\n",
    "_params_['aac7Local']=[ [0.03,4.6],[0.04,5.0],[0.02,4.6], [0.02,4.0],[0.03,4.0],[0.04,5.0],[0.03,5.0] ]\n",
    "_params_['aac8Global'] =[ [0.01,4.0] for i in range(8) ]\n",
    "_params_['aac8Local'] =[ [0.03,4.6],[0.04,5.0],[0.02,4.6], [0.02,4.0],[0.02,4.8],[0.03,4.0],[0.04,5.0],[0.03,5.0] ]"
   ]
  },
  {
   "cell_type": "markdown",
   "metadata": {},
   "source": [
    "## 7-Class based models"
   ]
  },
  {
   "cell_type": "code",
   "execution_count": 3,
   "metadata": {},
   "outputs": [],
   "source": [
    "featureFile=\"aac7\"\n",
    "_num_of_folds=5\n",
    "dataset=\"trainTest\""
   ]
  },
  {
   "cell_type": "code",
   "execution_count": 4,
   "metadata": {},
   "outputs": [],
   "source": [
    "data=pd.read_csv(os.path.join('dataset',(featureFile+'.csv')))\n",
    "classes=sorted(data['label'].unique())"
   ]
  },
  {
   "cell_type": "markdown",
   "metadata": {},
   "source": [
    "#### Train/Test sets in 3 modes (Normal, Shuffled, Downsampled) in 5 folds "
   ]
  },
  {
   "cell_type": "code",
   "execution_count": 5,
   "metadata": {},
   "outputs": [],
   "source": [
    "#Train_Test Folds creation\n",
    "train_test_normal=_data2trainTest(data.copy(),classes.copy(),_num_of_folds,'normal')\n",
    "train_test_shuffled=_data2trainTest(data.copy(),classes.copy(),_num_of_folds,'shuffle')\n",
    "train_test_downSampled=_data2trainTest(data.copy(),classes.copy(),_num_of_folds,'downSample')"
   ]
  },
  {
   "cell_type": "markdown",
   "metadata": {},
   "source": [
    "### Gamma & Cost (different for each class)"
   ]
  },
  {
   "cell_type": "markdown",
   "metadata": {},
   "source": [
    "#### Normal Dataset"
   ]
  },
  {
   "cell_type": "code",
   "execution_count": null,
   "metadata": {},
   "outputs": [],
   "source": [
    "#Train Test Folds to File\n",
    "_feature=\"aac7LocalNormal\"\n",
    "_trainTest2File(train_test_normal.copy(),classes.copy(),_num_of_folds,_feature)\n",
    "_svmLightclassify(classes.copy(),_num_of_folds,_params_['aac7Local'],_feature)"
   ]
  },
  {
   "cell_type": "code",
   "execution_count": null,
   "metadata": {},
   "outputs": [],
   "source": [
    "#Evaluation (By Class) \n",
    "_evaluate(classes.copy(),_num_of_folds,_feature,'class')"
   ]
  },
  {
   "cell_type": "code",
   "execution_count": null,
   "metadata": {},
   "outputs": [],
   "source": [
    "#Evaluation (By Class) [Threshold = -0.5]\n",
    "_evaluate(classes.copy(),_num_of_folds,_feature,'class',-0.45)"
   ]
  },
  {
   "cell_type": "code",
   "execution_count": null,
   "metadata": {},
   "outputs": [],
   "source": [
    "#Evaluation (By Fold)\n",
    "_evaluate(classes.copy(),_num_of_folds,_feature,'fold')"
   ]
  },
  {
   "cell_type": "markdown",
   "metadata": {},
   "source": [
    "#### Down-Sampled Dataset"
   ]
  },
  {
   "cell_type": "code",
   "execution_count": 6,
   "metadata": {
    "collapsed": true
   },
   "outputs": [
    {
     "name": "stdout",
     "output_type": "stream",
     "text": [
      "Processing fold [ 0 ]\n",
      "Processing fold [ 1 ]\n",
      "Processing fold [ 2 ]\n",
      "Processing fold [ 3 ]\n",
      "Processing fold [ 4 ]\n",
      ">>>> [ 0.03 , 4.6 ] <<<<\n",
      "Learning from [ fold0 > amino ] on [ aac7LocalDownSampled ]\n",
      "Classifying for [ fold0 > amino ] on [ aac7LocalDownSampled ]\n",
      ">>>> [ 0.03 , 4.6 ] <<<<\n",
      "Learning from [ fold1 > amino ] on [ aac7LocalDownSampled ]\n",
      "Classifying for [ fold1 > amino ] on [ aac7LocalDownSampled ]\n",
      ">>>> [ 0.03 , 4.6 ] <<<<\n",
      "Learning from [ fold2 > amino ] on [ aac7LocalDownSampled ]\n",
      "Classifying for [ fold2 > amino ] on [ aac7LocalDownSampled ]\n",
      ">>>> [ 0.03 , 4.6 ] <<<<\n",
      "Learning from [ fold3 > amino ] on [ aac7LocalDownSampled ]\n",
      "Classifying for [ fold3 > amino ] on [ aac7LocalDownSampled ]\n",
      ">>>> [ 0.03 , 4.6 ] <<<<\n",
      "Learning from [ fold4 > amino ] on [ aac7LocalDownSampled ]\n",
      "Classifying for [ fold4 > amino ] on [ aac7LocalDownSampled ]\n",
      ">>>> [ 0.04 , 5.0 ] <<<<\n",
      "Learning from [ fold0 > anion ] on [ aac7LocalDownSampled ]\n",
      "Classifying for [ fold0 > anion ] on [ aac7LocalDownSampled ]\n",
      ">>>> [ 0.04 , 5.0 ] <<<<\n",
      "Learning from [ fold1 > anion ] on [ aac7LocalDownSampled ]\n",
      "Classifying for [ fold1 > anion ] on [ aac7LocalDownSampled ]\n",
      ">>>> [ 0.04 , 5.0 ] <<<<\n",
      "Learning from [ fold2 > anion ] on [ aac7LocalDownSampled ]\n",
      "Classifying for [ fold2 > anion ] on [ aac7LocalDownSampled ]\n",
      ">>>> [ 0.04 , 5.0 ] <<<<\n",
      "Learning from [ fold3 > anion ] on [ aac7LocalDownSampled ]\n",
      "Classifying for [ fold3 > anion ] on [ aac7LocalDownSampled ]\n",
      ">>>> [ 0.04 , 5.0 ] <<<<\n",
      "Learning from [ fold4 > anion ] on [ aac7LocalDownSampled ]\n",
      "Classifying for [ fold4 > anion ] on [ aac7LocalDownSampled ]\n",
      ">>>> [ 0.02 , 4.6 ] <<<<\n",
      "Learning from [ fold0 > cation ] on [ aac7LocalDownSampled ]\n",
      "Classifying for [ fold0 > cation ] on [ aac7LocalDownSampled ]\n",
      ">>>> [ 0.02 , 4.6 ] <<<<\n",
      "Learning from [ fold1 > cation ] on [ aac7LocalDownSampled ]\n",
      "Classifying for [ fold1 > cation ] on [ aac7LocalDownSampled ]\n",
      ">>>> [ 0.02 , 4.6 ] <<<<\n",
      "Learning from [ fold2 > cation ] on [ aac7LocalDownSampled ]\n",
      "Classifying for [ fold2 > cation ] on [ aac7LocalDownSampled ]\n",
      ">>>> [ 0.02 , 4.6 ] <<<<\n",
      "Learning from [ fold3 > cation ] on [ aac7LocalDownSampled ]\n",
      "Classifying for [ fold3 > cation ] on [ aac7LocalDownSampled ]\n",
      ">>>> [ 0.02 , 4.6 ] <<<<\n",
      "Learning from [ fold4 > cation ] on [ aac7LocalDownSampled ]\n",
      "Classifying for [ fold4 > cation ] on [ aac7LocalDownSampled ]\n",
      ">>>> [ 0.02 , 4.0 ] <<<<\n",
      "Learning from [ fold0 > electron ] on [ aac7LocalDownSampled ]\n",
      "Classifying for [ fold0 > electron ] on [ aac7LocalDownSampled ]\n",
      ">>>> [ 0.02 , 4.0 ] <<<<\n",
      "Learning from [ fold1 > electron ] on [ aac7LocalDownSampled ]\n",
      "Classifying for [ fold1 > electron ] on [ aac7LocalDownSampled ]\n",
      ">>>> [ 0.02 , 4.0 ] <<<<\n",
      "Learning from [ fold2 > electron ] on [ aac7LocalDownSampled ]\n",
      "Classifying for [ fold2 > electron ] on [ aac7LocalDownSampled ]\n",
      ">>>> [ 0.02 , 4.0 ] <<<<\n",
      "Learning from [ fold3 > electron ] on [ aac7LocalDownSampled ]\n",
      "Classifying for [ fold3 > electron ] on [ aac7LocalDownSampled ]\n",
      ">>>> [ 0.02 , 4.0 ] <<<<\n",
      "Learning from [ fold4 > electron ] on [ aac7LocalDownSampled ]\n",
      "Classifying for [ fold4 > electron ] on [ aac7LocalDownSampled ]\n",
      ">>>> [ 0.03 , 4.0 ] <<<<\n",
      "Learning from [ fold0 > other ] on [ aac7LocalDownSampled ]\n",
      "Classifying for [ fold0 > other ] on [ aac7LocalDownSampled ]\n",
      ">>>> [ 0.03 , 4.0 ] <<<<\n",
      "Learning from [ fold1 > other ] on [ aac7LocalDownSampled ]\n",
      "Classifying for [ fold1 > other ] on [ aac7LocalDownSampled ]\n",
      ">>>> [ 0.03 , 4.0 ] <<<<\n",
      "Learning from [ fold2 > other ] on [ aac7LocalDownSampled ]\n",
      "Classifying for [ fold2 > other ] on [ aac7LocalDownSampled ]\n",
      ">>>> [ 0.03 , 4.0 ] <<<<\n",
      "Learning from [ fold3 > other ] on [ aac7LocalDownSampled ]\n",
      "Classifying for [ fold3 > other ] on [ aac7LocalDownSampled ]\n",
      ">>>> [ 0.03 , 4.0 ] <<<<\n",
      "Learning from [ fold4 > other ] on [ aac7LocalDownSampled ]\n",
      "Classifying for [ fold4 > other ] on [ aac7LocalDownSampled ]\n",
      ">>>> [ 0.04 , 5.0 ] <<<<\n",
      "Learning from [ fold0 > protein ] on [ aac7LocalDownSampled ]\n",
      "Classifying for [ fold0 > protein ] on [ aac7LocalDownSampled ]\n",
      ">>>> [ 0.04 , 5.0 ] <<<<\n",
      "Learning from [ fold1 > protein ] on [ aac7LocalDownSampled ]\n",
      "Classifying for [ fold1 > protein ] on [ aac7LocalDownSampled ]\n",
      ">>>> [ 0.04 , 5.0 ] <<<<\n",
      "Learning from [ fold2 > protein ] on [ aac7LocalDownSampled ]\n",
      "Classifying for [ fold2 > protein ] on [ aac7LocalDownSampled ]\n",
      ">>>> [ 0.04 , 5.0 ] <<<<\n",
      "Learning from [ fold3 > protein ] on [ aac7LocalDownSampled ]\n",
      "Classifying for [ fold3 > protein ] on [ aac7LocalDownSampled ]\n",
      ">>>> [ 0.04 , 5.0 ] <<<<\n",
      "Learning from [ fold4 > protein ] on [ aac7LocalDownSampled ]\n",
      "Classifying for [ fold4 > protein ] on [ aac7LocalDownSampled ]\n",
      ">>>> [ 0.03 , 5.0 ] <<<<\n",
      "Learning from [ fold0 > sugar ] on [ aac7LocalDownSampled ]\n",
      "Classifying for [ fold0 > sugar ] on [ aac7LocalDownSampled ]\n",
      ">>>> [ 0.03 , 5.0 ] <<<<\n",
      "Learning from [ fold1 > sugar ] on [ aac7LocalDownSampled ]\n",
      "Classifying for [ fold1 > sugar ] on [ aac7LocalDownSampled ]\n",
      ">>>> [ 0.03 , 5.0 ] <<<<\n",
      "Learning from [ fold2 > sugar ] on [ aac7LocalDownSampled ]\n",
      "Classifying for [ fold2 > sugar ] on [ aac7LocalDownSampled ]\n",
      ">>>> [ 0.03 , 5.0 ] <<<<\n",
      "Learning from [ fold3 > sugar ] on [ aac7LocalDownSampled ]\n",
      "Classifying for [ fold3 > sugar ] on [ aac7LocalDownSampled ]\n",
      ">>>> [ 0.03 , 5.0 ] <<<<\n",
      "Learning from [ fold4 > sugar ] on [ aac7LocalDownSampled ]\n",
      "Classifying for [ fold4 > sugar ] on [ aac7LocalDownSampled ]\n"
     ]
    }
   ],
   "source": [
    "#Train Test Folds to File\n",
    "_feature=\"aac7LocalDownSampled\"\n",
    "_trainTest2File(train_test_downSampled.copy(),classes.copy(),_num_of_folds,_feature)\n",
    "_svmLightclassify(classes.copy(),_num_of_folds,_params_['aac7Local'],_feature)"
   ]
  },
  {
   "cell_type": "code",
   "execution_count": 7,
   "metadata": {},
   "outputs": [
    {
     "name": "stdout",
     "output_type": "stream",
     "text": [
      "Processing Fold [0]\n",
      "Processing Fold [1]\n",
      "Processing Fold [2]\n",
      "Processing Fold [3]\n",
      "Processing Fold [4]\n",
      "==================================\n",
      "==================================\n",
      "Total Macro for problem\n",
      "[84.08114285714285, 39.286, 91.5477142857143, 32.04285714285715]\n",
      "----------------------------------\n",
      "Total Micro for problem\n",
      "[84.078, 39.288, 91.55000000000001, 32.194]\n",
      "==================================\n",
      "==================================\n"
     ]
    }
   ],
   "source": [
    "#Evaluation (By Class) \n",
    "_evaluate(classes.copy(),_num_of_folds,_feature,'class')"
   ]
  },
  {
   "cell_type": "code",
   "execution_count": 8,
   "metadata": {},
   "outputs": [
    {
     "name": "stdout",
     "output_type": "stream",
     "text": [
      "Processing Fold [0]\n",
      "Processing Fold [1]\n",
      "Processing Fold [2]\n",
      "Processing Fold [3]\n",
      "Processing Fold [4]\n",
      "==================================\n",
      "==================================\n",
      "Total Macro for problem\n",
      "[72.89114285714285, 66.66742857142859, 73.92828571428569, 30.809714285714286]\n",
      "----------------------------------\n",
      "Total Micro for problem\n",
      "[72.892, 66.668, 73.92800000000001, 30.522]\n",
      "==================================\n",
      "==================================\n"
     ]
    }
   ],
   "source": [
    "#Evaluation (By Class) [Threshold = -0.5]\n",
    "_evaluate(classes.copy(),_num_of_folds,_feature,'class',-0.45)"
   ]
  },
  {
   "cell_type": "code",
   "execution_count": 9,
   "metadata": {},
   "outputs": [
    {
     "name": "stdout",
     "output_type": "stream",
     "text": [
      "Processing Fold [0]\n",
      "Processing Fold [1]\n",
      "Processing Fold [2]\n",
      "Processing Fold [3]\n",
      "Processing Fold [4]\n",
      "==================================\n",
      "==================================\n",
      "Total Macro for problem\n",
      "[84.35228571428573, 45.238, 90.87228571428571, 34.98571428571428]\n",
      "----------------------------------\n",
      "Total Micro for problem\n",
      "[84.35, 45.24, 90.874, 36.112]\n",
      "==================================\n",
      "==================================\n"
     ]
    }
   ],
   "source": [
    "_evaluate(classes.copy(),_num_of_folds,_feature,'fold')"
   ]
  },
  {
   "cell_type": "markdown",
   "metadata": {},
   "source": [
    "#### Shuffled Dataset"
   ]
  },
  {
   "cell_type": "code",
   "execution_count": 10,
   "metadata": {
    "collapsed": true
   },
   "outputs": [
    {
     "name": "stdout",
     "output_type": "stream",
     "text": [
      "Processing fold [ 0 ]\n",
      "Processing fold [ 1 ]\n",
      "Processing fold [ 2 ]\n",
      "Processing fold [ 3 ]\n",
      "Processing fold [ 4 ]\n",
      ">>>> [ 0.03 , 4.6 ] <<<<\n",
      "Learning from [ fold0 > amino ] on [ aac7LocalShuffled ]\n",
      "Classifying for [ fold0 > amino ] on [ aac7LocalShuffled ]\n",
      ">>>> [ 0.03 , 4.6 ] <<<<\n",
      "Learning from [ fold1 > amino ] on [ aac7LocalShuffled ]\n",
      "Classifying for [ fold1 > amino ] on [ aac7LocalShuffled ]\n",
      ">>>> [ 0.03 , 4.6 ] <<<<\n",
      "Learning from [ fold2 > amino ] on [ aac7LocalShuffled ]\n",
      "Classifying for [ fold2 > amino ] on [ aac7LocalShuffled ]\n",
      ">>>> [ 0.03 , 4.6 ] <<<<\n",
      "Learning from [ fold3 > amino ] on [ aac7LocalShuffled ]\n",
      "Classifying for [ fold3 > amino ] on [ aac7LocalShuffled ]\n",
      ">>>> [ 0.03 , 4.6 ] <<<<\n",
      "Learning from [ fold4 > amino ] on [ aac7LocalShuffled ]\n",
      "Classifying for [ fold4 > amino ] on [ aac7LocalShuffled ]\n",
      ">>>> [ 0.04 , 5.0 ] <<<<\n",
      "Learning from [ fold0 > anion ] on [ aac7LocalShuffled ]\n",
      "Classifying for [ fold0 > anion ] on [ aac7LocalShuffled ]\n",
      ">>>> [ 0.04 , 5.0 ] <<<<\n",
      "Learning from [ fold1 > anion ] on [ aac7LocalShuffled ]\n",
      "Classifying for [ fold1 > anion ] on [ aac7LocalShuffled ]\n",
      ">>>> [ 0.04 , 5.0 ] <<<<\n",
      "Learning from [ fold2 > anion ] on [ aac7LocalShuffled ]\n",
      "Classifying for [ fold2 > anion ] on [ aac7LocalShuffled ]\n",
      ">>>> [ 0.04 , 5.0 ] <<<<\n",
      "Learning from [ fold3 > anion ] on [ aac7LocalShuffled ]\n",
      "Classifying for [ fold3 > anion ] on [ aac7LocalShuffled ]\n",
      ">>>> [ 0.04 , 5.0 ] <<<<\n",
      "Learning from [ fold4 > anion ] on [ aac7LocalShuffled ]\n",
      "Classifying for [ fold4 > anion ] on [ aac7LocalShuffled ]\n",
      ">>>> [ 0.02 , 4.6 ] <<<<\n",
      "Learning from [ fold0 > cation ] on [ aac7LocalShuffled ]\n",
      "Classifying for [ fold0 > cation ] on [ aac7LocalShuffled ]\n",
      ">>>> [ 0.02 , 4.6 ] <<<<\n",
      "Learning from [ fold1 > cation ] on [ aac7LocalShuffled ]\n",
      "Classifying for [ fold1 > cation ] on [ aac7LocalShuffled ]\n",
      ">>>> [ 0.02 , 4.6 ] <<<<\n",
      "Learning from [ fold2 > cation ] on [ aac7LocalShuffled ]\n",
      "Classifying for [ fold2 > cation ] on [ aac7LocalShuffled ]\n",
      ">>>> [ 0.02 , 4.6 ] <<<<\n",
      "Learning from [ fold3 > cation ] on [ aac7LocalShuffled ]\n",
      "Classifying for [ fold3 > cation ] on [ aac7LocalShuffled ]\n",
      ">>>> [ 0.02 , 4.6 ] <<<<\n",
      "Learning from [ fold4 > cation ] on [ aac7LocalShuffled ]\n",
      "Classifying for [ fold4 > cation ] on [ aac7LocalShuffled ]\n",
      ">>>> [ 0.02 , 4.0 ] <<<<\n",
      "Learning from [ fold0 > electron ] on [ aac7LocalShuffled ]\n",
      "Classifying for [ fold0 > electron ] on [ aac7LocalShuffled ]\n",
      ">>>> [ 0.02 , 4.0 ] <<<<\n",
      "Learning from [ fold1 > electron ] on [ aac7LocalShuffled ]\n",
      "Classifying for [ fold1 > electron ] on [ aac7LocalShuffled ]\n",
      ">>>> [ 0.02 , 4.0 ] <<<<\n",
      "Learning from [ fold2 > electron ] on [ aac7LocalShuffled ]\n",
      "Classifying for [ fold2 > electron ] on [ aac7LocalShuffled ]\n",
      ">>>> [ 0.02 , 4.0 ] <<<<\n",
      "Learning from [ fold3 > electron ] on [ aac7LocalShuffled ]\n",
      "Classifying for [ fold3 > electron ] on [ aac7LocalShuffled ]\n",
      ">>>> [ 0.02 , 4.0 ] <<<<\n",
      "Learning from [ fold4 > electron ] on [ aac7LocalShuffled ]\n",
      "Classifying for [ fold4 > electron ] on [ aac7LocalShuffled ]\n",
      ">>>> [ 0.03 , 4.0 ] <<<<\n",
      "Learning from [ fold0 > other ] on [ aac7LocalShuffled ]\n",
      "Classifying for [ fold0 > other ] on [ aac7LocalShuffled ]\n",
      ">>>> [ 0.03 , 4.0 ] <<<<\n",
      "Learning from [ fold1 > other ] on [ aac7LocalShuffled ]\n",
      "Classifying for [ fold1 > other ] on [ aac7LocalShuffled ]\n",
      ">>>> [ 0.03 , 4.0 ] <<<<\n",
      "Learning from [ fold2 > other ] on [ aac7LocalShuffled ]\n",
      "Classifying for [ fold2 > other ] on [ aac7LocalShuffled ]\n",
      ">>>> [ 0.03 , 4.0 ] <<<<\n",
      "Learning from [ fold3 > other ] on [ aac7LocalShuffled ]\n",
      "Classifying for [ fold3 > other ] on [ aac7LocalShuffled ]\n",
      ">>>> [ 0.03 , 4.0 ] <<<<\n",
      "Learning from [ fold4 > other ] on [ aac7LocalShuffled ]\n",
      "Classifying for [ fold4 > other ] on [ aac7LocalShuffled ]\n",
      ">>>> [ 0.04 , 5.0 ] <<<<\n",
      "Learning from [ fold0 > protein ] on [ aac7LocalShuffled ]\n",
      "Classifying for [ fold0 > protein ] on [ aac7LocalShuffled ]\n",
      ">>>> [ 0.04 , 5.0 ] <<<<\n",
      "Learning from [ fold1 > protein ] on [ aac7LocalShuffled ]\n",
      "Classifying for [ fold1 > protein ] on [ aac7LocalShuffled ]\n",
      ">>>> [ 0.04 , 5.0 ] <<<<\n",
      "Learning from [ fold2 > protein ] on [ aac7LocalShuffled ]\n",
      "Classifying for [ fold2 > protein ] on [ aac7LocalShuffled ]\n",
      ">>>> [ 0.04 , 5.0 ] <<<<\n",
      "Learning from [ fold3 > protein ] on [ aac7LocalShuffled ]\n",
      "Classifying for [ fold3 > protein ] on [ aac7LocalShuffled ]\n",
      ">>>> [ 0.04 , 5.0 ] <<<<\n",
      "Learning from [ fold4 > protein ] on [ aac7LocalShuffled ]\n",
      "Classifying for [ fold4 > protein ] on [ aac7LocalShuffled ]\n",
      ">>>> [ 0.03 , 5.0 ] <<<<\n",
      "Learning from [ fold0 > sugar ] on [ aac7LocalShuffled ]\n",
      "Classifying for [ fold0 > sugar ] on [ aac7LocalShuffled ]\n",
      ">>>> [ 0.03 , 5.0 ] <<<<\n",
      "Learning from [ fold1 > sugar ] on [ aac7LocalShuffled ]\n",
      "Classifying for [ fold1 > sugar ] on [ aac7LocalShuffled ]\n",
      ">>>> [ 0.03 , 5.0 ] <<<<\n",
      "Learning from [ fold2 > sugar ] on [ aac7LocalShuffled ]\n",
      "Classifying for [ fold2 > sugar ] on [ aac7LocalShuffled ]\n",
      ">>>> [ 0.03 , 5.0 ] <<<<\n",
      "Learning from [ fold3 > sugar ] on [ aac7LocalShuffled ]\n",
      "Classifying for [ fold3 > sugar ] on [ aac7LocalShuffled ]\n",
      ">>>> [ 0.03 , 5.0 ] <<<<\n",
      "Learning from [ fold4 > sugar ] on [ aac7LocalShuffled ]\n",
      "Classifying for [ fold4 > sugar ] on [ aac7LocalShuffled ]\n"
     ]
    }
   ],
   "source": [
    "#Train Test Folds to File\n",
    "_feature=\"aac7LocalShuffled\"\n",
    "_trainTest2File(train_test_shuffled.copy(),classes.copy(),_num_of_folds,_feature)\n",
    "_svmLightclassify(classes.copy(),_num_of_folds,_params_['aac7Local'],_feature)"
   ]
  },
  {
   "cell_type": "code",
   "execution_count": 11,
   "metadata": {},
   "outputs": [
    {
     "name": "stdout",
     "output_type": "stream",
     "text": [
      "Processing Fold [0]\n",
      "Processing Fold [1]\n",
      "Processing Fold [2]\n",
      "Processing Fold [3]\n",
      "Processing Fold [4]\n",
      "==================================\n",
      "==================================\n",
      "Total Macro for problem\n",
      "[81.73942857142856, 43.275999999999996, 84.06571428571428, 28.967714285714287]\n",
      "----------------------------------\n",
      "Total Micro for problem\n",
      "[81.74000000000001, 54.742, 86.24000000000002, 36.092]\n",
      "==================================\n",
      "==================================\n"
     ]
    }
   ],
   "source": [
    "#Evaluation (By Class) \n",
    "_evaluate(classes.copy(),_num_of_folds,_feature,'class')"
   ]
  },
  {
   "cell_type": "code",
   "execution_count": 12,
   "metadata": {},
   "outputs": [
    {
     "name": "stdout",
     "output_type": "stream",
     "text": [
      "Processing Fold [0]\n",
      "Processing Fold [1]\n",
      "Processing Fold [2]\n",
      "Processing Fold [3]\n",
      "Processing Fold [4]\n",
      "==================================\n",
      "==================================\n",
      "Total Macro for problem\n",
      "[73.8822857142857, 62.26085714285714, 71.01028571428571, 27.263428571428573]\n",
      "----------------------------------\n",
      "Total Micro for problem\n",
      "[73.884, 72.18199999999999, 74.16599999999998, 34.652]\n",
      "==================================\n",
      "==================================\n"
     ]
    }
   ],
   "source": [
    "#Evaluation (By Class) [Threshold = -0.5]\n",
    "_evaluate(classes.copy(),_num_of_folds,_feature,'class',-0.45)"
   ]
  },
  {
   "cell_type": "code",
   "execution_count": 13,
   "metadata": {},
   "outputs": [
    {
     "name": "stdout",
     "output_type": "stream",
     "text": [
      "Processing Fold [0]\n",
      "Processing Fold [1]\n",
      "Processing Fold [2]\n",
      "Processing Fold [3]\n",
      "Processing Fold [4]\n",
      "==================================\n",
      "==================================\n",
      "Total Macro for problem\n",
      "[84.32228571428571, 33.52199999999999, 89.14914285714286, 27.783714285714286]\n",
      "----------------------------------\n",
      "Total Micro for problem\n",
      "[84.322, 45.128, 90.85600000000001, 35.982]\n",
      "==================================\n",
      "==================================\n"
     ]
    }
   ],
   "source": [
    "_evaluate(classes.copy(),_num_of_folds,_feature,'fold')"
   ]
  },
  {
   "cell_type": "markdown",
   "metadata": {},
   "source": [
    "### Gamma & Cost (same for all classes)"
   ]
  },
  {
   "cell_type": "markdown",
   "metadata": {},
   "source": [
    "#### Normal Dataset"
   ]
  },
  {
   "cell_type": "code",
   "execution_count": null,
   "metadata": {},
   "outputs": [],
   "source": [
    "#Train Test Folds to File\n",
    "_feature=\"aac7GlobalNormal\"\n",
    "_trainTest2File(train_test_normal.copy(),classes.copy(),_num_of_folds,_feature)\n",
    "_svmLightclassify(classes.copy(),_num_of_folds,_params_['aac7Global'],_feature)"
   ]
  },
  {
   "cell_type": "code",
   "execution_count": null,
   "metadata": {},
   "outputs": [],
   "source": [
    "#Evaluation (By Class) \n",
    "_evaluate(classes.copy(),_num_of_folds,_feature,'class')"
   ]
  },
  {
   "cell_type": "code",
   "execution_count": null,
   "metadata": {},
   "outputs": [],
   "source": [
    "#Evaluation (By Class) [Threshold = -0.5]\n",
    "_evaluate(classes.copy(),_num_of_folds,_feature,'class',-0.45)"
   ]
  },
  {
   "cell_type": "code",
   "execution_count": null,
   "metadata": {},
   "outputs": [],
   "source": [
    "#Evaluation (By Fold)\n",
    "_evaluate(classes.copy(),_num_of_folds,_feature,'fold')"
   ]
  },
  {
   "cell_type": "markdown",
   "metadata": {},
   "source": [
    "#### Down-Sampled Dataset"
   ]
  },
  {
   "cell_type": "code",
   "execution_count": 14,
   "metadata": {
    "collapsed": true
   },
   "outputs": [
    {
     "name": "stdout",
     "output_type": "stream",
     "text": [
      "Processing fold [ 0 ]\n",
      "Processing fold [ 1 ]\n",
      "Processing fold [ 2 ]\n",
      "Processing fold [ 3 ]\n",
      "Processing fold [ 4 ]\n",
      ">>>> [ 0.02 , 4.5 ] <<<<\n",
      "Learning from [ fold0 > amino ] on [ aac7GlobalDownSampled ]\n",
      "Classifying for [ fold0 > amino ] on [ aac7GlobalDownSampled ]\n",
      ">>>> [ 0.02 , 4.5 ] <<<<\n",
      "Learning from [ fold1 > amino ] on [ aac7GlobalDownSampled ]\n",
      "Classifying for [ fold1 > amino ] on [ aac7GlobalDownSampled ]\n",
      ">>>> [ 0.02 , 4.5 ] <<<<\n",
      "Learning from [ fold2 > amino ] on [ aac7GlobalDownSampled ]\n",
      "Classifying for [ fold2 > amino ] on [ aac7GlobalDownSampled ]\n",
      ">>>> [ 0.02 , 4.5 ] <<<<\n",
      "Learning from [ fold3 > amino ] on [ aac7GlobalDownSampled ]\n",
      "Classifying for [ fold3 > amino ] on [ aac7GlobalDownSampled ]\n",
      ">>>> [ 0.02 , 4.5 ] <<<<\n",
      "Learning from [ fold4 > amino ] on [ aac7GlobalDownSampled ]\n",
      "Classifying for [ fold4 > amino ] on [ aac7GlobalDownSampled ]\n",
      ">>>> [ 0.02 , 4.5 ] <<<<\n",
      "Learning from [ fold0 > anion ] on [ aac7GlobalDownSampled ]\n",
      "Classifying for [ fold0 > anion ] on [ aac7GlobalDownSampled ]\n",
      ">>>> [ 0.02 , 4.5 ] <<<<\n",
      "Learning from [ fold1 > anion ] on [ aac7GlobalDownSampled ]\n",
      "Classifying for [ fold1 > anion ] on [ aac7GlobalDownSampled ]\n",
      ">>>> [ 0.02 , 4.5 ] <<<<\n",
      "Learning from [ fold2 > anion ] on [ aac7GlobalDownSampled ]\n",
      "Classifying for [ fold2 > anion ] on [ aac7GlobalDownSampled ]\n",
      ">>>> [ 0.02 , 4.5 ] <<<<\n",
      "Learning from [ fold3 > anion ] on [ aac7GlobalDownSampled ]\n",
      "Classifying for [ fold3 > anion ] on [ aac7GlobalDownSampled ]\n",
      ">>>> [ 0.02 , 4.5 ] <<<<\n",
      "Learning from [ fold4 > anion ] on [ aac7GlobalDownSampled ]\n",
      "Classifying for [ fold4 > anion ] on [ aac7GlobalDownSampled ]\n",
      ">>>> [ 0.02 , 4.5 ] <<<<\n",
      "Learning from [ fold0 > cation ] on [ aac7GlobalDownSampled ]\n",
      "Classifying for [ fold0 > cation ] on [ aac7GlobalDownSampled ]\n",
      ">>>> [ 0.02 , 4.5 ] <<<<\n",
      "Learning from [ fold1 > cation ] on [ aac7GlobalDownSampled ]\n",
      "Classifying for [ fold1 > cation ] on [ aac7GlobalDownSampled ]\n",
      ">>>> [ 0.02 , 4.5 ] <<<<\n",
      "Learning from [ fold2 > cation ] on [ aac7GlobalDownSampled ]\n",
      "Classifying for [ fold2 > cation ] on [ aac7GlobalDownSampled ]\n",
      ">>>> [ 0.02 , 4.5 ] <<<<\n",
      "Learning from [ fold3 > cation ] on [ aac7GlobalDownSampled ]\n",
      "Classifying for [ fold3 > cation ] on [ aac7GlobalDownSampled ]\n",
      ">>>> [ 0.02 , 4.5 ] <<<<\n",
      "Learning from [ fold4 > cation ] on [ aac7GlobalDownSampled ]\n",
      "Classifying for [ fold4 > cation ] on [ aac7GlobalDownSampled ]\n",
      ">>>> [ 0.02 , 4.5 ] <<<<\n",
      "Learning from [ fold0 > electron ] on [ aac7GlobalDownSampled ]\n",
      "Classifying for [ fold0 > electron ] on [ aac7GlobalDownSampled ]\n",
      ">>>> [ 0.02 , 4.5 ] <<<<\n",
      "Learning from [ fold1 > electron ] on [ aac7GlobalDownSampled ]\n",
      "Classifying for [ fold1 > electron ] on [ aac7GlobalDownSampled ]\n",
      ">>>> [ 0.02 , 4.5 ] <<<<\n",
      "Learning from [ fold2 > electron ] on [ aac7GlobalDownSampled ]\n",
      "Classifying for [ fold2 > electron ] on [ aac7GlobalDownSampled ]\n",
      ">>>> [ 0.02 , 4.5 ] <<<<\n",
      "Learning from [ fold3 > electron ] on [ aac7GlobalDownSampled ]\n",
      "Classifying for [ fold3 > electron ] on [ aac7GlobalDownSampled ]\n",
      ">>>> [ 0.02 , 4.5 ] <<<<\n",
      "Learning from [ fold4 > electron ] on [ aac7GlobalDownSampled ]\n",
      "Classifying for [ fold4 > electron ] on [ aac7GlobalDownSampled ]\n",
      ">>>> [ 0.02 , 4.5 ] <<<<\n",
      "Learning from [ fold0 > other ] on [ aac7GlobalDownSampled ]\n",
      "Classifying for [ fold0 > other ] on [ aac7GlobalDownSampled ]\n",
      ">>>> [ 0.02 , 4.5 ] <<<<\n",
      "Learning from [ fold1 > other ] on [ aac7GlobalDownSampled ]\n",
      "Classifying for [ fold1 > other ] on [ aac7GlobalDownSampled ]\n",
      ">>>> [ 0.02 , 4.5 ] <<<<\n",
      "Learning from [ fold2 > other ] on [ aac7GlobalDownSampled ]\n",
      "Classifying for [ fold2 > other ] on [ aac7GlobalDownSampled ]\n",
      ">>>> [ 0.02 , 4.5 ] <<<<\n",
      "Learning from [ fold3 > other ] on [ aac7GlobalDownSampled ]\n",
      "Classifying for [ fold3 > other ] on [ aac7GlobalDownSampled ]\n",
      ">>>> [ 0.02 , 4.5 ] <<<<\n",
      "Learning from [ fold4 > other ] on [ aac7GlobalDownSampled ]\n",
      "Classifying for [ fold4 > other ] on [ aac7GlobalDownSampled ]\n",
      ">>>> [ 0.02 , 4.5 ] <<<<\n",
      "Learning from [ fold0 > protein ] on [ aac7GlobalDownSampled ]\n",
      "Classifying for [ fold0 > protein ] on [ aac7GlobalDownSampled ]\n",
      ">>>> [ 0.02 , 4.5 ] <<<<\n",
      "Learning from [ fold1 > protein ] on [ aac7GlobalDownSampled ]\n",
      "Classifying for [ fold1 > protein ] on [ aac7GlobalDownSampled ]\n",
      ">>>> [ 0.02 , 4.5 ] <<<<\n",
      "Learning from [ fold2 > protein ] on [ aac7GlobalDownSampled ]\n",
      "Classifying for [ fold2 > protein ] on [ aac7GlobalDownSampled ]\n",
      ">>>> [ 0.02 , 4.5 ] <<<<\n",
      "Learning from [ fold3 > protein ] on [ aac7GlobalDownSampled ]\n",
      "Classifying for [ fold3 > protein ] on [ aac7GlobalDownSampled ]\n",
      ">>>> [ 0.02 , 4.5 ] <<<<\n",
      "Learning from [ fold4 > protein ] on [ aac7GlobalDownSampled ]\n",
      "Classifying for [ fold4 > protein ] on [ aac7GlobalDownSampled ]\n",
      ">>>> [ 0.02 , 4.5 ] <<<<\n",
      "Learning from [ fold0 > sugar ] on [ aac7GlobalDownSampled ]\n",
      "Classifying for [ fold0 > sugar ] on [ aac7GlobalDownSampled ]\n",
      ">>>> [ 0.02 , 4.5 ] <<<<\n",
      "Learning from [ fold1 > sugar ] on [ aac7GlobalDownSampled ]\n",
      "Classifying for [ fold1 > sugar ] on [ aac7GlobalDownSampled ]\n",
      ">>>> [ 0.02 , 4.5 ] <<<<\n",
      "Learning from [ fold2 > sugar ] on [ aac7GlobalDownSampled ]\n",
      "Classifying for [ fold2 > sugar ] on [ aac7GlobalDownSampled ]\n",
      ">>>> [ 0.02 , 4.5 ] <<<<\n",
      "Learning from [ fold3 > sugar ] on [ aac7GlobalDownSampled ]\n",
      "Classifying for [ fold3 > sugar ] on [ aac7GlobalDownSampled ]\n",
      ">>>> [ 0.02 , 4.5 ] <<<<\n",
      "Learning from [ fold4 > sugar ] on [ aac7GlobalDownSampled ]\n",
      "Classifying for [ fold4 > sugar ] on [ aac7GlobalDownSampled ]\n"
     ]
    }
   ],
   "source": [
    "#Train Test Folds to File\n",
    "_feature=\"aac7GlobalDownSampled\"\n",
    "_trainTest2File(train_test_downSampled.copy(),classes.copy(),_num_of_folds,_feature)\n",
    "_svmLightclassify(classes.copy(),_num_of_folds,_params_['aac7Global'],_feature)"
   ]
  },
  {
   "cell_type": "code",
   "execution_count": 15,
   "metadata": {},
   "outputs": [
    {
     "name": "stdout",
     "output_type": "stream",
     "text": [
      "Processing Fold [0]\n",
      "Processing Fold [1]\n",
      "Processing Fold [2]\n",
      "Processing Fold [3]\n",
      "Processing Fold [4]\n",
      "==================================\n",
      "==================================\n",
      "Total Macro for problem\n",
      "[81.90457142857143, 48.332857142857144, 87.4997142857143, 33.44914285714286]\n",
      "----------------------------------\n",
      "Total Micro for problem\n",
      "[81.902, 48.333999999999996, 87.5, 32.922000000000004]\n",
      "==================================\n",
      "==================================\n"
     ]
    }
   ],
   "source": [
    "#Evaluation (By Class) \n",
    "_evaluate(classes.copy(),_num_of_folds,_feature,'class')"
   ]
  },
  {
   "cell_type": "code",
   "execution_count": 16,
   "metadata": {},
   "outputs": [
    {
     "name": "stdout",
     "output_type": "stream",
     "text": [
      "Processing Fold [0]\n",
      "Processing Fold [1]\n",
      "Processing Fold [2]\n",
      "Processing Fold [3]\n",
      "Processing Fold [4]\n",
      "==================================\n",
      "==================================\n",
      "Total Macro for problem\n",
      "[69.96542857142857, 71.19085714285714, 69.76085714285713, 30.555142857142858]\n",
      "----------------------------------\n",
      "Total Micro for problem\n",
      "[69.96799999999999, 71.19200000000001, 69.76000000000002, 29.856]\n",
      "==================================\n",
      "==================================\n"
     ]
    }
   ],
   "source": [
    "#Evaluation (By Class) [Threshold = -0.5]\n",
    "_evaluate(classes.copy(),_num_of_folds,_feature,'class',-0.45)"
   ]
  },
  {
   "cell_type": "code",
   "execution_count": 17,
   "metadata": {},
   "outputs": [
    {
     "name": "stdout",
     "output_type": "stream",
     "text": [
      "Processing Fold [0]\n",
      "Processing Fold [1]\n",
      "Processing Fold [2]\n",
      "Processing Fold [3]\n",
      "Processing Fold [4]\n",
      "==================================\n",
      "==================================\n",
      "Total Macro for problem\n",
      "[83.87657142857142, 43.572571428571436, 90.59514285714286, 33.26457142857143]\n",
      "----------------------------------\n",
      "Total Micro for problem\n",
      "[83.874, 43.574, 90.59400000000001, 34.164]\n",
      "==================================\n",
      "==================================\n"
     ]
    }
   ],
   "source": [
    "#Evaluation (By Fold)\n",
    "_evaluate(classes.copy(),_num_of_folds,_feature,'fold')"
   ]
  },
  {
   "cell_type": "markdown",
   "metadata": {},
   "source": [
    "#### Shuffled Dataset"
   ]
  },
  {
   "cell_type": "code",
   "execution_count": 18,
   "metadata": {
    "collapsed": true
   },
   "outputs": [
    {
     "name": "stdout",
     "output_type": "stream",
     "text": [
      "Processing fold [ 0 ]\n",
      "Processing fold [ 1 ]\n",
      "Processing fold [ 2 ]\n",
      "Processing fold [ 3 ]\n",
      "Processing fold [ 4 ]\n",
      ">>>> [ 0.02 , 4.5 ] <<<<\n",
      "Learning from [ fold0 > amino ] on [ aac7GlobalShuffled ]\n",
      "Classifying for [ fold0 > amino ] on [ aac7GlobalShuffled ]\n",
      ">>>> [ 0.02 , 4.5 ] <<<<\n",
      "Learning from [ fold1 > amino ] on [ aac7GlobalShuffled ]\n",
      "Classifying for [ fold1 > amino ] on [ aac7GlobalShuffled ]\n",
      ">>>> [ 0.02 , 4.5 ] <<<<\n",
      "Learning from [ fold2 > amino ] on [ aac7GlobalShuffled ]\n",
      "Classifying for [ fold2 > amino ] on [ aac7GlobalShuffled ]\n",
      ">>>> [ 0.02 , 4.5 ] <<<<\n",
      "Learning from [ fold3 > amino ] on [ aac7GlobalShuffled ]\n",
      "Classifying for [ fold3 > amino ] on [ aac7GlobalShuffled ]\n",
      ">>>> [ 0.02 , 4.5 ] <<<<\n",
      "Learning from [ fold4 > amino ] on [ aac7GlobalShuffled ]\n",
      "Classifying for [ fold4 > amino ] on [ aac7GlobalShuffled ]\n",
      ">>>> [ 0.02 , 4.5 ] <<<<\n",
      "Learning from [ fold0 > anion ] on [ aac7GlobalShuffled ]\n",
      "Classifying for [ fold0 > anion ] on [ aac7GlobalShuffled ]\n",
      ">>>> [ 0.02 , 4.5 ] <<<<\n",
      "Learning from [ fold1 > anion ] on [ aac7GlobalShuffled ]\n",
      "Classifying for [ fold1 > anion ] on [ aac7GlobalShuffled ]\n",
      ">>>> [ 0.02 , 4.5 ] <<<<\n",
      "Learning from [ fold2 > anion ] on [ aac7GlobalShuffled ]\n",
      "Classifying for [ fold2 > anion ] on [ aac7GlobalShuffled ]\n",
      ">>>> [ 0.02 , 4.5 ] <<<<\n",
      "Learning from [ fold3 > anion ] on [ aac7GlobalShuffled ]\n",
      "Classifying for [ fold3 > anion ] on [ aac7GlobalShuffled ]\n",
      ">>>> [ 0.02 , 4.5 ] <<<<\n",
      "Learning from [ fold4 > anion ] on [ aac7GlobalShuffled ]\n",
      "Classifying for [ fold4 > anion ] on [ aac7GlobalShuffled ]\n",
      ">>>> [ 0.02 , 4.5 ] <<<<\n",
      "Learning from [ fold0 > cation ] on [ aac7GlobalShuffled ]\n",
      "Classifying for [ fold0 > cation ] on [ aac7GlobalShuffled ]\n",
      ">>>> [ 0.02 , 4.5 ] <<<<\n",
      "Learning from [ fold1 > cation ] on [ aac7GlobalShuffled ]\n",
      "Classifying for [ fold1 > cation ] on [ aac7GlobalShuffled ]\n",
      ">>>> [ 0.02 , 4.5 ] <<<<\n",
      "Learning from [ fold2 > cation ] on [ aac7GlobalShuffled ]\n",
      "Classifying for [ fold2 > cation ] on [ aac7GlobalShuffled ]\n",
      ">>>> [ 0.02 , 4.5 ] <<<<\n",
      "Learning from [ fold3 > cation ] on [ aac7GlobalShuffled ]\n",
      "Classifying for [ fold3 > cation ] on [ aac7GlobalShuffled ]\n",
      ">>>> [ 0.02 , 4.5 ] <<<<\n",
      "Learning from [ fold4 > cation ] on [ aac7GlobalShuffled ]\n",
      "Classifying for [ fold4 > cation ] on [ aac7GlobalShuffled ]\n",
      ">>>> [ 0.02 , 4.5 ] <<<<\n",
      "Learning from [ fold0 > electron ] on [ aac7GlobalShuffled ]\n",
      "Classifying for [ fold0 > electron ] on [ aac7GlobalShuffled ]\n",
      ">>>> [ 0.02 , 4.5 ] <<<<\n",
      "Learning from [ fold1 > electron ] on [ aac7GlobalShuffled ]\n",
      "Classifying for [ fold1 > electron ] on [ aac7GlobalShuffled ]\n",
      ">>>> [ 0.02 , 4.5 ] <<<<\n",
      "Learning from [ fold2 > electron ] on [ aac7GlobalShuffled ]\n",
      "Classifying for [ fold2 > electron ] on [ aac7GlobalShuffled ]\n",
      ">>>> [ 0.02 , 4.5 ] <<<<\n",
      "Learning from [ fold3 > electron ] on [ aac7GlobalShuffled ]\n",
      "Classifying for [ fold3 > electron ] on [ aac7GlobalShuffled ]\n",
      ">>>> [ 0.02 , 4.5 ] <<<<\n",
      "Learning from [ fold4 > electron ] on [ aac7GlobalShuffled ]\n",
      "Classifying for [ fold4 > electron ] on [ aac7GlobalShuffled ]\n",
      ">>>> [ 0.02 , 4.5 ] <<<<\n",
      "Learning from [ fold0 > other ] on [ aac7GlobalShuffled ]\n",
      "Classifying for [ fold0 > other ] on [ aac7GlobalShuffled ]\n",
      ">>>> [ 0.02 , 4.5 ] <<<<\n",
      "Learning from [ fold1 > other ] on [ aac7GlobalShuffled ]\n",
      "Classifying for [ fold1 > other ] on [ aac7GlobalShuffled ]\n",
      ">>>> [ 0.02 , 4.5 ] <<<<\n",
      "Learning from [ fold2 > other ] on [ aac7GlobalShuffled ]\n",
      "Classifying for [ fold2 > other ] on [ aac7GlobalShuffled ]\n",
      ">>>> [ 0.02 , 4.5 ] <<<<\n",
      "Learning from [ fold3 > other ] on [ aac7GlobalShuffled ]\n",
      "Classifying for [ fold3 > other ] on [ aac7GlobalShuffled ]\n",
      ">>>> [ 0.02 , 4.5 ] <<<<\n",
      "Learning from [ fold4 > other ] on [ aac7GlobalShuffled ]\n",
      "Classifying for [ fold4 > other ] on [ aac7GlobalShuffled ]\n",
      ">>>> [ 0.02 , 4.5 ] <<<<\n",
      "Learning from [ fold0 > protein ] on [ aac7GlobalShuffled ]\n",
      "Classifying for [ fold0 > protein ] on [ aac7GlobalShuffled ]\n",
      ">>>> [ 0.02 , 4.5 ] <<<<\n",
      "Learning from [ fold1 > protein ] on [ aac7GlobalShuffled ]\n",
      "Classifying for [ fold1 > protein ] on [ aac7GlobalShuffled ]\n",
      ">>>> [ 0.02 , 4.5 ] <<<<\n",
      "Learning from [ fold2 > protein ] on [ aac7GlobalShuffled ]\n",
      "Classifying for [ fold2 > protein ] on [ aac7GlobalShuffled ]\n",
      ">>>> [ 0.02 , 4.5 ] <<<<\n",
      "Learning from [ fold3 > protein ] on [ aac7GlobalShuffled ]\n",
      "Classifying for [ fold3 > protein ] on [ aac7GlobalShuffled ]\n",
      ">>>> [ 0.02 , 4.5 ] <<<<\n",
      "Learning from [ fold4 > protein ] on [ aac7GlobalShuffled ]\n",
      "Classifying for [ fold4 > protein ] on [ aac7GlobalShuffled ]\n",
      ">>>> [ 0.02 , 4.5 ] <<<<\n",
      "Learning from [ fold0 > sugar ] on [ aac7GlobalShuffled ]\n",
      "Classifying for [ fold0 > sugar ] on [ aac7GlobalShuffled ]\n",
      ">>>> [ 0.02 , 4.5 ] <<<<\n",
      "Learning from [ fold1 > sugar ] on [ aac7GlobalShuffled ]\n",
      "Classifying for [ fold1 > sugar ] on [ aac7GlobalShuffled ]\n",
      ">>>> [ 0.02 , 4.5 ] <<<<\n",
      "Learning from [ fold2 > sugar ] on [ aac7GlobalShuffled ]\n",
      "Classifying for [ fold2 > sugar ] on [ aac7GlobalShuffled ]\n",
      ">>>> [ 0.02 , 4.5 ] <<<<\n",
      "Learning from [ fold3 > sugar ] on [ aac7GlobalShuffled ]\n",
      "Classifying for [ fold3 > sugar ] on [ aac7GlobalShuffled ]\n",
      ">>>> [ 0.02 , 4.5 ] <<<<\n",
      "Learning from [ fold4 > sugar ] on [ aac7GlobalShuffled ]\n",
      "Classifying for [ fold4 > sugar ] on [ aac7GlobalShuffled ]\n"
     ]
    }
   ],
   "source": [
    "#Train Test Folds to File\n",
    "_feature=\"aac7GlobalShuffled\"\n",
    "_trainTest2File(train_test_shuffled.copy(),classes.copy(),_num_of_folds,_feature)\n",
    "_svmLightclassify(classes.copy(),_num_of_folds,_params_['aac7Global'],_feature)"
   ]
  },
  {
   "cell_type": "code",
   "execution_count": 19,
   "metadata": {},
   "outputs": [
    {
     "name": "stdout",
     "output_type": "stream",
     "text": [
      "Processing Fold [0]\n",
      "Processing Fold [1]\n",
      "Processing Fold [2]\n",
      "Processing Fold [3]\n",
      "Processing Fold [4]\n",
      "==================================\n",
      "==================================\n",
      "Total Macro for problem\n",
      "[80.42114285714285, 46.96028571428572, 81.49171428571428, 29.4]\n",
      "----------------------------------\n",
      "Total Micro for problem\n",
      "[80.424, 59.616, 83.888, 36.542]\n",
      "==================================\n",
      "==================================\n"
     ]
    }
   ],
   "source": [
    "#Evaluation (By Class) \n",
    "_evaluate(classes.copy(),_num_of_folds,_feature,'class')"
   ]
  },
  {
   "cell_type": "code",
   "execution_count": 20,
   "metadata": {},
   "outputs": [
    {
     "name": "stdout",
     "output_type": "stream",
     "text": [
      "Processing Fold [0]\n",
      "Processing Fold [1]\n",
      "Processing Fold [2]\n",
      "Processing Fold [3]\n",
      "Processing Fold [4]\n",
      "==================================\n",
      "==================================\n",
      "Total Macro for problem\n",
      "[72.91142857142857, 64.46714285714286, 69.24600000000001, 26.56171428571428]\n",
      "----------------------------------\n",
      "Total Micro for problem\n",
      "[72.912, 75.38399999999999, 72.5, 35.30800000000001]\n",
      "==================================\n",
      "==================================\n"
     ]
    }
   ],
   "source": [
    "#Evaluation (By Class) [Threshold = -0.5]\n",
    "_evaluate(classes.copy(),_num_of_folds,_feature,'class',-0.45)"
   ]
  },
  {
   "cell_type": "code",
   "execution_count": 21,
   "metadata": {},
   "outputs": [
    {
     "name": "stdout",
     "output_type": "stream",
     "text": [
      "Processing Fold [0]\n",
      "Processing Fold [1]\n",
      "Processing Fold [2]\n",
      "Processing Fold [3]\n",
      "Processing Fold [4]\n",
      "==================================\n",
      "==================================\n",
      "Total Macro for problem\n",
      "[84.21199999999999, 33.475428571428566, 89.15257142857142, 27.889714285714284]\n",
      "----------------------------------\n",
      "Total Micro for problem\n",
      "[84.212, 44.74400000000001, 90.792, 35.534000000000006]\n",
      "==================================\n",
      "==================================\n"
     ]
    }
   ],
   "source": [
    "#Evaluation (By Fold)\n",
    "_evaluate(classes.copy(),_num_of_folds,_feature,'fold')"
   ]
  },
  {
   "cell_type": "markdown",
   "metadata": {},
   "source": [
    "## 8-Class based models"
   ]
  },
  {
   "cell_type": "code",
   "execution_count": null,
   "metadata": {},
   "outputs": [],
   "source": [
    "featureFile=\"aac8\"\n",
    "_num_of_folds=5\n",
    "dataset=\"trainTest\""
   ]
  },
  {
   "cell_type": "code",
   "execution_count": null,
   "metadata": {},
   "outputs": [],
   "source": [
    "data=pd.read_csv(os.path.join('dataset',(featureFile+'.csv')))\n",
    "classes=sorted(data['label'].unique())"
   ]
  },
  {
   "cell_type": "markdown",
   "metadata": {},
   "source": [
    "#### Train/Test sets in 3 modes (Normal, Shuffled, Downsampled) in 5 folds "
   ]
  },
  {
   "cell_type": "code",
   "execution_count": null,
   "metadata": {},
   "outputs": [],
   "source": [
    "#Train_Test Folds creation\n",
    "train_test_normal=_data2trainTest(data.copy(),classes.copy(),_num_of_folds,'normal')\n",
    "train_test_shuffled=_data2trainTest(data.copy(),classes.copy(),_num_of_folds,'shuffle')\n",
    "train_test_downSampled=_data2trainTest(data.copy(),classes.copy(),_num_of_folds,'downSample')"
   ]
  },
  {
   "cell_type": "markdown",
   "metadata": {},
   "source": [
    "### Gamma & Cost (different for each class)"
   ]
  },
  {
   "cell_type": "markdown",
   "metadata": {},
   "source": [
    "#### Normal Dataset"
   ]
  },
  {
   "cell_type": "code",
   "execution_count": null,
   "metadata": {},
   "outputs": [],
   "source": [
    "#Train Test Folds to File\n",
    "_feature=\"aac8LocalNormal\"\n",
    "_trainTest2File(train_test_normal.copy(),classes.copy(),_num_of_folds,_feature)\n",
    "_svmLightclassify(classes.copy(),_num_of_folds,_params_['aac8Local'],_feature)"
   ]
  },
  {
   "cell_type": "code",
   "execution_count": null,
   "metadata": {},
   "outputs": [],
   "source": [
    "#Evaluation (By Class) \n",
    "_evaluate(classes.copy(),_num_of_folds,_feature,'class')"
   ]
  },
  {
   "cell_type": "code",
   "execution_count": null,
   "metadata": {},
   "outputs": [],
   "source": [
    "#Evaluation (By Class) [Threshold = -0.5]\n",
    "_evaluate(classes.copy(),_num_of_folds,_feature,'class',-0.55)"
   ]
  },
  {
   "cell_type": "code",
   "execution_count": null,
   "metadata": {},
   "outputs": [],
   "source": [
    "#Evaluation (By Fold)\n",
    "_evaluate(classes.copy(),_num_of_folds,_feature,'fold')"
   ]
  },
  {
   "cell_type": "markdown",
   "metadata": {},
   "source": [
    "#### Down Sampled Dataset"
   ]
  },
  {
   "cell_type": "code",
   "execution_count": null,
   "metadata": {},
   "outputs": [],
   "source": [
    "#Train Test Folds to File\n",
    "_feature=\"aac8LocalDownSampled\"\n",
    "_trainTest2File(train_test_downSampled.copy(),classes.copy(),_num_of_folds,_feature)\n",
    "_svmLightclassify(classes.copy(),_num_of_folds,_params_['aac8Local'],_feature)"
   ]
  },
  {
   "cell_type": "code",
   "execution_count": null,
   "metadata": {},
   "outputs": [],
   "source": [
    "#Evaluation (By Class) \n",
    "_evaluate(classes.copy(),_num_of_folds,_feature,'class')"
   ]
  },
  {
   "cell_type": "code",
   "execution_count": null,
   "metadata": {},
   "outputs": [],
   "source": [
    "#Evaluation (By Class) [Threshold = -0.5]\n",
    "_evaluate(classes.copy(),_num_of_folds,_feature,'class',-0.45)"
   ]
  },
  {
   "cell_type": "code",
   "execution_count": null,
   "metadata": {},
   "outputs": [],
   "source": [
    "#Evaluation (By Fold)\n",
    "_evaluate(classes.copy(),_num_of_folds,_feature,'fold')"
   ]
  },
  {
   "cell_type": "markdown",
   "metadata": {},
   "source": [
    "#### Shuffled Dataset"
   ]
  },
  {
   "cell_type": "code",
   "execution_count": null,
   "metadata": {},
   "outputs": [],
   "source": [
    "#Train Test Folds to File\n",
    "_feature=\"aac8LocalShuffled\"\n",
    "_trainTest2File(train_test_shuffled.copy(),classes.copy(),_num_of_folds,_feature)\n",
    "_svmLightclassify(classes.copy(),_num_of_folds,_params_['aac8Local'],_feature)"
   ]
  },
  {
   "cell_type": "code",
   "execution_count": null,
   "metadata": {},
   "outputs": [],
   "source": [
    "#Evaluation (By Class) \n",
    "_evaluate(classes.copy(),_num_of_folds,_feature,'class')"
   ]
  },
  {
   "cell_type": "code",
   "execution_count": null,
   "metadata": {},
   "outputs": [],
   "source": [
    "#Evaluation (By Class) [Threshold = -0.5]\n",
    "_evaluate(classes.copy(),_num_of_folds,_feature,'class',-0.45)"
   ]
  },
  {
   "cell_type": "code",
   "execution_count": null,
   "metadata": {},
   "outputs": [],
   "source": [
    "#Evaluation (By Fold)\n",
    "_evaluate(classes.copy(),_num_of_folds,_feature,'fold')"
   ]
  },
  {
   "cell_type": "markdown",
   "metadata": {},
   "source": [
    "### Gamma & Cost (same for all classes)"
   ]
  },
  {
   "cell_type": "markdown",
   "metadata": {},
   "source": [
    "#### Normal Dataset"
   ]
  },
  {
   "cell_type": "code",
   "execution_count": null,
   "metadata": {},
   "outputs": [],
   "source": [
    "#Train Test Folds to File\n",
    "_feature=\"aac8GlobalNormal\"\n",
    "_trainTest2File(train_test_normal.copy(),classes.copy(),_num_of_folds,_feature)\n",
    "_svmLightclassify(classes.copy(),_num_of_folds,_params_['aac8Global'],_feature)"
   ]
  },
  {
   "cell_type": "code",
   "execution_count": null,
   "metadata": {},
   "outputs": [],
   "source": [
    "#Evaluation (By Class) \n",
    "_evaluate(classes.copy(),_num_of_folds,_feature,'class')"
   ]
  },
  {
   "cell_type": "code",
   "execution_count": null,
   "metadata": {},
   "outputs": [],
   "source": [
    "#Evaluation (By Class) [Threshold = -0.5]\n",
    "_evaluate(classes.copy(),_num_of_folds,_feature,'class',-0.55)"
   ]
  },
  {
   "cell_type": "code",
   "execution_count": null,
   "metadata": {},
   "outputs": [],
   "source": [
    "#Evaluation (By Fold)\n",
    "_evaluate(classes.copy(),_num_of_folds,_feature,'fold')"
   ]
  },
  {
   "cell_type": "markdown",
   "metadata": {},
   "source": [
    "#### Down Sampled Dataset"
   ]
  },
  {
   "cell_type": "code",
   "execution_count": null,
   "metadata": {},
   "outputs": [],
   "source": [
    "#Train Test Folds to File\n",
    "_feature=\"aac8GlobalDownSampled\"\n",
    "_trainTest2File(train_test_downSampled.copy(),classes.copy(),_num_of_folds,_feature)\n",
    "_svmLightclassify(classes.copy(),_num_of_folds,_params_['aac8Global'],_feature)"
   ]
  },
  {
   "cell_type": "code",
   "execution_count": null,
   "metadata": {},
   "outputs": [],
   "source": [
    "#Evaluation (By Class) \n",
    "_evaluate(classes.copy(),_num_of_folds,_feature,'class')"
   ]
  },
  {
   "cell_type": "code",
   "execution_count": null,
   "metadata": {},
   "outputs": [],
   "source": [
    "#Evaluation (By Class) [Threshold = -0.5]\n",
    "_evaluate(classes.copy(),_num_of_folds,_feature,'class',-0.55)"
   ]
  },
  {
   "cell_type": "code",
   "execution_count": null,
   "metadata": {},
   "outputs": [],
   "source": [
    "#Evaluation (By Fold)\n",
    "_evaluate(classes.copy(),_num_of_folds,_feature,'fold')"
   ]
  },
  {
   "cell_type": "markdown",
   "metadata": {},
   "source": [
    "#### Shuffled Dataset"
   ]
  },
  {
   "cell_type": "code",
   "execution_count": null,
   "metadata": {},
   "outputs": [],
   "source": [
    "#Train Test Folds to File\n",
    "_feature=\"aac8GlobalShuffled\"\n",
    "_trainTest2File(train_test_shuffled.copy(),classes.copy(),_num_of_folds,_feature)\n",
    "_svmLightclassify(classes.copy(),_num_of_folds,_params_['aac8Global'],_feature)"
   ]
  },
  {
   "cell_type": "code",
   "execution_count": null,
   "metadata": {},
   "outputs": [],
   "source": [
    "#Evaluation (By Class) \n",
    "_evaluate(classes.copy(),_num_of_folds,_feature,'class')"
   ]
  },
  {
   "cell_type": "code",
   "execution_count": null,
   "metadata": {},
   "outputs": [],
   "source": [
    "#Evaluation (By Class) [Threshold = -0.5]\n",
    "_evaluate(classes.copy(),_num_of_folds,_feature,'class',-0.55)"
   ]
  },
  {
   "cell_type": "code",
   "execution_count": null,
   "metadata": {},
   "outputs": [],
   "source": [
    "#Evaluation (By Fold)\n",
    "_evaluate(classes.copy(),_num_of_folds,_feature,'fold')"
   ]
  },
  {
   "cell_type": "code",
   "execution_count": null,
   "metadata": {},
   "outputs": [],
   "source": []
  }
 ],
 "metadata": {
  "kernelspec": {
   "display_name": "Python 3",
   "language": "python",
   "name": "python3"
  },
  "language_info": {
   "codemirror_mode": {
    "name": "ipython",
    "version": 3
   },
   "file_extension": ".py",
   "mimetype": "text/x-python",
   "name": "python",
   "nbconvert_exporter": "python",
   "pygments_lexer": "ipython3",
   "version": "3.7.0"
  }
 },
 "nbformat": 4,
 "nbformat_minor": 2
}
