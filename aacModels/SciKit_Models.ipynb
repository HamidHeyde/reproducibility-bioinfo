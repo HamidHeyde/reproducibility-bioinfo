{
 "cells": [
  {
   "cell_type": "markdown",
   "metadata": {},
   "source": [
    "### Imports"
   ]
  },
  {
   "cell_type": "code",
   "execution_count": 1,
   "metadata": {},
   "outputs": [],
   "source": [
    "import os\n",
    "import pandas as pd\n",
    "#Functions\n",
    "from helpers_scikit import _data2trainTest, _trainTest2File, _scikitClassify, _evaluate"
   ]
  },
  {
   "cell_type": "markdown",
   "metadata": {},
   "source": [
    "### Config"
   ]
  },
  {
   "cell_type": "code",
   "execution_count": 2,
   "metadata": {},
   "outputs": [],
   "source": [
    "config = {\n",
    "    \"featuresPath\": os.path.join(\"dataset\", \"{}\"),\n",
    "    \"scikitFeaturesPath\": os.path.join(\"scikit\",\"{}\",\"{}\",\"{}\"),\n",
    "    \"scikitFeaturesFileTarget\": os.path.join(\"scikit\",\"{}\",\"{}\",\"{}\", \"{}\")\n",
    "}\n",
    "\n",
    "_params_={}\n",
    "_params_['aac7Global'] = [ [0.02,4.5] for i in range(7) ]\n",
    "_params_['aac7Local']=[ [0.03,4.6],[0.04,5.0],[0.02,4.6], [0.02,4.0],[0.03,4.0],[0.04,5.0],[0.03,5.0] ]\n",
    "_params_['aac8Global'] =[ [0.01,4.0] for i in range(8) ]\n",
    "_params_['aac8Local'] =[ [0.03,4.6],[0.04,5.0],[0.02,4.6], [0.02,4.0],[0.02,4.8],[0.03,4.0],[0.04,5.0],[0.03,5.0] ]"
   ]
  },
  {
   "cell_type": "markdown",
   "metadata": {},
   "source": [
    "## 7 class-based models"
   ]
  },
  {
   "cell_type": "code",
   "execution_count": null,
   "metadata": {},
   "outputs": [],
   "source": [
    "featureFile=\"aac7\"\n",
    "_num_of_folds=5"
   ]
  },
  {
   "cell_type": "code",
   "execution_count": null,
   "metadata": {},
   "outputs": [],
   "source": [
    "data=pd.read_csv(config['featuresPath'].format((featureFile+'.csv')))\n",
    "classes=sorted(data['label'].unique())"
   ]
  },
  {
   "cell_type": "markdown",
   "metadata": {},
   "source": [
    "#### Train/Test sets in 3 modes (Normal, Shuffled, Downsampled) in 5 folds "
   ]
  },
  {
   "cell_type": "code",
   "execution_count": null,
   "metadata": {},
   "outputs": [],
   "source": [
    "#Train_Test Folds creation\n",
    "train_test_normal=_data2trainTest(data.copy(),classes.copy(),_num_of_folds,'normal')\n",
    "train_test_shuffled=_data2trainTest(data.copy(),classes.copy(),_num_of_folds,'shuffle')\n",
    "train_test_downSampled=_data2trainTest(data.copy(),classes.copy(),_num_of_folds,'downSample')"
   ]
  },
  {
   "cell_type": "markdown",
   "metadata": {},
   "source": [
    "### Gamma & Cost (different for each class)"
   ]
  },
  {
   "cell_type": "markdown",
   "metadata": {},
   "source": [
    "#### Normal Dataset"
   ]
  },
  {
   "cell_type": "code",
   "execution_count": null,
   "metadata": {},
   "outputs": [],
   "source": [
    "#Train Test Folds to File\n",
    "_feature=\"aac7LocalNormal\"\n",
    "_trainTest2File(train_test_normal.copy(),classes.copy(),_num_of_folds,_feature)\n",
    "_scikitClassify(classes.copy(),_num_of_folds,_params_['aac7Local'],_feature)"
   ]
  },
  {
   "cell_type": "code",
   "execution_count": null,
   "metadata": {},
   "outputs": [],
   "source": [
    "#Evaluation (By Class) \n",
    "_evaluate(classes.copy(),_num_of_folds,_feature,'class')"
   ]
  },
  {
   "cell_type": "code",
   "execution_count": null,
   "metadata": {},
   "outputs": [],
   "source": [
    "#Evaluation (By Class) [Threshold = -0.02]\n",
    "_evaluate(classes.copy(),_num_of_folds,_feature,'class',-0.02)"
   ]
  },
  {
   "cell_type": "code",
   "execution_count": null,
   "metadata": {},
   "outputs": [],
   "source": [
    "#Evaluation (By Fold)\n",
    "_evaluate(classes.copy(),_num_of_folds,_feature,'fold')"
   ]
  },
  {
   "cell_type": "markdown",
   "metadata": {},
   "source": [
    "#### Down Sampled"
   ]
  },
  {
   "cell_type": "code",
   "execution_count": null,
   "metadata": {},
   "outputs": [],
   "source": [
    "#Train Test Folds to File\n",
    "_feature=\"aac7LocalDownSampled\"\n",
    "_trainTest2File(train_test_downSampled.copy(),classes.copy(),_num_of_folds,_feature)\n",
    "_scikitClassify(classes.copy(),_num_of_folds,_params_['aac7Local'],_feature)"
   ]
  },
  {
   "cell_type": "code",
   "execution_count": null,
   "metadata": {},
   "outputs": [],
   "source": [
    "#Evaluation (By Class)\n",
    "_evaluate(classes.copy(),_num_of_folds,_feature,'class')"
   ]
  },
  {
   "cell_type": "code",
   "execution_count": null,
   "metadata": {},
   "outputs": [],
   "source": [
    "#Evaluation (By Class) [Threshold = -0.02]\n",
    "_evaluate(classes.copy(),_num_of_folds,_feature,'class',-0.02)"
   ]
  },
  {
   "cell_type": "code",
   "execution_count": null,
   "metadata": {},
   "outputs": [],
   "source": [
    "_evaluate(classes.copy(),_num_of_folds,_feature,'fold')"
   ]
  },
  {
   "cell_type": "markdown",
   "metadata": {},
   "source": [
    "#### Shuffled"
   ]
  },
  {
   "cell_type": "code",
   "execution_count": null,
   "metadata": {},
   "outputs": [],
   "source": [
    "#Train Test Folds to File\n",
    "_feature=\"aac7LocalShuffled\"\n",
    "_trainTest2File(train_test_shuffled.copy(),classes.copy(),_num_of_folds,_feature)\n",
    "_scikitClassify(classes.copy(),_num_of_folds,_params_['aac7Local'],_feature)"
   ]
  },
  {
   "cell_type": "code",
   "execution_count": null,
   "metadata": {},
   "outputs": [],
   "source": [
    "#Evaluation (By Class)\n",
    "_evaluate(classes.copy(),_num_of_folds,_feature,'class')"
   ]
  },
  {
   "cell_type": "code",
   "execution_count": null,
   "metadata": {},
   "outputs": [],
   "source": [
    "#Evaluation (By Class) [Threshold = -0.02]\n",
    "_evaluate(classes.copy(),_num_of_folds,_feature,'class',-0.02)"
   ]
  },
  {
   "cell_type": "code",
   "execution_count": null,
   "metadata": {},
   "outputs": [],
   "source": [
    "_evaluate(classes.copy(),_num_of_folds,_feature,'fold')"
   ]
  },
  {
   "cell_type": "markdown",
   "metadata": {},
   "source": [
    "### Gamma & Cost (Same for all classes)"
   ]
  },
  {
   "cell_type": "markdown",
   "metadata": {},
   "source": [
    "#### Normal Dataset"
   ]
  },
  {
   "cell_type": "code",
   "execution_count": null,
   "metadata": {},
   "outputs": [],
   "source": [
    "#Train Test Folds to File\n",
    "_feature=\"aac7GlobalNormal\"\n",
    "_trainTest2File(train_test_normal.copy(),classes.copy(),_num_of_folds,_feature)\n",
    "_scikitClassify(classes.copy(),_num_of_folds,_params_['aac7Global'],_feature)"
   ]
  },
  {
   "cell_type": "code",
   "execution_count": null,
   "metadata": {},
   "outputs": [],
   "source": [
    "_evaluate(classes.copy(),_num_of_folds,_feature,'class')"
   ]
  },
  {
   "cell_type": "code",
   "execution_count": null,
   "metadata": {},
   "outputs": [],
   "source": [
    "#Evaluation (By Class) [Threshold = -0.02]\n",
    "_evaluate(classes.copy(),_num_of_folds,_feature,'class',-0.02)"
   ]
  },
  {
   "cell_type": "code",
   "execution_count": null,
   "metadata": {},
   "outputs": [],
   "source": [
    "#Evaluation (By Fold)\n",
    "_evaluate(classes.copy(),_num_of_folds,_feature,'fold')"
   ]
  },
  {
   "cell_type": "markdown",
   "metadata": {},
   "source": [
    "#### Down-Sampled"
   ]
  },
  {
   "cell_type": "code",
   "execution_count": null,
   "metadata": {},
   "outputs": [],
   "source": [
    "#Train Test Folds to File\n",
    "_feature=\"aac7GlobalDownSampled\"\n",
    "_trainTest2File(train_test_downSampled.copy(),classes.copy(),_num_of_folds,_feature)\n",
    "_scikitClassify(classes.copy(),_num_of_folds,_params_['aac7Global'],_feature)"
   ]
  },
  {
   "cell_type": "code",
   "execution_count": null,
   "metadata": {},
   "outputs": [],
   "source": [
    "_evaluate(classes.copy(),_num_of_folds,_feature,'class')"
   ]
  },
  {
   "cell_type": "code",
   "execution_count": null,
   "metadata": {},
   "outputs": [],
   "source": [
    "_evaluate(classes.copy(),_num_of_folds,_feature,'class',-0.02)"
   ]
  },
  {
   "cell_type": "code",
   "execution_count": null,
   "metadata": {},
   "outputs": [],
   "source": [
    "_evaluate(classes.copy(),_num_of_folds,_feature,'fold')"
   ]
  },
  {
   "cell_type": "markdown",
   "metadata": {},
   "source": [
    "#### Shuffled Dataset"
   ]
  },
  {
   "cell_type": "code",
   "execution_count": null,
   "metadata": {},
   "outputs": [],
   "source": [
    "#Train Test Folds to File\n",
    "_feature=\"aac7GlobalShuffled\"\n",
    "_trainTest2File(train_test_shuffled.copy(),classes.copy(),_num_of_folds,_feature)\n",
    "_scikitClassify(classes.copy(),_num_of_folds,_params_['aac7Global'],_feature)"
   ]
  },
  {
   "cell_type": "code",
   "execution_count": null,
   "metadata": {},
   "outputs": [],
   "source": [
    "_evaluate(classes.copy(),_num_of_folds,_feature,'class')"
   ]
  },
  {
   "cell_type": "code",
   "execution_count": null,
   "metadata": {},
   "outputs": [],
   "source": [
    "#Evaluation (By Class) [Threshold = -0.02]\n",
    "_evaluate(classes.copy(),_num_of_folds,_feature,'class',-0.02)"
   ]
  },
  {
   "cell_type": "code",
   "execution_count": null,
   "metadata": {},
   "outputs": [],
   "source": [
    "#Evaluation (By Fold)\n",
    "_evaluate(classes.copy(),_num_of_folds,_feature,'fold')"
   ]
  },
  {
   "cell_type": "markdown",
   "metadata": {},
   "source": [
    "## 8 class-based models"
   ]
  },
  {
   "cell_type": "code",
   "execution_count": 3,
   "metadata": {},
   "outputs": [],
   "source": [
    "featureFile=\"aac8\"\n",
    "_num_of_folds=5"
   ]
  },
  {
   "cell_type": "code",
   "execution_count": 4,
   "metadata": {},
   "outputs": [],
   "source": [
    "data=pd.read_csv(config['featuresPath'].format((featureFile+'.csv')))\n",
    "classes=sorted(data['label'].unique())"
   ]
  },
  {
   "cell_type": "markdown",
   "metadata": {},
   "source": [
    "#### Train/Test sets in 3 modes (Normal, Shuffled, Downsampled) in 5 folds "
   ]
  },
  {
   "cell_type": "code",
   "execution_count": 5,
   "metadata": {},
   "outputs": [],
   "source": [
    "#Train_Test Folds creation\n",
    "train_test_normal=_data2trainTest(data.copy(),classes.copy(),_num_of_folds,'normal')\n",
    "train_test_shuffled=_data2trainTest(data.copy(),classes.copy(),_num_of_folds,'shuffle')\n",
    "train_test_downSampled=_data2trainTest(data.copy(),classes.copy(),_num_of_folds,'downSample')"
   ]
  },
  {
   "cell_type": "markdown",
   "metadata": {},
   "source": [
    "### Gamma & Cost (different for each class)"
   ]
  },
  {
   "cell_type": "markdown",
   "metadata": {},
   "source": [
    "#### Normal Dataset"
   ]
  },
  {
   "cell_type": "code",
   "execution_count": 10,
   "metadata": {
    "collapsed": true
   },
   "outputs": [
    {
     "name": "stdout",
     "output_type": "stream",
     "text": [
      "Processing fold [ 0 ]\n",
      "Processing fold [ 1 ]\n",
      "Processing fold [ 2 ]\n",
      "Processing fold [ 3 ]\n",
      "Processing fold [ 4 ]\n",
      "Classifying fold [ 0 ]\n",
      "Classifying fold [ 1 ]\n",
      "Classifying fold [ 2 ]\n",
      "Classifying fold [ 3 ]\n",
      "Classifying fold [ 4 ]\n"
     ]
    }
   ],
   "source": [
    "#Train Test Folds to File\n",
    "_feature=\"aac8LocalNormal\"\n",
    "_trainTest2File(train_test_normal.copy(),classes.copy(),_num_of_folds,_feature)\n",
    "_scikitClassify(classes.copy(),_num_of_folds,_params_['aac8Local'],_feature)"
   ]
  },
  {
   "cell_type": "code",
   "execution_count": 11,
   "metadata": {
    "collapsed": true
   },
   "outputs": [
    {
     "name": "stdout",
     "output_type": "stream",
     "text": [
      "Evaluating Fold [0]\n",
      "Evaluating Fold [1]\n",
      "Evaluating Fold [2]\n",
      "Evaluating Fold [3]\n",
      "Evaluating Fold [4]\n",
      "acc===sens====spec=============mcc\n",
      "==================================\n",
      "Total Macro for problem\n",
      "[90.04475, 25.41075, 95.64224999999999, 29.996499999999997]\n",
      "----------------------------------\n",
      "Total Micro for problem\n",
      "[90.046, 43.406000000000006, 96.708, 48.082]\n",
      "==================================\n",
      "==================================\n"
     ]
    }
   ],
   "source": [
    "#Evaluation (By Class) \n",
    "_evaluate(classes.copy(),_num_of_folds,_feature,'class')"
   ]
  },
  {
   "cell_type": "code",
   "execution_count": 22,
   "metadata": {
    "collapsed": true
   },
   "outputs": [
    {
     "name": "stdout",
     "output_type": "stream",
     "text": [
      "Evaluating Fold [0]\n",
      "Evaluating Fold [1]\n",
      "Evaluating Fold [2]\n",
      "Evaluating Fold [3]\n",
      "Evaluating Fold [4]\n",
      "acc===sens====spec=============mcc\n",
      "==================================\n",
      "Total Macro for problem\n",
      "[74.81825, 29.75625, 79.45725, 12.9215]\n",
      "----------------------------------\n",
      "Total Micro for problem\n",
      "[74.82000000000001, 45.001999999999995, 79.08, 18.686]\n",
      "==================================\n",
      "==================================\n"
     ]
    }
   ],
   "source": [
    "#Evaluation (By Class) [Threshold = -0.015]\n",
    "_evaluate(classes.copy(),_num_of_folds,_feature,'class',-0.015)"
   ]
  },
  {
   "cell_type": "code",
   "execution_count": 12,
   "metadata": {
    "collapsed": true
   },
   "outputs": [
    {
     "name": "stdout",
     "output_type": "stream",
     "text": [
      "Evaluating Fold [0]\n",
      "Evaluating Fold [1]\n",
      "Evaluating Fold [2]\n",
      "Evaluating Fold [3]\n",
      "Evaluating Fold [4]\n",
      "acc===sens====spec=============mcc\n",
      "==================================\n",
      "Total Macro for problem\n",
      "[85.83375, 26.44975, 91.253, 19.52775]\n",
      "----------------------------------\n",
      "Total Micro for problem\n",
      "[85.83399999999999, 43.333999999999996, 91.90400000000002, 35.238]\n",
      "==================================\n",
      "==================================\n"
     ]
    }
   ],
   "source": [
    "#Evaluation (By Fold)\n",
    "_evaluate(classes.copy(),_num_of_folds,_feature,'fold')"
   ]
  },
  {
   "cell_type": "markdown",
   "metadata": {},
   "source": [
    "#### Down Sampled"
   ]
  },
  {
   "cell_type": "code",
   "execution_count": 23,
   "metadata": {
    "collapsed": true
   },
   "outputs": [
    {
     "name": "stdout",
     "output_type": "stream",
     "text": [
      "Processing fold [ 0 ]\n",
      "Processing fold [ 1 ]\n",
      "Processing fold [ 2 ]\n",
      "Processing fold [ 3 ]\n",
      "Processing fold [ 4 ]\n",
      "Classifying fold [ 0 ]\n",
      "Classifying fold [ 1 ]\n",
      "Classifying fold [ 2 ]\n",
      "Classifying fold [ 3 ]\n",
      "Classifying fold [ 4 ]\n"
     ]
    }
   ],
   "source": [
    "#Train Test Folds to File\n",
    "_feature=\"aac8LocalDownSampled\"\n",
    "_trainTest2File(train_test_downSampled.copy(),classes.copy(),_num_of_folds,_feature)\n",
    "_scikitClassify(classes.copy(),_num_of_folds,_params_['aac8Local'],_feature)"
   ]
  },
  {
   "cell_type": "code",
   "execution_count": 24,
   "metadata": {
    "collapsed": true
   },
   "outputs": [
    {
     "name": "stdout",
     "output_type": "stream",
     "text": [
      "Evaluating Fold [0]\n",
      "Evaluating Fold [1]\n",
      "Evaluating Fold [2]\n",
      "Evaluating Fold [3]\n",
      "Evaluating Fold [4]\n",
      "acc===sens====spec=============mcc\n",
      "==================================\n",
      "Total Macro for problem\n",
      "[88.1765, 20.6245, 97.82825, 26.377499999999998]\n",
      "----------------------------------\n",
      "Total Micro for problem\n",
      "[88.176, 20.628, 97.82600000000001, 29.526]\n",
      "==================================\n",
      "==================================\n"
     ]
    }
   ],
   "source": [
    "#Evaluation (By Class)\n",
    "_evaluate(classes.copy(),_num_of_folds,_feature,'class')"
   ]
  },
  {
   "cell_type": "code",
   "execution_count": 25,
   "metadata": {
    "collapsed": true
   },
   "outputs": [
    {
     "name": "stdout",
     "output_type": "stream",
     "text": [
      "Evaluating Fold [0]\n",
      "Evaluating Fold [1]\n",
      "Evaluating Fold [2]\n",
      "Evaluating Fold [3]\n",
      "Evaluating Fold [4]\n",
      "acc===sens====spec=============mcc\n",
      "==================================\n",
      "Total Macro for problem\n",
      "[82.89125, 20.6245, 91.7865, 16.244]\n",
      "----------------------------------\n",
      "Total Micro for problem\n",
      "[82.888, 20.628, 91.784, 13.788]\n",
      "==================================\n",
      "==================================\n"
     ]
    }
   ],
   "source": [
    "#Evaluation (By Class) [Threshold = -0.02]\n",
    "_evaluate(classes.copy(),_num_of_folds,_feature,'class',-0.015)"
   ]
  },
  {
   "cell_type": "code",
   "execution_count": 26,
   "metadata": {
    "collapsed": true
   },
   "outputs": [
    {
     "name": "stdout",
     "output_type": "stream",
     "text": [
      "Evaluating Fold [0]\n",
      "Evaluating Fold [1]\n",
      "Evaluating Fold [2]\n",
      "Evaluating Fold [3]\n",
      "Evaluating Fold [4]\n",
      "acc===sens====spec=============mcc\n",
      "==================================\n",
      "Total Macro for problem\n",
      "[80.20875, 20.833, 88.69125, 10.785999999999998]\n",
      "----------------------------------\n",
      "Total Micro for problem\n",
      "[80.21000000000001, 20.836000000000002, 88.694, 9.522]\n",
      "==================================\n",
      "==================================\n"
     ]
    }
   ],
   "source": [
    "_evaluate(classes.copy(),_num_of_folds,_feature,'fold')"
   ]
  },
  {
   "cell_type": "markdown",
   "metadata": {},
   "source": [
    "#### Shuffled"
   ]
  },
  {
   "cell_type": "code",
   "execution_count": 36,
   "metadata": {
    "collapsed": true
   },
   "outputs": [
    {
     "name": "stdout",
     "output_type": "stream",
     "text": [
      "Processing fold [ 0 ]\n",
      "Processing fold [ 1 ]\n",
      "Processing fold [ 2 ]\n",
      "Processing fold [ 3 ]\n",
      "Processing fold [ 4 ]\n",
      "Classifying fold [ 0 ]\n",
      "Classifying fold [ 1 ]\n",
      "Classifying fold [ 2 ]\n",
      "Classifying fold [ 3 ]\n",
      "Classifying fold [ 4 ]\n"
     ]
    }
   ],
   "source": [
    "#Train Test Folds to File\n",
    "_feature=\"aac8LocalShuffled\"\n",
    "_trainTest2File(train_test_shuffled.copy(),classes.copy(),_num_of_folds,_feature)\n",
    "_scikitClassify(classes.copy(),_num_of_folds,_params_['aac8Local'],_feature)"
   ]
  },
  {
   "cell_type": "code",
   "execution_count": 37,
   "metadata": {
    "collapsed": true
   },
   "outputs": [
    {
     "name": "stdout",
     "output_type": "stream",
     "text": [
      "Evaluating Fold [0]\n",
      "Evaluating Fold [1]\n",
      "Evaluating Fold [2]\n",
      "Evaluating Fold [3]\n",
      "Evaluating Fold [4]\n",
      "acc===sens====spec=============mcc\n",
      "==================================\n",
      "Total Macro for problem\n",
      "[89.728, 23.996999999999996, 95.391, 26.814]\n",
      "----------------------------------\n",
      "Total Micro for problem\n",
      "[89.73, 42.61, 96.458, 46.53]\n",
      "==================================\n",
      "==================================\n"
     ]
    }
   ],
   "source": [
    "#Evaluation (By Class)\n",
    "_evaluate(classes.copy(),_num_of_folds,_feature,'class')"
   ]
  },
  {
   "cell_type": "code",
   "execution_count": 38,
   "metadata": {
    "collapsed": true
   },
   "outputs": [
    {
     "name": "stdout",
     "output_type": "stream",
     "text": [
      "Evaluating Fold [0]\n",
      "Evaluating Fold [1]\n",
      "Evaluating Fold [2]\n",
      "Evaluating Fold [3]\n",
      "Evaluating Fold [4]\n",
      "acc===sens====spec=============mcc\n",
      "==================================\n",
      "Total Macro for problem\n",
      "[73.99449999999999, 27.3755, 78.67575000000001, 10.51975]\n",
      "----------------------------------\n",
      "Total Micro for problem\n",
      "[73.994, 43.914, 78.294, 17.099999999999998]\n",
      "==================================\n",
      "==================================\n"
     ]
    }
   ],
   "source": [
    "#Evaluation (By Class) [Threshold = -0.02]\n",
    "_evaluate(classes.copy(),_num_of_folds,_feature,'class',-0.015)"
   ]
  },
  {
   "cell_type": "code",
   "execution_count": 39,
   "metadata": {
    "collapsed": true
   },
   "outputs": [
    {
     "name": "stdout",
     "output_type": "stream",
     "text": [
      "Evaluating Fold [0]\n",
      "Evaluating Fold [1]\n",
      "Evaluating Fold [2]\n",
      "Evaluating Fold [3]\n",
      "Evaluating Fold [4]\n",
      "acc===sens====spec=============mcc\n",
      "==================================\n",
      "Total Macro for problem\n",
      "[85.6155, 24.723999999999997, 91.13374999999999, 17.70525]\n",
      "----------------------------------\n",
      "Total Micro for problem\n",
      "[85.61599999999999, 42.465999999999994, 91.78, 34.24400000000001]\n",
      "==================================\n",
      "==================================\n"
     ]
    }
   ],
   "source": [
    "_evaluate(classes.copy(),_num_of_folds,_feature,'fold')"
   ]
  },
  {
   "cell_type": "markdown",
   "metadata": {},
   "source": [
    "### Gamma & Cost (Same for all classes)"
   ]
  },
  {
   "cell_type": "markdown",
   "metadata": {},
   "source": [
    "#### Normal Dataset"
   ]
  },
  {
   "cell_type": "code",
   "execution_count": 27,
   "metadata": {
    "collapsed": true
   },
   "outputs": [
    {
     "name": "stdout",
     "output_type": "stream",
     "text": [
      "Processing fold [ 0 ]\n",
      "Processing fold [ 1 ]\n",
      "Processing fold [ 2 ]\n",
      "Processing fold [ 3 ]\n",
      "Processing fold [ 4 ]\n",
      "Classifying fold [ 0 ]\n",
      "Classifying fold [ 1 ]\n",
      "Classifying fold [ 2 ]\n",
      "Classifying fold [ 3 ]\n",
      "Classifying fold [ 4 ]\n"
     ]
    }
   ],
   "source": [
    "#Train Test Folds to File\n",
    "_feature=\"aac8GlobalNormal\"\n",
    "_trainTest2File(train_test_normal.copy(),classes.copy(),_num_of_folds,_feature)\n",
    "_scikitClassify(classes.copy(),_num_of_folds,_params_['aac8Global'],_feature)"
   ]
  },
  {
   "cell_type": "code",
   "execution_count": 28,
   "metadata": {
    "collapsed": true
   },
   "outputs": [
    {
     "name": "stdout",
     "output_type": "stream",
     "text": [
      "Evaluating Fold [0]\n",
      "Evaluating Fold [1]\n",
      "Evaluating Fold [2]\n",
      "Evaluating Fold [3]\n",
      "Evaluating Fold [4]\n",
      "acc===sens====spec=============mcc\n",
      "==================================\n",
      "Total Macro for problem\n",
      "[89.99949999999998, 13.819999999999999, 96.80699999999999, 16.30275]\n",
      "----------------------------------\n",
      "Total Micro for problem\n",
      "[90.00000000000001, 35.364000000000004, 97.804, 45.052]\n",
      "==================================\n",
      "==================================\n"
     ]
    }
   ],
   "source": [
    "_evaluate(classes.copy(),_num_of_folds,_feature,'class')"
   ]
  },
  {
   "cell_type": "code",
   "execution_count": 29,
   "metadata": {
    "collapsed": true
   },
   "outputs": [
    {
     "name": "stdout",
     "output_type": "stream",
     "text": [
      "Evaluating Fold [0]\n",
      "Evaluating Fold [1]\n",
      "Evaluating Fold [2]\n",
      "Evaluating Fold [3]\n",
      "Evaluating Fold [4]\n",
      "acc===sens====spec=============mcc\n",
      "==================================\n",
      "Total Macro for problem\n",
      "[75.69775, 16.617250000000002, 81.65025, 5.747]\n",
      "----------------------------------\n",
      "Total Micro for problem\n",
      "[75.696, 36.374, 81.316, 14.398000000000001]\n",
      "==================================\n",
      "==================================\n"
     ]
    }
   ],
   "source": [
    "#Evaluation (By Class) [Threshold = -0.02]\n",
    "_evaluate(classes.copy(),_num_of_folds,_feature,'class',-0.015)"
   ]
  },
  {
   "cell_type": "code",
   "execution_count": 30,
   "metadata": {
    "collapsed": true
   },
   "outputs": [
    {
     "name": "stdout",
     "output_type": "stream",
     "text": [
      "Evaluating Fold [0]\n",
      "Evaluating Fold [1]\n",
      "Evaluating Fold [2]\n",
      "Evaluating Fold [3]\n",
      "Evaluating Fold [4]\n",
      "acc===sens====spec=============mcc\n",
      "==================================\n",
      "Total Macro for problem\n",
      "[83.91274999999999, 14.938750000000002, 90.375, 8.674000000000001]\n",
      "----------------------------------\n",
      "Total Micro for problem\n",
      "[83.91400000000002, 35.652, 90.808, 26.462]\n",
      "==================================\n",
      "==================================\n"
     ]
    }
   ],
   "source": [
    "#Evaluation (By Fold)\n",
    "_evaluate(classes.copy(),_num_of_folds,_feature,'fold')"
   ]
  },
  {
   "cell_type": "markdown",
   "metadata": {},
   "source": [
    "#### Down-Sampled"
   ]
  },
  {
   "cell_type": "code",
   "execution_count": 31,
   "metadata": {
    "collapsed": true
   },
   "outputs": [
    {
     "name": "stdout",
     "output_type": "stream",
     "text": [
      "Processing fold [ 0 ]\n",
      "Processing fold [ 1 ]\n",
      "Processing fold [ 2 ]\n",
      "Processing fold [ 3 ]\n",
      "Processing fold [ 4 ]\n",
      "Classifying fold [ 0 ]\n",
      "Classifying fold [ 1 ]\n",
      "Classifying fold [ 2 ]\n",
      "Classifying fold [ 3 ]\n",
      "Classifying fold [ 4 ]\n"
     ]
    }
   ],
   "source": [
    "#Train Test Folds to File\n",
    "_feature=\"aac8GlobalDownSampled\"\n",
    "_trainTest2File(train_test_downSampled.copy(),classes.copy(),_num_of_folds,_feature)\n",
    "_scikitClassify(classes.copy(),_num_of_folds,_params_['aac8Global'],_feature)"
   ]
  },
  {
   "cell_type": "code",
   "execution_count": 32,
   "metadata": {
    "collapsed": true
   },
   "outputs": [
    {
     "name": "stdout",
     "output_type": "stream",
     "text": [
      "Evaluating Fold [0]\n",
      "Evaluating Fold [1]\n",
      "Evaluating Fold [2]\n",
      "Evaluating Fold [3]\n",
      "Evaluating Fold [4]\n",
      "acc===sens====spec=============mcc\n",
      "==================================\n",
      "Total Macro for problem\n",
      "[87.91699999999999, 14.1665, 98.453, 20.23675]\n",
      "----------------------------------\n",
      "Total Micro for problem\n",
      "[87.916, 14.166, 98.45200000000001, 24.356]\n",
      "==================================\n",
      "==================================\n"
     ]
    }
   ],
   "source": [
    "_evaluate(classes.copy(),_num_of_folds,_feature,'class')"
   ]
  },
  {
   "cell_type": "code",
   "execution_count": 34,
   "metadata": {
    "collapsed": true
   },
   "outputs": [
    {
     "name": "stdout",
     "output_type": "stream",
     "text": [
      "Evaluating Fold [0]\n",
      "Evaluating Fold [1]\n",
      "Evaluating Fold [2]\n",
      "Evaluating Fold [3]\n",
      "Evaluating Fold [4]\n",
      "acc===sens====spec=============mcc\n",
      "==================================\n",
      "Total Macro for problem\n",
      "[83.98449999999998, 14.791749999999999, 93.86925, 13.097250000000003]\n",
      "----------------------------------\n",
      "Total Micro for problem\n",
      "[83.986, 14.792000000000002, 93.86800000000001, 11.402]\n",
      "==================================\n",
      "==================================\n"
     ]
    }
   ],
   "source": [
    "_evaluate(classes.copy(),_num_of_folds,_feature,'class',-0.015)"
   ]
  },
  {
   "cell_type": "code",
   "execution_count": 35,
   "metadata": {
    "collapsed": true
   },
   "outputs": [
    {
     "name": "stdout",
     "output_type": "stream",
     "text": [
      "Evaluating Fold [0]\n",
      "Evaluating Fold [1]\n",
      "Evaluating Fold [2]\n",
      "Evaluating Fold [3]\n",
      "Evaluating Fold [4]\n",
      "acc===sens====spec=============mcc\n",
      "==================================\n",
      "Total Macro for problem\n",
      "[79.06300000000002, 16.249499999999998, 88.03625, 4.98125]\n",
      "----------------------------------\n",
      "Total Micro for problem\n",
      "[79.06400000000001, 16.25, 88.038, 4.286]\n",
      "==================================\n",
      "==================================\n"
     ]
    }
   ],
   "source": [
    "_evaluate(classes.copy(),_num_of_folds,_feature,'fold')"
   ]
  },
  {
   "cell_type": "markdown",
   "metadata": {},
   "source": [
    "#### Shuffled Dataset"
   ]
  },
  {
   "cell_type": "code",
   "execution_count": 40,
   "metadata": {
    "collapsed": true
   },
   "outputs": [
    {
     "name": "stdout",
     "output_type": "stream",
     "text": [
      "Processing fold [ 0 ]\n",
      "Processing fold [ 1 ]\n",
      "Processing fold [ 2 ]\n",
      "Processing fold [ 3 ]\n",
      "Processing fold [ 4 ]\n",
      "Classifying fold [ 0 ]\n",
      "Classifying fold [ 1 ]\n",
      "Classifying fold [ 2 ]\n",
      "Classifying fold [ 3 ]\n",
      "Classifying fold [ 4 ]\n"
     ]
    }
   ],
   "source": [
    "#Train Test Folds to File\n",
    "_feature=\"aac8GlobalShuffled\"\n",
    "_trainTest2File(train_test_shuffled.copy(),classes.copy(),_num_of_folds,_feature)\n",
    "_scikitClassify(classes.copy(),_num_of_folds,_params_['aac8Global'],_feature)"
   ]
  },
  {
   "cell_type": "code",
   "execution_count": 41,
   "metadata": {
    "collapsed": true
   },
   "outputs": [
    {
     "name": "stdout",
     "output_type": "stream",
     "text": [
      "Evaluating Fold [0]\n",
      "Evaluating Fold [1]\n",
      "Evaluating Fold [2]\n",
      "Evaluating Fold [3]\n",
      "Evaluating Fold [4]\n",
      "acc===sens====spec=============mcc\n",
      "==================================\n",
      "Total Macro for problem\n",
      "[89.87349999999999, 12.63775, 96.81649999999999, 14.10675]\n",
      "----------------------------------\n",
      "Total Micro for problem\n",
      "[89.872, 34.348, 97.804, 44.056]\n",
      "==================================\n",
      "==================================\n"
     ]
    }
   ],
   "source": [
    "_evaluate(classes.copy(),_num_of_folds,_feature,'class')"
   ]
  },
  {
   "cell_type": "code",
   "execution_count": 42,
   "metadata": {
    "collapsed": true
   },
   "outputs": [
    {
     "name": "stdout",
     "output_type": "stream",
     "text": [
      "Evaluating Fold [0]\n",
      "Evaluating Fold [1]\n",
      "Evaluating Fold [2]\n",
      "Evaluating Fold [3]\n",
      "Evaluating Fold [4]\n",
      "acc===sens====spec=============mcc\n",
      "==================================\n",
      "Total Macro for problem\n",
      "[76.03325, 15.123250000000002, 82.14675000000001, 4.848750000000001]\n",
      "----------------------------------\n",
      "Total Micro for problem\n",
      "[76.032, 35.362, 81.846, 14.148]\n",
      "==================================\n",
      "==================================\n"
     ]
    }
   ],
   "source": [
    "#Evaluation (By Class) [Threshold = -0.02]\n",
    "_evaluate(classes.copy(),_num_of_folds,_feature,'class',-0.015)"
   ]
  },
  {
   "cell_type": "code",
   "execution_count": 43,
   "metadata": {
    "collapsed": true
   },
   "outputs": [
    {
     "name": "stdout",
     "output_type": "stream",
     "text": [
      "Evaluating Fold [0]\n",
      "Evaluating Fold [1]\n",
      "Evaluating Fold [2]\n",
      "Evaluating Fold [3]\n",
      "Evaluating Fold [4]\n",
      "acc===sens====spec=============mcc\n",
      "==================================\n",
      "Total Macro for problem\n",
      "[83.7145, 14.828, 90.29875, 8.632499999999999]\n",
      "----------------------------------\n",
      "Total Micro for problem\n",
      "[83.71600000000001, 34.852, 90.69000000000001, 25.548000000000002]\n",
      "==================================\n",
      "==================================\n"
     ]
    }
   ],
   "source": [
    "#Evaluation (By Fold)\n",
    "_evaluate(classes.copy(),_num_of_folds,_feature,'fold')"
   ]
  },
  {
   "cell_type": "code",
   "execution_count": null,
   "metadata": {},
   "outputs": [],
   "source": []
  }
 ],
 "metadata": {
  "kernelspec": {
   "display_name": "Python 3",
   "language": "python",
   "name": "python3"
  },
  "language_info": {
   "codemirror_mode": {
    "name": "ipython",
    "version": 3
   },
   "file_extension": ".py",
   "mimetype": "text/x-python",
   "name": "python",
   "nbconvert_exporter": "python",
   "pygments_lexer": "ipython3",
   "version": "3.7.0"
  }
 },
 "nbformat": 4,
 "nbformat_minor": 2
}
