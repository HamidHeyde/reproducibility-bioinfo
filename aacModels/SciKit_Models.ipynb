{
 "cells": [
  {
   "cell_type": "markdown",
   "metadata": {},
   "source": [
    "### Imports"
   ]
  },
  {
   "cell_type": "code",
   "execution_count": null,
   "metadata": {},
   "outputs": [],
   "source": [
    "import os\n",
    "import pandas as pd\n",
    "#Functions\n",
    "from helpers_scikit import _data2trainTest, _trainTest2File, _scikitClassify, _evaluate"
   ]
  },
  {
   "cell_type": "markdown",
   "metadata": {},
   "source": [
    "### Config"
   ]
  },
  {
   "cell_type": "code",
   "execution_count": 2,
   "metadata": {},
   "outputs": [],
   "source": [
    "config = {\n",
    "    \"featuresPath\": os.path.join(\"dataset\", \"{}\"),\n",
    "    \"scikitFeaturesPath\": os.path.join(\"scikit\",\"{}\",\"{}\",\"{}\"),\n",
    "    \"scikitFeaturesFileTarget\": os.path.join(\"scikit\",\"{}\",\"{}\",\"{}\", \"{}\")\n",
    "}\n",
    "\n",
    "_params_={}\n",
    "_params_['aac7Global'] = [ [0.02,4.5] for i in range(7) ]\n",
    "_params_['aac7Local']=[ [0.03,4.6],[0.04,5.0],[0.02,4.6], [0.02,4.0],[0.03,4.0],[0.04,5.0],[0.03,5.0] ]\n",
    "_params_['aac8Global'] =[ [0.01,4.0] for i in range(8) ]\n",
    "_params_['aac8Local'] =[ [0.03,4.6],[0.04,5.0],[0.02,4.6], [0.02,4.0],[0.02,4.8],[0.03,4.0],[0.04,5.0],[0.03,5.0] ]"
   ]
  },
  {
   "cell_type": "markdown",
   "metadata": {},
   "source": [
    "## 7 class-based models"
   ]
  },
  {
   "cell_type": "code",
   "execution_count": 3,
   "metadata": {},
   "outputs": [],
   "source": [
    "featureFile=\"aac7\"\n",
    "_num_of_folds=5"
   ]
  },
  {
   "cell_type": "code",
   "execution_count": 4,
   "metadata": {},
   "outputs": [],
   "source": [
    "data=pd.read_csv(config['featuresPath'].format((featureFile+'.csv')))\n",
    "classes=sorted(data['label'].unique())"
   ]
  },
  {
   "cell_type": "markdown",
   "metadata": {},
   "source": [
    "#### Train/Test sets in 3 modes (Normal, Shuffled, Downsampled) in 5 folds "
   ]
  },
  {
   "cell_type": "code",
   "execution_count": 5,
   "metadata": {},
   "outputs": [],
   "source": [
    "#Train_Test Folds creation\n",
    "train_test_normal=_data2trainTest(data.copy(),classes.copy(),_num_of_folds,'normal')\n",
    "train_test_shuffled=_data2trainTest(data.copy(),classes.copy(),_num_of_folds,'shuffle')\n",
    "train_test_downSampled=_data2trainTest(data.copy(),classes.copy(),_num_of_folds,'downSample')"
   ]
  },
  {
   "cell_type": "markdown",
   "metadata": {},
   "source": [
    "### Gamma & Cost (different for each class)"
   ]
  },
  {
   "cell_type": "markdown",
   "metadata": {},
   "source": [
    "#### Normal Dataset"
   ]
  },
  {
   "cell_type": "code",
   "execution_count": 13,
   "metadata": {
    "collapsed": true
   },
   "outputs": [
    {
     "name": "stdout",
     "output_type": "stream",
     "text": [
      "Processing fold [ 0 ]\n",
      "Processing fold [ 1 ]\n",
      "Processing fold [ 2 ]\n",
      "Processing fold [ 3 ]\n",
      "Processing fold [ 4 ]\n",
      "Classifying fold [ 0 ]\n",
      "Classifying fold [ 1 ]\n",
      "Classifying fold [ 2 ]\n",
      "Classifying fold [ 3 ]\n",
      "Classifying fold [ 4 ]\n"
     ]
    }
   ],
   "source": [
    "#Train Test Folds to File\n",
    "_feature=\"aac7LocalNormal\"\n",
    "_trainTest2File(train_test_normal.copy(),classes.copy(),_num_of_folds,_feature)\n",
    "_scikitClassify(classes.copy(),_num_of_folds,_params_['aac7Local'],_feature)"
   ]
  },
  {
   "cell_type": "code",
   "execution_count": 14,
   "metadata": {
    "collapsed": true
   },
   "outputs": [
    {
     "name": "stdout",
     "output_type": "stream",
     "text": [
      "Evaluating Fold [0]\n",
      "Evaluating Fold [1]\n",
      "Evaluating Fold [2]\n",
      "Evaluating Fold [3]\n",
      "Evaluating Fold [4]\n",
      "acc===sens====spec=============mcc\n",
      "==================================\n",
      "Total Macro for problem\n",
      "[87.498, 18.296000000000003, 98.20028571428571, 24.186571428571426]\n",
      "Mac Distance =  0.6681987893140906\n",
      "----------------------------------\n",
      "Total Micro for problem\n",
      "[87.518, 21.472, 98.44000000000001, 33.922000000000004]\n",
      "Mic Distance =  0.6164137775877501\n",
      "==================================\n",
      "==================================\n"
     ]
    }
   ],
   "source": [
    "#Evaluation (By Class) \n",
    "_evaluate(classes.copy(),_num_of_folds,_feature,'class')"
   ]
  },
  {
   "cell_type": "code",
   "execution_count": 88,
   "metadata": {
    "collapsed": true
   },
   "outputs": [
    {
     "name": "stdout",
     "output_type": "stream",
     "text": [
      "Evaluating Fold [0]\n",
      "Evaluating Fold [1]\n",
      "Evaluating Fold [2]\n",
      "Evaluating Fold [3]\n",
      "Evaluating Fold [4]\n",
      "acc===sens====spec=============mcc\n",
      "==================================\n",
      "Total Macro for problem\n",
      "[83.7595, 48.83325000000001, 82.6045, 29.901]\n",
      "Mac Distance =  0.33378759744222075\n",
      "----------------------------------\n",
      "Total Micro for problem\n",
      "[83.76, 70.578, 85.644, 45.35]\n",
      "Mic Distance =  0.16485140581748164\n",
      "==================================\n",
      "==================================\n"
     ]
    }
   ],
   "source": [
    "#Evaluation (By Class) [Threshold = -0.02]\n",
    "_evaluate(classes.copy(),_num_of_folds,_feature,'class',-0.685)"
   ]
  },
  {
   "cell_type": "code",
   "execution_count": 16,
   "metadata": {
    "collapsed": true
   },
   "outputs": [
    {
     "name": "stdout",
     "output_type": "stream",
     "text": [
      "Evaluating Fold [0]\n",
      "Evaluating Fold [1]\n",
      "Evaluating Fold [2]\n",
      "Evaluating Fold [3]\n",
      "Evaluating Fold [4]\n",
      "acc===sens====spec=============mcc\n",
      "==================================\n",
      "Total Macro for problem\n",
      "[85.38542857142856, 38.436857142857136, 89.98685714285713, 32.63771428571428]\n",
      "Mac Distance =  0.4366561462023942\n",
      "----------------------------------\n",
      "Total Micro for problem\n",
      "[85.384, 48.846, 91.476, 40.322]\n",
      "Mic Distance =  0.34160655321583056\n",
      "==================================\n",
      "==================================\n"
     ]
    }
   ],
   "source": [
    "#Evaluation (By Fold)\n",
    "_evaluate(classes.copy(),_num_of_folds,_feature,'fold')"
   ]
  },
  {
   "cell_type": "markdown",
   "metadata": {},
   "source": [
    "#### Down Sampled"
   ]
  },
  {
   "cell_type": "code",
   "execution_count": 7,
   "metadata": {
    "collapsed": true
   },
   "outputs": [
    {
     "name": "stdout",
     "output_type": "stream",
     "text": [
      "Processing fold [ 0 ]\n",
      "Processing fold [ 1 ]\n",
      "Processing fold [ 2 ]\n",
      "Processing fold [ 3 ]\n",
      "Processing fold [ 4 ]\n",
      "Classifying fold [ 0 ]\n",
      "Classifying fold [ 1 ]\n",
      "Classifying fold [ 2 ]\n",
      "Classifying fold [ 3 ]\n",
      "Classifying fold [ 4 ]\n"
     ]
    }
   ],
   "source": [
    "#Train Test Folds to File\n",
    "# _feature=\"aac7LocalDownSampled\"\n",
    "_feature=\"aac7LocalDownSampled\"\n",
    "_trainTest2File(train_test_downSampled.copy(),classes.copy(),_num_of_folds,_feature)\n",
    "_scikitClassify(classes.copy(),_num_of_folds,_params_['aac7Local'],_feature)"
   ]
  },
  {
   "cell_type": "code",
   "execution_count": 8,
   "metadata": {
    "collapsed": true
   },
   "outputs": [
    {
     "name": "stdout",
     "output_type": "stream",
     "text": [
      "Evaluating Fold [0]\n",
      "Evaluating Fold [1]\n",
      "Evaluating Fold [2]\n",
      "Evaluating Fold [3]\n",
      "Evaluating Fold [4]\n",
      "acc===sens====spec=============mcc\n",
      "==================================\n",
      "Total Macro for problem\n",
      "[87.03485714285713, 17.467428571428574, 98.61000000000001, 24.970000000000002]\n",
      "Mac Distance =  0.6733136491734483\n",
      "----------------------------------\n",
      "Total Micro for problem\n",
      "[87.036, 17.433999999999997, 98.60999999999999, 29.968]\n",
      "Mic Distance =  0.659706858839591\n",
      "==================================\n",
      "==================================\n"
     ]
    }
   ],
   "source": [
    "#Evaluation (By Class)\n",
    "_evaluate(classes.copy(),_num_of_folds,_feature,'class')"
   ]
  },
  {
   "cell_type": "code",
   "execution_count": 12,
   "metadata": {
    "collapsed": true
   },
   "outputs": [
    {
     "name": "stdout",
     "output_type": "stream",
     "text": [
      "Evaluating Fold [0]\n",
      "Evaluating Fold [1]\n",
      "Evaluating Fold [2]\n",
      "Evaluating Fold [3]\n",
      "Evaluating Fold [4]\n",
      "acc===sens====spec=============mcc\n",
      "==================================\n",
      "Total Macro for problem\n",
      "[68.09514285714286, 70.95285714285714, 67.61914285714286, 29.316285714285716]\n",
      "Mac Distance =  0.18848055617793272\n",
      "----------------------------------\n",
      "Total Micro for problem\n",
      "[68.098, 70.95400000000001, 67.62, 27.844]\n",
      "Mic Distance =  0.20161669474525168\n",
      "==================================\n",
      "==================================\n"
     ]
    }
   ],
   "source": [
    "#Evaluation (By Class) [Threshold = -0.02]\n",
    "_evaluate(classes.copy(),_num_of_folds,_feature,'class',-0.717)"
   ]
  },
  {
   "cell_type": "code",
   "execution_count": 9,
   "metadata": {
    "collapsed": true
   },
   "outputs": [
    {
     "name": "stdout",
     "output_type": "stream",
     "text": [
      "Evaluating Fold [0]\n",
      "Evaluating Fold [1]\n",
      "Evaluating Fold [2]\n",
      "Evaluating Fold [3]\n",
      "Evaluating Fold [4]\n",
      "acc===sens====spec=============mcc\n",
      "==================================\n",
      "Total Macro for problem\n",
      "[84.21542857142856, 44.761142857142865, 90.79457142857143, 32.81914285714286]\n",
      "Mac Distance =  0.3854450597659272\n",
      "----------------------------------\n",
      "Total Micro for problem\n",
      "[84.214, 44.764, 90.794, 35.556]\n",
      "Mic Distance =  0.37693504533274697\n",
      "==================================\n",
      "==================================\n"
     ]
    }
   ],
   "source": [
    "_evaluate(classes.copy(),_num_of_folds,_feature,'fold')"
   ]
  },
  {
   "cell_type": "markdown",
   "metadata": {},
   "source": [
    "#### Shuffled"
   ]
  },
  {
   "cell_type": "code",
   "execution_count": 17,
   "metadata": {
    "collapsed": true
   },
   "outputs": [
    {
     "name": "stdout",
     "output_type": "stream",
     "text": [
      "Processing fold [ 0 ]\n",
      "Processing fold [ 1 ]\n",
      "Processing fold [ 2 ]\n",
      "Processing fold [ 3 ]\n",
      "Processing fold [ 4 ]\n",
      "Classifying fold [ 0 ]\n",
      "Classifying fold [ 1 ]\n",
      "Classifying fold [ 2 ]\n",
      "Classifying fold [ 3 ]\n",
      "Classifying fold [ 4 ]\n"
     ]
    }
   ],
   "source": [
    "#Train Test Folds to File\n",
    "_feature=\"aac7LocalShuffled\"\n",
    "_trainTest2File(train_test_shuffled.copy(),classes.copy(),_num_of_folds,_feature)\n",
    "_scikitClassify(classes.copy(),_num_of_folds,_params_['aac7Local'],_feature)"
   ]
  },
  {
   "cell_type": "code",
   "execution_count": 18,
   "metadata": {
    "collapsed": true
   },
   "outputs": [
    {
     "name": "stdout",
     "output_type": "stream",
     "text": [
      "Evaluating Fold [0]\n",
      "Evaluating Fold [1]\n",
      "Evaluating Fold [2]\n",
      "Evaluating Fold [3]\n",
      "Evaluating Fold [4]\n",
      "acc===sens====spec=============mcc\n",
      "==================================\n",
      "Total Macro for problem\n",
      "[87.47999999999999, 17.528285714285712, 98.18542857142857, 23.960571428571427]\n",
      "Mac Distance =  0.6753285776900738\n",
      "----------------------------------\n",
      "Total Micro for problem\n",
      "[87.49, 21.662, 98.41600000000001, 34.263999999999996]\n",
      "Mic Distance =  0.6139513625687301\n",
      "==================================\n",
      "==================================\n"
     ]
    }
   ],
   "source": [
    "#Evaluation (By Class)\n",
    "_evaluate(classes.copy(),_num_of_folds,_feature,'class')"
   ]
  },
  {
   "cell_type": "code",
   "execution_count": 35,
   "metadata": {
    "collapsed": true
   },
   "outputs": [
    {
     "name": "stdout",
     "output_type": "stream",
     "text": [
      "Evaluating Fold [0]\n",
      "Evaluating Fold [1]\n",
      "Evaluating Fold [2]\n",
      "Evaluating Fold [3]\n",
      "Evaluating Fold [4]\n",
      "acc===sens====spec=============mcc\n",
      "==================================\n",
      "Total Macro for problem\n",
      "[75.32942857142856, 61.79771428571428, 71.51542857142856, 30.436285714285713]\n",
      "Mac Distance =  0.20318521043317977\n",
      "----------------------------------\n",
      "Total Micro for problem\n",
      "[75.33000000000001, 76.41, 75.15, 38.634]\n",
      "Mic Distance =  0.07975497225878775\n",
      "==================================\n",
      "==================================\n"
     ]
    }
   ],
   "source": [
    "#Evaluation (By Class) [Threshold = -0.02]\n",
    "_evaluate(classes.copy(),_num_of_folds,_feature,'class',-0.685)"
   ]
  },
  {
   "cell_type": "code",
   "execution_count": 20,
   "metadata": {
    "collapsed": true
   },
   "outputs": [
    {
     "name": "stdout",
     "output_type": "stream",
     "text": [
      "Evaluating Fold [0]\n",
      "Evaluating Fold [1]\n",
      "Evaluating Fold [2]\n",
      "Evaluating Fold [3]\n",
      "Evaluating Fold [4]\n",
      "acc===sens====spec=============mcc\n",
      "==================================\n",
      "Total Macro for problem\n",
      "[85.12857142857145, 38.33371428571428, 89.9482857142857, 31.462]\n",
      "Mac Distance =  0.44042719650403994\n",
      "----------------------------------\n",
      "Total Micro for problem\n",
      "[85.128, 47.95, 91.324, 39.274]\n",
      "Mic Distance =  0.34865031708002214\n",
      "==================================\n",
      "==================================\n"
     ]
    }
   ],
   "source": [
    "_evaluate(classes.copy(),_num_of_folds,_feature,'fold')"
   ]
  },
  {
   "cell_type": "markdown",
   "metadata": {},
   "source": [
    "### Gamma & Cost (Same for all classes)"
   ]
  },
  {
   "cell_type": "markdown",
   "metadata": {},
   "source": [
    "#### Normal Dataset"
   ]
  },
  {
   "cell_type": "code",
   "execution_count": 25,
   "metadata": {
    "collapsed": true
   },
   "outputs": [
    {
     "name": "stdout",
     "output_type": "stream",
     "text": [
      "Processing fold [ 0 ]\n",
      "Processing fold [ 1 ]\n",
      "Processing fold [ 2 ]\n",
      "Processing fold [ 3 ]\n",
      "Processing fold [ 4 ]\n",
      "Classifying fold [ 0 ]\n",
      "Classifying fold [ 1 ]\n",
      "Classifying fold [ 2 ]\n",
      "Classifying fold [ 3 ]\n",
      "Classifying fold [ 4 ]\n"
     ]
    }
   ],
   "source": [
    "#Train Test Folds to File\n",
    "_feature=\"aac7GlobalNormal\"\n",
    "_trainTest2File(train_test_normal.copy(),classes.copy(),_num_of_folds,_feature)\n",
    "_scikitClassify(classes.copy(),_num_of_folds,_params_['aac7Global'],_feature)"
   ]
  },
  {
   "cell_type": "code",
   "execution_count": 26,
   "metadata": {
    "collapsed": true
   },
   "outputs": [
    {
     "name": "stdout",
     "output_type": "stream",
     "text": [
      "Evaluating Fold [0]\n",
      "Evaluating Fold [1]\n",
      "Evaluating Fold [2]\n",
      "Evaluating Fold [3]\n",
      "Evaluating Fold [4]\n",
      "acc===sens====spec=============mcc\n",
      "==================================\n",
      "Total Macro for problem\n",
      "[87.44085714285715, 14.879142857142858, 98.46, 20.073714285714285]\n",
      "Mac Distance =  0.7120041250568422\n",
      "----------------------------------\n",
      "Total Micro for problem\n",
      "[87.45, 19.398000000000003, 98.696, 32.815999999999995]\n",
      "Mic Distance =  0.6374630997948038\n",
      "==================================\n",
      "==================================\n"
     ]
    }
   ],
   "source": [
    "_evaluate(classes.copy(),_num_of_folds,_feature,'class')"
   ]
  },
  {
   "cell_type": "code",
   "execution_count": 32,
   "metadata": {
    "collapsed": true
   },
   "outputs": [
    {
     "name": "stdout",
     "output_type": "stream",
     "text": [
      "Evaluating Fold [0]\n",
      "Evaluating Fold [1]\n",
      "Evaluating Fold [2]\n",
      "Evaluating Fold [3]\n",
      "Evaluating Fold [4]\n",
      "acc===sens====spec=============mcc\n",
      "==================================\n",
      "Total Macro for problem\n",
      "[75.32942857142856, 61.79771428571428, 71.51542857142856, 30.436285714285713]\n",
      "Mac Distance =  0.20318521043317977\n",
      "----------------------------------\n",
      "Total Micro for problem\n",
      "[75.33000000000001, 76.41, 75.15, 38.634]\n",
      "Mic Distance =  0.07975497225878775\n",
      "==================================\n",
      "==================================\n"
     ]
    }
   ],
   "source": [
    "#Evaluation (By Class) [Threshold = -0.02]\n",
    "_evaluate(classes.copy(),_num_of_folds,_feature,'class',-0.685)"
   ]
  },
  {
   "cell_type": "code",
   "execution_count": 28,
   "metadata": {
    "collapsed": true
   },
   "outputs": [
    {
     "name": "stdout",
     "output_type": "stream",
     "text": [
      "Evaluating Fold [0]\n",
      "Evaluating Fold [1]\n",
      "Evaluating Fold [2]\n",
      "Evaluating Fold [3]\n",
      "Evaluating Fold [4]\n",
      "acc===sens====spec=============mcc\n",
      "==================================\n",
      "Total Macro for problem\n",
      "[85.20114285714287, 37.61485714285715, 89.9037142857143, 31.609714285714283]\n",
      "Mac Distance =  0.4459132479919092\n",
      "----------------------------------\n",
      "Total Micro for problem\n",
      "[85.202, 48.20399999999999, 91.366, 39.572]\n",
      "Mic Distance =  0.34660710610141865\n",
      "==================================\n",
      "==================================\n"
     ]
    }
   ],
   "source": [
    "#Evaluation (By Fold)\n",
    "_evaluate(classes.copy(),_num_of_folds,_feature,'fold')"
   ]
  },
  {
   "cell_type": "markdown",
   "metadata": {},
   "source": [
    "#### Down-Sampled"
   ]
  },
  {
   "cell_type": "code",
   "execution_count": 36,
   "metadata": {
    "collapsed": true
   },
   "outputs": [
    {
     "name": "stdout",
     "output_type": "stream",
     "text": [
      "Processing fold [ 0 ]\n",
      "Processing fold [ 1 ]\n",
      "Processing fold [ 2 ]\n",
      "Processing fold [ 3 ]\n",
      "Processing fold [ 4 ]\n",
      "Classifying fold [ 0 ]\n",
      "Classifying fold [ 1 ]\n",
      "Classifying fold [ 2 ]\n",
      "Classifying fold [ 3 ]\n",
      "Classifying fold [ 4 ]\n"
     ]
    }
   ],
   "source": [
    "#Train Test Folds to File\n",
    "_feature=\"aac7GlobalDownSampled\"\n",
    "_trainTest2File(train_test_downSampled.copy(),classes.copy(),_num_of_folds,_feature)\n",
    "_scikitClassify(classes.copy(),_num_of_folds,_params_['aac7Global'],_feature)"
   ]
  },
  {
   "cell_type": "code",
   "execution_count": 37,
   "metadata": {
    "collapsed": true
   },
   "outputs": [
    {
     "name": "stdout",
     "output_type": "stream",
     "text": [
      "Evaluating Fold [0]\n",
      "Evaluating Fold [1]\n",
      "Evaluating Fold [2]\n",
      "Evaluating Fold [3]\n",
      "Evaluating Fold [4]\n",
      "acc===sens====spec=============mcc\n",
      "==================================\n",
      "Total Macro for problem\n",
      "[86.68742857142857, 15.324285714285717, 98.56914285714285, 22.110285714285716]\n",
      "Mac Distance =  0.7000338402082679\n",
      "----------------------------------\n",
      "Total Micro for problem\n",
      "[86.684, 15.286000000000001, 98.56999999999998, 27.377999999999997]\n",
      "Mic Distance =  0.684180752140836\n",
      "==================================\n",
      "==================================\n"
     ]
    }
   ],
   "source": [
    "_evaluate(classes.copy(),_num_of_folds,_feature,'class')"
   ]
  },
  {
   "cell_type": "code",
   "execution_count": 56,
   "metadata": {
    "collapsed": true
   },
   "outputs": [
    {
     "name": "stdout",
     "output_type": "stream",
     "text": [
      "Evaluating Fold [0]\n",
      "Evaluating Fold [1]\n",
      "Evaluating Fold [2]\n",
      "Evaluating Fold [3]\n",
      "Evaluating Fold [4]\n",
      "acc===sens====spec=============mcc\n",
      "==================================\n",
      "Total Macro for problem\n",
      "[67.31342857142856, 70.476, 66.786, 27.874571428571432]\n",
      "Mac Distance =  0.20703879183005539\n",
      "----------------------------------\n",
      "Total Micro for problem\n",
      "[67.316, 70.47800000000001, 66.786, 26.814]\n",
      "Mic Distance =  0.21637289848777277\n",
      "==================================\n",
      "==================================\n"
     ]
    }
   ],
   "source": [
    "_evaluate(classes.copy(),_num_of_folds,_feature,'class',-0.722)"
   ]
  },
  {
   "cell_type": "code",
   "execution_count": 38,
   "metadata": {
    "collapsed": true
   },
   "outputs": [
    {
     "name": "stdout",
     "output_type": "stream",
     "text": [
      "Evaluating Fold [0]\n",
      "Evaluating Fold [1]\n",
      "Evaluating Fold [2]\n",
      "Evaluating Fold [3]\n",
      "Evaluating Fold [4]\n",
      "acc===sens====spec=============mcc\n",
      "==================================\n",
      "Total Macro for problem\n",
      "[84.14771428571427, 44.52285714285714, 90.75457142857144, 33.43657142857143]\n",
      "Mac Distance =  0.3848722107454391\n",
      "----------------------------------\n",
      "Total Micro for problem\n",
      "[84.146, 44.525999999999996, 90.75399999999999, 35.275999999999996]\n",
      "Mic Distance =  0.3792341682918352\n",
      "==================================\n",
      "==================================\n"
     ]
    }
   ],
   "source": [
    "_evaluate(classes.copy(),_num_of_folds,_feature,'fold')"
   ]
  },
  {
   "cell_type": "markdown",
   "metadata": {},
   "source": [
    "#### Shuffled Dataset"
   ]
  },
  {
   "cell_type": "code",
   "execution_count": 57,
   "metadata": {
    "collapsed": true
   },
   "outputs": [
    {
     "name": "stdout",
     "output_type": "stream",
     "text": [
      "Processing fold [ 0 ]\n",
      "Processing fold [ 1 ]\n",
      "Processing fold [ 2 ]\n",
      "Processing fold [ 3 ]\n",
      "Processing fold [ 4 ]\n",
      "Classifying fold [ 0 ]\n",
      "Classifying fold [ 1 ]\n",
      "Classifying fold [ 2 ]\n",
      "Classifying fold [ 3 ]\n",
      "Classifying fold [ 4 ]\n"
     ]
    }
   ],
   "source": [
    "#Train Test Folds to File\n",
    "_feature=\"aac7GlobalShuffled\"\n",
    "_trainTest2File(train_test_shuffled.copy(),classes.copy(),_num_of_folds,_feature)\n",
    "_scikitClassify(classes.copy(),_num_of_folds,_params_['aac7Global'],_feature)"
   ]
  },
  {
   "cell_type": "code",
   "execution_count": 58,
   "metadata": {
    "collapsed": true
   },
   "outputs": [
    {
     "name": "stdout",
     "output_type": "stream",
     "text": [
      "Evaluating Fold [0]\n",
      "Evaluating Fold [1]\n",
      "Evaluating Fold [2]\n",
      "Evaluating Fold [3]\n",
      "Evaluating Fold [4]\n",
      "acc===sens====spec=============mcc\n",
      "==================================\n",
      "Total Macro for problem\n",
      "[87.53914285714288, 16.329714285714285, 98.40828571428571, 21.68914285714286]\n",
      "Mac Distance =  0.6940561635510958\n",
      "----------------------------------\n",
      "Total Micro for problem\n",
      "[87.556, 20.878, 98.63, 34.186]\n",
      "Mic Distance =  0.6218961759007688\n",
      "==================================\n",
      "==================================\n"
     ]
    }
   ],
   "source": [
    "_evaluate(classes.copy(),_num_of_folds,_feature,'class')"
   ]
  },
  {
   "cell_type": "code",
   "execution_count": 65,
   "metadata": {
    "collapsed": true
   },
   "outputs": [
    {
     "name": "stdout",
     "output_type": "stream",
     "text": [
      "Evaluating Fold [0]\n",
      "Evaluating Fold [1]\n",
      "Evaluating Fold [2]\n",
      "Evaluating Fold [3]\n",
      "Evaluating Fold [4]\n",
      "acc===sens====spec=============mcc\n",
      "==================================\n",
      "Total Macro for problem\n",
      "[73.4617142857143, 61.481428571428566, 69.51171428571428, 25.24657142857143]\n",
      "Mac Distance =  0.24858497477046496\n",
      "----------------------------------\n",
      "Total Micro for problem\n",
      "[73.462, 75.256, 73.16, 35.82000000000001]\n",
      "Mic Distance =  0.10201986081151056\n",
      "==================================\n",
      "==================================\n"
     ]
    }
   ],
   "source": [
    "#Evaluation (By Class) [Threshold = -0.02]\n",
    "_evaluate(classes.copy(),_num_of_folds,_feature,'class',-0.715)"
   ]
  },
  {
   "cell_type": "code",
   "execution_count": 59,
   "metadata": {
    "collapsed": true
   },
   "outputs": [
    {
     "name": "stdout",
     "output_type": "stream",
     "text": [
      "Evaluating Fold [0]\n",
      "Evaluating Fold [1]\n",
      "Evaluating Fold [2]\n",
      "Evaluating Fold [3]\n",
      "Evaluating Fold [4]\n",
      "acc===sens====spec=============mcc\n",
      "==================================\n",
      "Total Macro for problem\n",
      "[85.12857142857143, 36.434285714285714, 89.8577142857143, 30.06714285714286]\n",
      "Mac Distance =  0.46052251312381853\n",
      "----------------------------------\n",
      "Total Micro for problem\n",
      "[85.126, 47.948, 91.326, 39.274]\n",
      "Mic Distance =  0.3486694870504157\n",
      "==================================\n",
      "==================================\n"
     ]
    }
   ],
   "source": [
    "#Evaluation (By Fold)\n",
    "_evaluate(classes.copy(),_num_of_folds,_feature,'fold')"
   ]
  },
  {
   "cell_type": "markdown",
   "metadata": {},
   "source": [
    "## 8 class-based models"
   ]
  },
  {
   "cell_type": "code",
   "execution_count": 66,
   "metadata": {},
   "outputs": [],
   "source": [
    "featureFile=\"aac8\"\n",
    "_num_of_folds=5"
   ]
  },
  {
   "cell_type": "code",
   "execution_count": 67,
   "metadata": {},
   "outputs": [],
   "source": [
    "data=pd.read_csv(config['featuresPath'].format((featureFile+'.csv')))\n",
    "classes=sorted(data['label'].unique())"
   ]
  },
  {
   "cell_type": "markdown",
   "metadata": {},
   "source": [
    "#### Train/Test sets in 3 modes (Normal, Shuffled, Downsampled) in 5 folds "
   ]
  },
  {
   "cell_type": "code",
   "execution_count": 68,
   "metadata": {},
   "outputs": [],
   "source": [
    "#Train_Test Folds creation\n",
    "train_test_normal=_data2trainTest(data.copy(),classes.copy(),_num_of_folds,'normal')\n",
    "train_test_shuffled=_data2trainTest(data.copy(),classes.copy(),_num_of_folds,'shuffle')\n",
    "train_test_downSampled=_data2trainTest(data.copy(),classes.copy(),_num_of_folds,'downSample')"
   ]
  },
  {
   "cell_type": "markdown",
   "metadata": {},
   "source": [
    "### Gamma & Cost (different for each class)"
   ]
  },
  {
   "cell_type": "markdown",
   "metadata": {},
   "source": [
    "#### Normal Dataset"
   ]
  },
  {
   "cell_type": "code",
   "execution_count": 69,
   "metadata": {
    "collapsed": true
   },
   "outputs": [
    {
     "name": "stdout",
     "output_type": "stream",
     "text": [
      "Processing fold [ 0 ]\n",
      "Processing fold [ 1 ]\n",
      "Processing fold [ 2 ]\n",
      "Processing fold [ 3 ]\n",
      "Processing fold [ 4 ]\n",
      "Classifying fold [ 0 ]\n",
      "Classifying fold [ 1 ]\n",
      "Classifying fold [ 2 ]\n",
      "Classifying fold [ 3 ]\n",
      "Classifying fold [ 4 ]\n"
     ]
    }
   ],
   "source": [
    "#Train Test Folds to File\n",
    "_feature=\"aac8LocalNormal\"\n",
    "_trainTest2File(train_test_normal.copy(),classes.copy(),_num_of_folds,_feature)\n",
    "_scikitClassify(classes.copy(),_num_of_folds,_params_['aac8Local'],_feature)"
   ]
  },
  {
   "cell_type": "code",
   "execution_count": 70,
   "metadata": {
    "collapsed": true
   },
   "outputs": [
    {
     "name": "stdout",
     "output_type": "stream",
     "text": [
      "Evaluating Fold [0]\n",
      "Evaluating Fold [1]\n",
      "Evaluating Fold [2]\n",
      "Evaluating Fold [3]\n",
      "Evaluating Fold [4]\n",
      "acc===sens====spec=============mcc\n",
      "==================================\n",
      "Total Macro for problem\n",
      "[90.19924999999999, 17.309000000000005, 96.85400000000001, 22.341250000000002]\n",
      "Mac Distance =  0.6839005482615875\n",
      "----------------------------------\n",
      "Total Micro for problem\n",
      "[90.22200000000001, 36.338, 97.84399999999998, 46.058]\n",
      "Mic Distance =  0.48433566955160334\n",
      "==================================\n",
      "==================================\n"
     ]
    }
   ],
   "source": [
    "#Evaluation (By Class) \n",
    "_evaluate(classes.copy(),_num_of_folds,_feature,'class')"
   ]
  },
  {
   "cell_type": "code",
   "execution_count": 94,
   "metadata": {
    "collapsed": true
   },
   "outputs": [
    {
     "name": "stdout",
     "output_type": "stream",
     "text": [
      "Evaluating Fold [0]\n",
      "Evaluating Fold [1]\n",
      "Evaluating Fold [2]\n",
      "Evaluating Fold [3]\n",
      "Evaluating Fold [4]\n",
      "acc===sens====spec=============mcc\n",
      "==================================\n",
      "Total Macro for problem\n",
      "[77.08275, 59.13275, 73.10175, 27.8815]\n",
      "Mac Distance =  0.2408844225842552\n",
      "----------------------------------\n",
      "Total Micro for problem\n",
      "[77.084, 80.0, 76.666, 40.742000000000004]\n",
      "Mic Distance =  0.08906532209563944\n",
      "==================================\n",
      "==================================\n"
     ]
    }
   ],
   "source": [
    "#Evaluation (By Class) [Threshold = -0.015]\n",
    "_evaluate(classes.copy(),_num_of_folds,_feature,'class',-0.777)"
   ]
  },
  {
   "cell_type": "code",
   "execution_count": 71,
   "metadata": {
    "collapsed": true
   },
   "outputs": [
    {
     "name": "stdout",
     "output_type": "stream",
     "text": [
      "Evaluating Fold [0]\n",
      "Evaluating Fold [1]\n",
      "Evaluating Fold [2]\n",
      "Evaluating Fold [3]\n",
      "Evaluating Fold [4]\n",
      "acc===sens====spec=============mcc\n",
      "==================================\n",
      "Total Macro for problem\n",
      "[89.32950000000001, 36.121, 91.9485, 34.036]\n",
      "Mac Distance =  0.47131840187923923\n",
      "----------------------------------\n",
      "Total Micro for problem\n",
      "[89.33, 57.318, 93.902, 51.222]\n",
      "Mic Distance =  0.3159842926475935\n",
      "==================================\n",
      "==================================\n"
     ]
    }
   ],
   "source": [
    "#Evaluation (By Fold)\n",
    "_evaluate(classes.copy(),_num_of_folds,_feature,'fold')"
   ]
  },
  {
   "cell_type": "markdown",
   "metadata": {},
   "source": [
    "#### Down Sampled"
   ]
  },
  {
   "cell_type": "code",
   "execution_count": 95,
   "metadata": {
    "collapsed": true
   },
   "outputs": [
    {
     "name": "stdout",
     "output_type": "stream",
     "text": [
      "Processing fold [ 0 ]\n",
      "Processing fold [ 1 ]\n",
      "Processing fold [ 2 ]\n",
      "Processing fold [ 3 ]\n",
      "Processing fold [ 4 ]\n",
      "Classifying fold [ 0 ]\n",
      "Classifying fold [ 1 ]\n",
      "Classifying fold [ 2 ]\n",
      "Classifying fold [ 3 ]\n",
      "Classifying fold [ 4 ]\n"
     ]
    }
   ],
   "source": [
    "#Train Test Folds to File\n",
    "_feature=\"aac8LocalDownSampled\"\n",
    "_trainTest2File(train_test_downSampled.copy(),classes.copy(),_num_of_folds,_feature)\n",
    "_scikitClassify(classes.copy(),_num_of_folds,_params_['aac8Local'],_feature)"
   ]
  },
  {
   "cell_type": "code",
   "execution_count": 96,
   "metadata": {
    "collapsed": true
   },
   "outputs": [
    {
     "name": "stdout",
     "output_type": "stream",
     "text": [
      "Evaluating Fold [0]\n",
      "Evaluating Fold [1]\n",
      "Evaluating Fold [2]\n",
      "Evaluating Fold [3]\n",
      "Evaluating Fold [4]\n",
      "acc===sens====spec=============mcc\n",
      "==================================\n",
      "Total Macro for problem\n",
      "[88.1055, 12.215250000000001, 98.86800000000001, 18.67575]\n",
      "Mac Distance =  0.7422196534635149\n",
      "----------------------------------\n",
      "Total Micro for problem\n",
      "[88.102, 12.187999999999999, 98.86800000000001, 23.174]\n",
      "Mic Distance =  0.7270910993816387\n",
      "==================================\n",
      "==================================\n"
     ]
    }
   ],
   "source": [
    "#Evaluation (By Class)\n",
    "_evaluate(classes.copy(),_num_of_folds,_feature,'class')"
   ]
  },
  {
   "cell_type": "code",
   "execution_count": 101,
   "metadata": {
    "collapsed": true
   },
   "outputs": [
    {
     "name": "stdout",
     "output_type": "stream",
     "text": [
      "Evaluating Fold [0]\n",
      "Evaluating Fold [1]\n",
      "Evaluating Fold [2]\n",
      "Evaluating Fold [3]\n",
      "Evaluating Fold [4]\n",
      "acc===sens====spec=============mcc\n",
      "==================================\n",
      "Total Macro for problem\n",
      "[67.9165, 69.16675000000001, 67.7385, 26.560249999999996]\n",
      "Mac Distance =  0.21723947733434643\n",
      "----------------------------------\n",
      "Total Micro for problem\n",
      "[67.91600000000001, 69.16600000000001, 67.738, 25.362000000000002]\n",
      "Mic Distance =  0.22802907709325138\n",
      "==================================\n",
      "==================================\n"
     ]
    }
   ],
   "source": [
    "#Evaluation (By Class) [Threshold = -0.02]\n",
    "_evaluate(classes.copy(),_num_of_folds,_feature,'class',-0.755)"
   ]
  },
  {
   "cell_type": "code",
   "execution_count": 97,
   "metadata": {
    "collapsed": true
   },
   "outputs": [
    {
     "name": "stdout",
     "output_type": "stream",
     "text": [
      "Evaluating Fold [0]\n",
      "Evaluating Fold [1]\n",
      "Evaluating Fold [2]\n",
      "Evaluating Fold [3]\n",
      "Evaluating Fold [4]\n",
      "acc===sens====spec=============mcc\n",
      "==================================\n",
      "Total Macro for problem\n",
      "[85.105, 40.415749999999996, 91.48974999999999, 30.096249999999998]\n",
      "Mac Distance =  0.43449512392977446\n",
      "----------------------------------\n",
      "Total Micro for problem\n",
      "[85.106, 40.416000000000004, 91.49, 31.901999999999997]\n",
      "Mic Distance =  0.42821714304777664\n",
      "==================================\n",
      "==================================\n"
     ]
    }
   ],
   "source": [
    "_evaluate(classes.copy(),_num_of_folds,_feature,'fold')"
   ]
  },
  {
   "cell_type": "markdown",
   "metadata": {},
   "source": [
    "#### Shuffled"
   ]
  },
  {
   "cell_type": "code",
   "execution_count": 103,
   "metadata": {
    "collapsed": true
   },
   "outputs": [
    {
     "name": "stdout",
     "output_type": "stream",
     "text": [
      "Processing fold [ 0 ]\n",
      "Processing fold [ 1 ]\n",
      "Processing fold [ 2 ]\n",
      "Processing fold [ 3 ]\n",
      "Processing fold [ 4 ]\n",
      "Classifying fold [ 0 ]\n",
      "Classifying fold [ 1 ]\n",
      "Classifying fold [ 2 ]\n",
      "Classifying fold [ 3 ]\n",
      "Classifying fold [ 4 ]\n"
     ]
    }
   ],
   "source": [
    "#Train Test Folds to File\n",
    "_feature=\"aac8LocalShuffled\"\n",
    "_trainTest2File(train_test_shuffled.copy(),classes.copy(),_num_of_folds,_feature)\n",
    "_scikitClassify(classes.copy(),_num_of_folds,_params_['aac8Local'],_feature)"
   ]
  },
  {
   "cell_type": "code",
   "execution_count": 104,
   "metadata": {
    "collapsed": true
   },
   "outputs": [
    {
     "name": "stdout",
     "output_type": "stream",
     "text": [
      "Evaluating Fold [0]\n",
      "Evaluating Fold [1]\n",
      "Evaluating Fold [2]\n",
      "Evaluating Fold [3]\n",
      "Evaluating Fold [4]\n",
      "acc===sens====spec=============mcc\n",
      "==================================\n",
      "Total Macro for problem\n",
      "[90.072, 17.17525, 96.6855, 20.9535]\n",
      "Mac Distance =  0.6890600818551675\n",
      "----------------------------------\n",
      "Total Micro for problem\n",
      "[90.102, 36.528, 97.68800000000002, 45.583999999999996]\n",
      "Mic Distance =  0.4816490431839351\n",
      "==================================\n",
      "==================================\n"
     ]
    }
   ],
   "source": [
    "#Evaluation (By Class)\n",
    "_evaluate(classes.copy(),_num_of_folds,_feature,'class')"
   ]
  },
  {
   "cell_type": "code",
   "execution_count": 135,
   "metadata": {
    "collapsed": true
   },
   "outputs": [
    {
     "name": "stdout",
     "output_type": "stream",
     "text": [
      "Evaluating Fold [0]\n",
      "Evaluating Fold [1]\n",
      "Evaluating Fold [2]\n",
      "Evaluating Fold [3]\n",
      "Evaluating Fold [4]\n",
      "acc===sens====spec=============mcc\n",
      "==================================\n",
      "Total Macro for problem\n",
      "[74.36475, 56.2735, 70.07700000000001, 22.269750000000002]\n",
      "Mac Distance =  0.3018425547988554\n",
      "----------------------------------\n",
      "Total Micro for problem\n",
      "[74.364, 79.41799999999999, 73.64200000000001, 37.33800000000001]\n",
      "Mic Distance =  0.09916225491586993\n",
      "==================================\n",
      "==================================\n"
     ]
    }
   ],
   "source": [
    "#Evaluation (By Class) [Threshold = -0.02]\n",
    "_evaluate(classes.copy(),_num_of_folds,_feature,'class',-0.777)"
   ]
  },
  {
   "cell_type": "code",
   "execution_count": 106,
   "metadata": {
    "collapsed": true
   },
   "outputs": [
    {
     "name": "stdout",
     "output_type": "stream",
     "text": [
      "Evaluating Fold [0]\n",
      "Evaluating Fold [1]\n",
      "Evaluating Fold [2]\n",
      "Evaluating Fold [3]\n",
      "Evaluating Fold [4]\n",
      "acc===sens====spec=============mcc\n",
      "==================================\n",
      "Total Macro for problem\n",
      "[89.09525000000001, 33.786500000000004, 91.7335, 30.5055]\n",
      "Mac Distance =  0.4988425149596314\n",
      "----------------------------------\n",
      "Total Micro for problem\n",
      "[89.094, 56.376, 93.768, 50.144000000000005]\n",
      "Mic Distance =  0.3176597916010146\n",
      "==================================\n",
      "==================================\n"
     ]
    }
   ],
   "source": [
    "_evaluate(classes.copy(),_num_of_folds,_feature,'fold')"
   ]
  },
  {
   "cell_type": "markdown",
   "metadata": {},
   "source": [
    "### Gamma & Cost (Same for all classes)"
   ]
  },
  {
   "cell_type": "markdown",
   "metadata": {},
   "source": [
    "#### Normal Dataset"
   ]
  },
  {
   "cell_type": "code",
   "execution_count": 107,
   "metadata": {
    "collapsed": true
   },
   "outputs": [
    {
     "name": "stdout",
     "output_type": "stream",
     "text": [
      "Processing fold [ 0 ]\n",
      "Processing fold [ 1 ]\n",
      "Processing fold [ 2 ]\n",
      "Processing fold [ 3 ]\n",
      "Processing fold [ 4 ]\n",
      "Classifying fold [ 0 ]\n",
      "Classifying fold [ 1 ]\n",
      "Classifying fold [ 2 ]\n",
      "Classifying fold [ 3 ]\n",
      "Classifying fold [ 4 ]\n"
     ]
    }
   ],
   "source": [
    "#Train Test Folds to File\n",
    "_feature=\"aac8GlobalNormal\"\n",
    "_trainTest2File(train_test_normal.copy(),classes.copy(),_num_of_folds,_feature)\n",
    "_scikitClassify(classes.copy(),_num_of_folds,_params_['aac8Global'],_feature)"
   ]
  },
  {
   "cell_type": "code",
   "execution_count": 108,
   "metadata": {
    "collapsed": true
   },
   "outputs": [
    {
     "name": "stdout",
     "output_type": "stream",
     "text": [
      "Evaluating Fold [0]\n",
      "Evaluating Fold [1]\n",
      "Evaluating Fold [2]\n",
      "Evaluating Fold [3]\n",
      "Evaluating Fold [4]\n",
      "acc===sens====spec=============mcc\n",
      "==================================\n",
      "Total Macro for problem\n",
      "[90.10175000000001, 15.262, 96.98475, 17.855249999999998]\n",
      "Mac Distance =  0.717741715534739\n",
      "----------------------------------\n",
      "Total Micro for problem\n",
      "[90.114, 35.224000000000004, 97.928, 45.43]\n",
      "Mic Distance =  0.4932876965828359\n",
      "==================================\n",
      "==================================\n"
     ]
    }
   ],
   "source": [
    "_evaluate(classes.copy(),_num_of_folds,_feature,'class')"
   ]
  },
  {
   "cell_type": "code",
   "execution_count": 112,
   "metadata": {
    "collapsed": true
   },
   "outputs": [
    {
     "name": "stdout",
     "output_type": "stream",
     "text": [
      "Evaluating Fold [0]\n",
      "Evaluating Fold [1]\n",
      "Evaluating Fold [2]\n",
      "Evaluating Fold [3]\n",
      "Evaluating Fold [4]\n",
      "acc===sens====spec=============mcc\n",
      "==================================\n",
      "Total Macro for problem\n",
      "[77.7085, 54.720749999999995, 74.14550000000001, 25.887999999999998]\n",
      "Mac Distance =  0.2860547311376794\n",
      "----------------------------------\n",
      "Total Micro for problem\n",
      "[77.708, 78.18799999999999, 77.638, 40.558]\n",
      "Mic Distance =  0.08797531244616297\n",
      "==================================\n",
      "==================================\n"
     ]
    }
   ],
   "source": [
    "#Evaluation (By Class) [Threshold = -0.02]\n",
    "_evaluate(classes.copy(),_num_of_folds,_feature,'class',-0.755)"
   ]
  },
  {
   "cell_type": "code",
   "execution_count": 109,
   "metadata": {
    "collapsed": true
   },
   "outputs": [
    {
     "name": "stdout",
     "output_type": "stream",
     "text": [
      "Evaluating Fold [0]\n",
      "Evaluating Fold [1]\n",
      "Evaluating Fold [2]\n",
      "Evaluating Fold [3]\n",
      "Evaluating Fold [4]\n",
      "acc===sens====spec=============mcc\n",
      "==================================\n",
      "Total Macro for problem\n",
      "[88.731, 31.398249999999997, 91.51275000000001, 29.211000000000002]\n",
      "Mac Distance =  0.5207628234258855\n",
      "----------------------------------\n",
      "Total Micro for problem\n",
      "[88.73, 54.928, 93.56200000000001, 48.489999999999995]\n",
      "Mic Distance =  0.32150496854636645\n",
      "==================================\n",
      "==================================\n"
     ]
    }
   ],
   "source": [
    "#Evaluation (By Fold)\n",
    "_evaluate(classes.copy(),_num_of_folds,_feature,'fold')"
   ]
  },
  {
   "cell_type": "markdown",
   "metadata": {},
   "source": [
    "#### Down-Sampled"
   ]
  },
  {
   "cell_type": "code",
   "execution_count": 113,
   "metadata": {
    "collapsed": true
   },
   "outputs": [
    {
     "name": "stdout",
     "output_type": "stream",
     "text": [
      "Processing fold [ 0 ]\n",
      "Processing fold [ 1 ]\n",
      "Processing fold [ 2 ]\n",
      "Processing fold [ 3 ]\n",
      "Processing fold [ 4 ]\n",
      "Classifying fold [ 0 ]\n",
      "Classifying fold [ 1 ]\n",
      "Classifying fold [ 2 ]\n",
      "Classifying fold [ 3 ]\n",
      "Classifying fold [ 4 ]\n"
     ]
    }
   ],
   "source": [
    "#Train Test Folds to File\n",
    "_feature=\"aac8GlobalDownSampled\"\n",
    "_trainTest2File(train_test_downSampled.copy(),classes.copy(),_num_of_folds,_feature)\n",
    "_scikitClassify(classes.copy(),_num_of_folds,_params_['aac8Global'],_feature)"
   ]
  },
  {
   "cell_type": "code",
   "execution_count": 114,
   "metadata": {},
   "outputs": [
    {
     "name": "stdout",
     "output_type": "stream",
     "text": [
      "Evaluating Fold [0]\n",
      "Evaluating Fold [1]\n",
      "Evaluating Fold [2]\n",
      "Evaluating Fold [3]\n",
      "Evaluating Fold [4]\n",
      "acc===sens====spec=============mcc\n",
      "==================================\n",
      "Total Macro for problem\n",
      "[87.75575, 9.716, 98.8695, 13.093250000000001]\n",
      "Mac Distance =  0.7844499123510055\n",
      "----------------------------------\n",
      "Total Micro for problem\n",
      "[87.756, 9.633999999999999, 98.86800000000001, 19.098000000000003]\n",
      "Mic Distance =  0.7619098384979682\n",
      "==================================\n",
      "==================================\n"
     ]
    }
   ],
   "source": [
    "_evaluate(classes.copy(),_num_of_folds,_feature,'class')"
   ]
  },
  {
   "cell_type": "code",
   "execution_count": 117,
   "metadata": {
    "collapsed": true
   },
   "outputs": [
    {
     "name": "stdout",
     "output_type": "stream",
     "text": [
      "Evaluating Fold [0]\n",
      "Evaluating Fold [1]\n",
      "Evaluating Fold [2]\n",
      "Evaluating Fold [3]\n",
      "Evaluating Fold [4]\n",
      "acc===sens====spec=============mcc\n",
      "==================================\n",
      "Total Macro for problem\n",
      "[68.75050000000002, 67.29225, 68.95824999999999, 26.002250000000004]\n",
      "Mac Distance =  0.2229583175029584\n",
      "----------------------------------\n",
      "Total Micro for problem\n",
      "[68.75, 67.28999999999999, 68.96000000000001, 25.056000000000004]\n",
      "Mic Distance =  0.2314883228156444\n",
      "==================================\n",
      "==================================\n"
     ]
    }
   ],
   "source": [
    "_evaluate(classes.copy(),_num_of_folds,_feature,'class',-0.75)"
   ]
  },
  {
   "cell_type": "code",
   "execution_count": 116,
   "metadata": {
    "collapsed": true
   },
   "outputs": [
    {
     "name": "stdout",
     "output_type": "stream",
     "text": [
      "Evaluating Fold [0]\n",
      "Evaluating Fold [1]\n",
      "Evaluating Fold [2]\n",
      "Evaluating Fold [3]\n",
      "Evaluating Fold [4]\n",
      "acc===sens====spec=============mcc\n",
      "==================================\n",
      "Total Macro for problem\n",
      "[85.3125, 41.25075, 91.60825, 31.284250000000004]\n",
      "Mac Distance =  0.42474859539938453\n",
      "----------------------------------\n",
      "Total Micro for problem\n",
      "[85.314, 41.25, 91.60600000000001, 32.85600000000001]\n",
      "Mic Distance =  0.4195625350290467\n",
      "==================================\n",
      "==================================\n"
     ]
    }
   ],
   "source": [
    "_evaluate(classes.copy(),_num_of_folds,_feature,'fold')"
   ]
  },
  {
   "cell_type": "markdown",
   "metadata": {},
   "source": [
    "#### Shuffled Dataset"
   ]
  },
  {
   "cell_type": "code",
   "execution_count": 118,
   "metadata": {
    "collapsed": true
   },
   "outputs": [
    {
     "name": "stdout",
     "output_type": "stream",
     "text": [
      "Processing fold [ 0 ]\n",
      "Processing fold [ 1 ]\n",
      "Processing fold [ 2 ]\n",
      "Processing fold [ 3 ]\n",
      "Processing fold [ 4 ]\n",
      "Classifying fold [ 0 ]\n",
      "Classifying fold [ 1 ]\n",
      "Classifying fold [ 2 ]\n",
      "Classifying fold [ 3 ]\n",
      "Classifying fold [ 4 ]\n"
     ]
    }
   ],
   "source": [
    "#Train Test Folds to File\n",
    "_feature=\"aac8GlobalShuffled\"\n",
    "_trainTest2File(train_test_shuffled.copy(),classes.copy(),_num_of_folds,_feature)\n",
    "_scikitClassify(classes.copy(),_num_of_folds,_params_['aac8Global'],_feature)"
   ]
  },
  {
   "cell_type": "code",
   "execution_count": 119,
   "metadata": {},
   "outputs": [
    {
     "name": "stdout",
     "output_type": "stream",
     "text": [
      "Evaluating Fold [0]\n",
      "Evaluating Fold [1]\n",
      "Evaluating Fold [2]\n",
      "Evaluating Fold [3]\n",
      "Evaluating Fold [4]\n",
      "acc===sens====spec=============mcc\n",
      "==================================\n",
      "Total Macro for problem\n",
      "[89.88175, 12.906, 97.0245, 15.679250000000001]\n",
      "Mac Distance =  0.7455789515453746\n",
      "----------------------------------\n",
      "Total Micro for problem\n",
      "[89.89200000000001, 33.282, 97.96, 43.684000000000005]\n",
      "Mic Distance =  0.5088840716705526\n",
      "==================================\n",
      "==================================\n"
     ]
    }
   ],
   "source": [
    "_evaluate(classes.copy(),_num_of_folds,_feature,'class')"
   ]
  },
  {
   "cell_type": "code",
   "execution_count": 134,
   "metadata": {
    "collapsed": true
   },
   "outputs": [
    {
     "name": "stdout",
     "output_type": "stream",
     "text": [
      "Evaluating Fold [0]\n",
      "Evaluating Fold [1]\n",
      "Evaluating Fold [2]\n",
      "Evaluating Fold [3]\n",
      "Evaluating Fold [4]\n",
      "acc===sens====spec=============mcc\n",
      "==================================\n",
      "Total Macro for problem\n",
      "[74.36475, 56.2735, 70.07700000000001, 22.269750000000002]\n",
      "Mac Distance =  0.3018425547988554\n",
      "----------------------------------\n",
      "Total Micro for problem\n",
      "[74.364, 79.41799999999999, 73.64200000000001, 37.33800000000001]\n",
      "Mic Distance =  0.09916225491586993\n",
      "==================================\n",
      "==================================\n"
     ]
    }
   ],
   "source": [
    "#Evaluation (By Class) [Threshold = -0.02]\n",
    "_evaluate(classes.copy(),_num_of_folds,_feature,'class',-0.777)"
   ]
  },
  {
   "cell_type": "code",
   "execution_count": 120,
   "metadata": {
    "collapsed": true
   },
   "outputs": [
    {
     "name": "stdout",
     "output_type": "stream",
     "text": [
      "Evaluating Fold [0]\n",
      "Evaluating Fold [1]\n",
      "Evaluating Fold [2]\n",
      "Evaluating Fold [3]\n",
      "Evaluating Fold [4]\n",
      "acc===sens====spec=============mcc\n",
      "==================================\n",
      "Total Macro for problem\n",
      "[88.15225, 28.051, 91.14900000000002, 23.677500000000002]\n",
      "Mac Distance =  0.5655902048579432\n",
      "----------------------------------\n",
      "Total Micro for problem\n",
      "[88.154, 52.60600000000001, 93.228, 45.836]\n",
      "Mic Distance =  0.3307640083201314\n",
      "==================================\n",
      "==================================\n"
     ]
    }
   ],
   "source": [
    "#Evaluation (By Fold)\n",
    "_evaluate(classes.copy(),_num_of_folds,_feature,'fold')"
   ]
  },
  {
   "cell_type": "code",
   "execution_count": null,
   "metadata": {},
   "outputs": [],
   "source": []
  }
 ],
 "metadata": {
  "kernelspec": {
   "display_name": "Python 3",
   "language": "python",
   "name": "python3"
  },
  "language_info": {
   "codemirror_mode": {
    "name": "ipython",
    "version": 3
   },
   "file_extension": ".py",
   "mimetype": "text/x-python",
   "name": "python",
   "nbconvert_exporter": "python",
   "pygments_lexer": "ipython3",
   "version": "3.7.0"
  }
 },
 "nbformat": 4,
 "nbformat_minor": 2
}
